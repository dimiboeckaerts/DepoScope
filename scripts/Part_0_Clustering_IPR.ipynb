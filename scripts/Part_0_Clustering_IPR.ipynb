{
 "cells": [
  {
   "cell_type": "markdown",
   "id": "72da98f7-7a05-4a8a-acd3-4aab49176632",
   "metadata": {},
   "source": [
    "# Generate the depolymerase DB based on Interproscan entries.\n",
    "***\n",
    "#### The multi fasta files of the intersting entries have already been downloaded. Here are the steps to follow :\n",
    "### I. Create a rep for each IPR entry\n",
    "### II. Cluster each entry using mmseqs\n",
    "### III. Generate the required files for the final DB\n",
    "### IV. Make the DB \n",
    "***"
   ]
  },
  {
   "cell_type": "code",
   "execution_count": null,
   "id": "8c01f03c-04ee-4ed8-a263-2f45617fb693",
   "metadata": {},
   "outputs": [],
   "source": [
    "import os \n",
    "\n",
    "path_try = \"/home/conchae/databases/depolymerase_building/db_try3\"\n",
    "\n",
    "for file in os.listdir(path_try):\n",
    "    if os.path.isfile(f\"{path_try}/{file}\")==True :\n",
    "        entry = file.split(\".\")[0]\n",
    "        try :\n",
    "            os.mkdir(f\"{path_try}/{entry}\")\n",
    "        except Exception as e :\n",
    "            pass\n",
    "        os.system(f\"mv {path_try}/{file} {path_try}/{entry}/{file}\")"
   ]
  },
  {
   "cell_type": "markdown",
   "id": "0df09fcb-88fd-4c4a-bec6-7cf42adcbec9",
   "metadata": {},
   "source": [
    "> Clean rep"
   ]
  },
  {
   "cell_type": "code",
   "execution_count": null,
   "id": "dc5a4f58-198f-4d17-9ab2-3b7c7ba33dcf",
   "metadata": {},
   "outputs": [],
   "source": []
  },
  {
   "cell_type": "markdown",
   "id": "328c8b0b-7139-46d9-b5a5-e3e2a1261f21",
   "metadata": {},
   "source": [
    "***\n",
    "### Make a list with the length of the multi domain fasta files\n",
    "### ==> We will work with the files with more than threshold (200?) sequences "
   ]
  },
  {
   "cell_type": "code",
   "execution_count": null,
   "id": "57e1eaab-8a97-4c25-96a1-b8a1f188ad9f",
   "metadata": {},
   "outputs": [],
   "source": [
    "dico_length = {}\n",
    "for ipr in os.listdir(path_try):\n",
    "    len_ipr = len(open(f\"{path_try}/{ipr}/{ipr}.domain.sequences.corrected.fasta\").read().split(\">\")[1:])\n",
    "    dico_length[ipr] = len_ipr\n",
    "    \n",
    "lengths = [value for key,value in dico_length.items()]\n",
    "work_ipr = [key for key,value in dico_length.items() if value>300]\n",
    "\n",
    "dico_lengths = {'IPR029070': 52109, 'IPR037019': 8899, 'IPR016286': 19804, 'IPR036026': 25050, 'IPR001661': 17824, 'IPR005193': 2793, 'IPR012970': 4639, 'IPR033654': 69645, 'IPR023296': 151309, 'IPR039473': 2246, 'IPR044112': 2399, 'IPR025706': 1890, 'IPR014635': 2056, 'IPR001860': 101455, 'IPR016455': 8610, 'IPR008929': 44989, 'IPR005604': 1106, 'IPR006046': 16930, 'IPR039514': 3591, 'IPR024430': 97, 'IPR000757': 61771, 'IPR006421': 2287, 'IPR002152': 2006, 'IPR012480': 21278, 'IPR024746': 4644, 'IPR023346': 392829, 'IPR023720': 1968, 'IPR001329': 260, 'IPR011395': 2802, 'IPR001000': 22626, 'IPR009470': 1613, 'IPR013189': 25625, 'IPR034641': 4607, 'IPR011050': 347969, 'IPR040527': 422, 'IPR003476': 15767, 'IPR039513': 2917, 'IPR013830': 150893, 'IPR009860': 153, 'IPR046372': 4681, 'IPR015179': 1911, 'IPR017736': 14158, 'IPR011100': 4098, 'IPR026283': 9578, 'IPR019282': 12066, 'IPR045032': 18939, 'IPR032091': 24904, 'IPR024732': 5197, 'IPR040784': 2123, 'IPR001547': 62267, 'IPR027291': 40571, 'IPR016283': 5737, 'IPR015178': 1726, 'IPR007724': 4520, 'IPR006710': 70792, 'IPR009939': 2484, 'IPR039448': 61531, 'IPR015883': 40721, 'IPR000726': 15991, 'IPR005323': 5118, 'IPR002037': 8854, 'IPR001439': 646, 'IPR043534': 4235, 'IPR029456': 1192, 'IPR005197': 4125, 'IPR015289': 2114, 'IPR008979': 464077, 'IPR013776': 6435, 'IPR006065': 43, 'IPR000490': 23775, 'IPR012334': 278621, 'IPR001137': 4918, 'IPR012939': 27588, 'IPR016288': 8477, 'IPR032312': 17648, 'IPR001362': 29052, 'IPR006626': 126881, 'IPR005200': 5347, 'IPR016590': 1661, 'IPR002022': 19415, 'IPR008585': 2477, 'IPR037398': 3747, 'IPR011496': 7094, 'IPR005201': 4606, 'IPR000933': 29250, 'IPR002594': 5587, 'IPR036278': 186051, 'IPR036434': 8573, 'IPR001724': 93, 'IPR023309': 1723, 'IPR004197': 7469, 'IPR005192': 320, 'IPR021865': 994, 'IPR032979': 4625, 'IPR039743': 3727, 'IPR004888': 15540, 'IPR016840': 4257, 'IPR006101': 42326, 'IPR014895': 5252, 'IPR011613': 36431, 'IPR041624': 4180, 'IPR015177': 1289, 'IPR000677': 1106, 'IPR024561': 4412, 'IPR013785': 2385709, 'IPR011040': 31474, 'IPR016007': 9748, 'IPR008397': 12957, 'IPR000556': 2175, 'IPR026856': 14827, 'IPR037110': 3830, 'IPR023295': 258, 'IPR013148': 31691, 'IPR002241': 19796, 'IPR001371': 1839, 'IPR019563': 11951, 'IPR005199': 4458, 'IPR006048': 43043, 'IPR002252': 18624, 'IPR001286': 2990, 'IPR011583': 59745, 'IPR003469': 2407, 'IPR014551': 2765, 'IPR035396': 25319, 'IPR032792': 4070, 'IPR011840': 5602, 'IPR033452': 12394, 'IPR006584': 15085, 'IPR001722': 8805, 'IPR015165': 121, 'IPR003159': 6041, 'IPR013319': 10984, 'IPR045857': 73731, 'IPR044846': 21085, 'IPR006775': 6987, 'IPR001139': 15294, 'IPR011683': 6798, 'IPR021016': 53, 'IPR041542': 20817, 'IPR039174': 1412, 'IPR000322': 55518, 'IPR024535': 22134, 'IPR024428': 103, 'IPR015331': 716, 'IPR024745': 1063, 'IPR031335': 8738, 'IPR016289': 225, 'IPR010702': 554, 'IPR036881': 91763, 'IPR004898': 5786, 'IPR026071': 3512, 'IPR023933': 1692, 'IPR002925': 79809, 'IPR012878': 21025, 'IPR035669': 22709, 'IPR025975': 3232, 'IPR017069': 1989, 'IPR000400': 2236, 'IPR044914': 426, 'IPR010713': 9582, 'IPR008902': 14734, 'IPR006047': 236612, 'IPR010720': 18798, 'IPR035394': 1570, 'IPR036962': 122105, 'IPR024429': 84, 'IPR016285': 3584, 'IPR000334': 1961, 'IPR006103': 64784, 'IPR011837': 22586, 'IPR016287': 509, 'IPR013777': 2507, 'IPR039279': 4079, 'IPR029411': 5983, 'IPR013775': 949, 'IPR018155': 6712, 'IPR044505': 24574, 'IPR016282': 680, 'IPR000125': 207, 'IPR011330': 265970, 'IPR000852': 463, 'IPR001382': 24977, 'IPR015220': 2472, 'IPR014718': 165874, 'IPR041111': 892, 'IPR001088': 22431, 'IPR000805': 9902, 'IPR011838': 875, 'IPR032790': 13783, 'IPR006425': 812, 'IPR006215': 531, 'IPR018082': 7191, 'IPR027946': 1704, 'IPR005198': 13859, 'IPR006633': 12261, 'IPR001223': 82378, 'IPR000974': 3237, 'IPR003790': 16879, 'IPR000514': 7661, 'IPR031330': 26061, 'IPR000743': 43329, 'IPR038970': 4721, 'IPR025092': 1071, 'IPR016714': 1245, 'IPR022844': 1608, 'IPR022859': 947, 'IPR008291': 1225, 'IPR004185': 9482, 'IPR024733': 5414, 'IPR027260': 36, 'IPR038901': 5145, 'IPR000922': 19437, 'IPR007781': 5621, 'IPR024200': 797, 'IPR036439': 43445, 'IPR000165': 2522, 'IPR016828': 4252, 'IPR010905': 24868, 'IPR011839': 3172, 'IPR038964': 1978, 'IPR041351': 3850, 'IPR001554': 4969, 'IPR008811': 5419}\n",
    "\n",
    "# == > threshold = 300\n",
    "\n",
    "work_ipr = ['IPR029070', 'IPR037019', 'IPR016286', 'IPR036026', 'IPR001661', 'IPR005193', 'IPR012970', 'IPR033654', 'IPR023296', 'IPR039473', 'IPR044112', 'IPR025706', 'IPR014635', 'IPR001860', 'IPR016455', 'IPR008929', 'IPR005604', 'IPR006046', 'IPR039514', 'IPR000757', 'IPR006421', 'IPR002152', 'IPR012480', 'IPR024746', 'IPR023346', 'IPR023720', 'IPR011395', 'IPR001000', 'IPR009470', 'IPR013189', 'IPR034641', 'IPR011050', 'IPR040527', 'IPR003476', 'IPR039513', 'IPR013830', 'IPR046372', 'IPR015179', 'IPR017736', 'IPR011100', 'IPR026283', 'IPR019282', 'IPR045032', 'IPR032091', 'IPR024732', 'IPR040784', 'IPR001547', 'IPR027291', 'IPR016283', 'IPR015178', 'IPR007724', 'IPR006710', 'IPR009939', 'IPR039448', 'IPR015883', 'IPR000726', 'IPR005323', 'IPR002037', 'IPR001439', 'IPR043534', 'IPR029456', 'IPR005197', 'IPR015289', 'IPR008979', 'IPR013776', 'IPR000490', 'IPR012334', 'IPR001137', 'IPR012939', 'IPR016288', 'IPR032312', 'IPR001362', 'IPR006626', 'IPR005200', 'IPR016590', 'IPR002022', 'IPR008585', 'IPR037398', 'IPR011496', 'IPR005201', 'IPR000933', 'IPR002594', 'IPR036278', 'IPR036434', 'IPR023309', 'IPR004197', 'IPR005192', 'IPR021865', 'IPR032979', 'IPR039743', 'IPR004888', 'IPR016840', 'IPR006101', 'IPR014895', 'IPR011613', 'IPR041624', 'IPR015177', 'IPR000677', 'IPR024561', 'IPR013785', 'IPR011040', 'IPR016007', 'IPR008397', 'IPR000556', 'IPR026856', 'IPR037110', 'IPR013148', 'IPR002241', 'IPR001371', 'IPR019563', 'IPR005199', 'IPR006048', 'IPR002252', 'IPR001286', 'IPR011583', 'IPR003469', 'IPR014551', 'IPR035396', 'IPR032792', 'IPR011840', 'IPR033452', 'IPR006584', 'IPR001722', 'IPR003159', 'IPR013319', 'IPR045857', 'IPR044846', 'IPR006775', 'IPR001139', 'IPR011683', 'IPR041542', 'IPR039174', 'IPR000322', 'IPR024535', 'IPR015331', 'IPR024745', 'IPR031335', 'IPR010702', 'IPR036881', 'IPR004898', 'IPR026071', 'IPR023933', 'IPR002925', 'IPR012878', 'IPR035669', 'IPR025975', 'IPR017069', 'IPR000400', 'IPR044914', 'IPR010713', 'IPR008902', 'IPR006047', 'IPR010720', 'IPR035394', 'IPR036962', 'IPR016285', 'IPR000334', 'IPR006103', 'IPR011837', 'IPR016287', 'IPR013777', 'IPR039279', 'IPR029411', 'IPR013775', 'IPR018155', 'IPR044505', 'IPR016282', 'IPR011330', 'IPR000852', 'IPR001382', 'IPR015220', 'IPR014718', 'IPR041111', 'IPR001088', 'IPR000805', 'IPR011838', 'IPR032790', 'IPR006425', 'IPR006215', 'IPR018082', 'IPR027946', 'IPR005198', 'IPR006633', 'IPR001223', 'IPR000974', 'IPR003790', 'IPR000514', 'IPR031330', 'IPR000743', 'IPR038970', 'IPR025092', 'IPR016714', 'IPR022844', 'IPR022859', 'IPR008291', 'IPR004185', 'IPR024733', 'IPR038901', 'IPR000922', 'IPR007781', 'IPR024200', 'IPR036439', 'IPR000165', 'IPR016828', 'IPR010905', 'IPR011839', 'IPR038964', 'IPR041351', 'IPR001554', 'IPR008811']\n"
   ]
  },
  {
   "cell_type": "markdown",
   "id": "ad5bbdb0-aad8-40ff-9317-01c43252cf0f",
   "metadata": {},
   "source": [
    "***\n",
    "II. Create cluster"
   ]
  },
  {
   "cell_type": "markdown",
   "id": "93b61411-8a08-4023-b755-040c1810ac86",
   "metadata": {},
   "source": [
    "> Prepare db"
   ]
  },
  {
   "cell_type": "code",
   "execution_count": null,
   "id": "c20f00fa-fce2-4ee4-8552-573d20d99008",
   "metadata": {},
   "outputs": [],
   "source": [
    "import os \n",
    "from multiprocessing.pool import ThreadPool\n",
    "import subprocess\n",
    "\n",
    "path_try = \"/home/conchae/databases/depolymerase_building/db_try3\"\n",
    "work_ipr = ['IPR029070', 'IPR037019', 'IPR016286', 'IPR036026', 'IPR001661', 'IPR005193', 'IPR012970', 'IPR033654', 'IPR023296', 'IPR039473', 'IPR044112', 'IPR025706', 'IPR014635', 'IPR001860', 'IPR016455', 'IPR008929', 'IPR005604', 'IPR006046', 'IPR039514', 'IPR000757', 'IPR006421', 'IPR002152', 'IPR012480', 'IPR024746', 'IPR023346', 'IPR023720', 'IPR011395', 'IPR001000', 'IPR009470', 'IPR013189', 'IPR034641', 'IPR011050', 'IPR040527', 'IPR003476', 'IPR039513', 'IPR013830', 'IPR046372', 'IPR015179', 'IPR017736', 'IPR011100', 'IPR026283', 'IPR019282', 'IPR045032', 'IPR032091', 'IPR024732', 'IPR040784', 'IPR001547', 'IPR027291', 'IPR016283', 'IPR015178', 'IPR007724', 'IPR006710', 'IPR009939', 'IPR039448', 'IPR015883', 'IPR000726', 'IPR005323', 'IPR002037', 'IPR001439', 'IPR043534', 'IPR029456', 'IPR005197', 'IPR015289', 'IPR008979', 'IPR013776', 'IPR000490', 'IPR012334', 'IPR001137', 'IPR012939', 'IPR016288', 'IPR032312', 'IPR001362', 'IPR006626', 'IPR005200', 'IPR016590', 'IPR002022', 'IPR008585', 'IPR037398', 'IPR011496', 'IPR005201', 'IPR000933', 'IPR002594', 'IPR036278', 'IPR036434', 'IPR023309', 'IPR004197', 'IPR005192', 'IPR021865', 'IPR032979', 'IPR039743', 'IPR004888', 'IPR016840', 'IPR006101', 'IPR014895', 'IPR011613', 'IPR041624', 'IPR015177', 'IPR000677', 'IPR024561', 'IPR013785', 'IPR011040', 'IPR016007', 'IPR008397', 'IPR000556', 'IPR026856', 'IPR037110', 'IPR013148', 'IPR002241', 'IPR001371', 'IPR019563', 'IPR005199', 'IPR006048', 'IPR002252', 'IPR001286', 'IPR011583', 'IPR003469', 'IPR014551', 'IPR035396', 'IPR032792', 'IPR011840', 'IPR033452', 'IPR006584', 'IPR001722', 'IPR003159', 'IPR013319', 'IPR045857', 'IPR044846', 'IPR006775', 'IPR001139', 'IPR011683', 'IPR041542', 'IPR039174', 'IPR000322', 'IPR024535', 'IPR015331', 'IPR024745', 'IPR031335', 'IPR010702', 'IPR036881', 'IPR004898', 'IPR026071', 'IPR023933', 'IPR002925', 'IPR012878', 'IPR035669', 'IPR025975', 'IPR017069', 'IPR000400', 'IPR044914', 'IPR010713', 'IPR008902', 'IPR006047', 'IPR010720', 'IPR035394', 'IPR036962', 'IPR016285', 'IPR000334', 'IPR006103', 'IPR011837', 'IPR016287', 'IPR013777', 'IPR039279', 'IPR029411', 'IPR013775', 'IPR018155', 'IPR044505', 'IPR016282', 'IPR011330', 'IPR000852', 'IPR001382', 'IPR015220', 'IPR014718', 'IPR041111', 'IPR001088', 'IPR000805', 'IPR011838', 'IPR032790', 'IPR006425', 'IPR006215', 'IPR018082', 'IPR027946', 'IPR005198', 'IPR006633', 'IPR001223', 'IPR000974', 'IPR003790', 'IPR000514', 'IPR031330', 'IPR000743', 'IPR038970', 'IPR025092', 'IPR016714', 'IPR022844', 'IPR022859', 'IPR008291', 'IPR004185', 'IPR024733', 'IPR038901', 'IPR000922', 'IPR007781', 'IPR024200', 'IPR036439', 'IPR000165', 'IPR016828', 'IPR010905', 'IPR011839', 'IPR038964', 'IPR041351', 'IPR001554', 'IPR008811']\n",
    "\n",
    "def prepare_clustering(path_fasta) :\n",
    "    ipr_name = path_fasta.split(\"/\")[-2]\n",
    "    path_tmp = \"/\".join(path_fasta.split(\"/\")[0:-1]) + f\"/{ipr_name}_db\"\n",
    "    command = f\"mmseqs createdb {path_fasta} {path_tmp}\"\n",
    "    prepare_clust = subprocess.Popen(command, shell =True, stdout=subprocess.PIPE, stderr=subprocess.STDOUT)\n",
    "    scan_out, scan_err = prepare_clust.communicate()\n",
    "    return scan_out, scan_err\n",
    "\n",
    "path_files = [f\"{path_try}/{ipr}/{ipr}.domain.sequences.corrected.fasta\" for ipr in work_ipr]\n",
    "\n",
    "if __name__ == '__main__':\n",
    "    with ThreadPool(20) as pool:\n",
    "        pool.map(prepare_clustering, path_files)\n",
    "\n",
    "# ********************************************************************************************************************************************************************        \n",
    "#!/bin/bash\n",
    "#BATCH --job-name=prepare_cluster\n",
    "#SBATCH --qos=short\n",
    "#SBATCH --ntasks=1 \n",
    "#SBATCH --cpus-per-task=20 \n",
    "#SBATCH --mem=100gb \n",
    "#SBATCH --time=1-00:00:00 \n",
    "#SBATCH --output=prepare_cluster%j.log \n",
    "\n",
    "source /storage/apps/ANACONDA/anaconda3/etc/profile.d/conda.sh\n",
    "conda activate clustering\n",
    "\n",
    "python /home/conchae/databases/depolymerase_building/script_files/try_3/prepare_db.py"
   ]
  },
  {
   "cell_type": "markdown",
   "id": "af21a057-1d47-4c12-9cfe-455ed87e7f44",
   "metadata": {},
   "source": [
    "> Cluster <br>\n",
    "\n",
    "Target coverage\n",
    "With --cov-mode 1 -c [0.0,1.0] (target-cov mode) only sequences are clustered that have a se-\n",
    "quence length overlap greater than X% of the target sequence. The target cov mode can be used to\n",
    "cluster protein fragments. To suppress fragments from becoming representative sequences, it is recom-\n",
    "mended to use --cluster-mode 2 in conjunction with --cov-mode 1. Default --cluster-mode\n",
    "is the greedy incremental clustering (by length)"
   ]
  },
  {
   "cell_type": "code",
   "execution_count": null,
   "id": "b07827cf-76fc-4b4b-ac31-e5f12dd4f89d",
   "metadata": {},
   "outputs": [],
   "source": [
    "import os \n",
    "from multiprocessing.pool import ThreadPool\n",
    "import subprocess\n",
    "\n",
    "path_try = \"/home/conchae/databases/depolymerase_building/db_try3\"\n",
    "work_ipr = ['IPR029070', 'IPR037019', 'IPR016286', 'IPR036026', 'IPR001661', 'IPR005193', 'IPR012970', 'IPR033654', 'IPR023296', 'IPR039473', 'IPR044112', 'IPR025706', 'IPR014635', 'IPR001860', 'IPR016455', 'IPR008929', 'IPR005604', 'IPR006046', 'IPR039514', 'IPR000757', 'IPR006421', 'IPR002152', 'IPR012480', 'IPR024746', 'IPR023346', 'IPR023720', 'IPR011395', 'IPR001000', 'IPR009470', 'IPR013189', 'IPR034641', 'IPR011050', 'IPR040527', 'IPR003476', 'IPR039513', 'IPR013830', 'IPR046372', 'IPR015179', 'IPR017736', 'IPR011100', 'IPR026283', 'IPR019282', 'IPR045032', 'IPR032091', 'IPR024732', 'IPR040784', 'IPR001547', 'IPR027291', 'IPR016283', 'IPR015178', 'IPR007724', 'IPR006710', 'IPR009939', 'IPR039448', 'IPR015883', 'IPR000726', 'IPR005323', 'IPR002037', 'IPR001439', 'IPR043534', 'IPR029456', 'IPR005197', 'IPR015289', 'IPR008979', 'IPR013776', 'IPR000490', 'IPR012334', 'IPR001137', 'IPR012939', 'IPR016288', 'IPR032312', 'IPR001362', 'IPR006626', 'IPR005200', 'IPR016590', 'IPR002022', 'IPR008585', 'IPR037398', 'IPR011496', 'IPR005201', 'IPR000933', 'IPR002594', 'IPR036278', 'IPR036434', 'IPR023309', 'IPR004197', 'IPR005192', 'IPR021865', 'IPR032979', 'IPR039743', 'IPR004888', 'IPR016840', 'IPR006101', 'IPR014895', 'IPR011613', 'IPR041624', 'IPR015177', 'IPR000677', 'IPR024561', 'IPR013785', 'IPR011040', 'IPR016007', 'IPR008397', 'IPR000556', 'IPR026856', 'IPR037110', 'IPR013148', 'IPR002241', 'IPR001371', 'IPR019563', 'IPR005199', 'IPR006048', 'IPR002252', 'IPR001286', 'IPR011583', 'IPR003469', 'IPR014551', 'IPR035396', 'IPR032792', 'IPR011840', 'IPR033452', 'IPR006584', 'IPR001722', 'IPR003159', 'IPR013319', 'IPR045857', 'IPR044846', 'IPR006775', 'IPR001139', 'IPR011683', 'IPR041542', 'IPR039174', 'IPR000322', 'IPR024535', 'IPR015331', 'IPR024745', 'IPR031335', 'IPR010702', 'IPR036881', 'IPR004898', 'IPR026071', 'IPR023933', 'IPR002925', 'IPR012878', 'IPR035669', 'IPR025975', 'IPR017069', 'IPR000400', 'IPR044914', 'IPR010713', 'IPR008902', 'IPR006047', 'IPR010720', 'IPR035394', 'IPR036962', 'IPR016285', 'IPR000334', 'IPR006103', 'IPR011837', 'IPR016287', 'IPR013777', 'IPR039279', 'IPR029411', 'IPR013775', 'IPR018155', 'IPR044505', 'IPR016282', 'IPR011330', 'IPR000852', 'IPR001382', 'IPR015220', 'IPR014718', 'IPR041111', 'IPR001088', 'IPR000805', 'IPR011838', 'IPR032790', 'IPR006425', 'IPR006215', 'IPR018082', 'IPR027946', 'IPR005198', 'IPR006633', 'IPR001223', 'IPR000974', 'IPR003790', 'IPR000514', 'IPR031330', 'IPR000743', 'IPR038970', 'IPR025092', 'IPR016714', 'IPR022844', 'IPR022859', 'IPR008291', 'IPR004185', 'IPR024733', 'IPR038901', 'IPR000922', 'IPR007781', 'IPR024200', 'IPR036439', 'IPR000165', 'IPR016828', 'IPR010905', 'IPR011839', 'IPR038964', 'IPR041351', 'IPR001554', 'IPR008811']\n",
    "path_db = [f\"{path_try}/{ipr}/{ipr}_db\" for ipr in work_ipr]\n",
    "\n",
    "def cluster_db(path_db) :\n",
    "    ipr_name = path_db.split(\"/\")[-2]\n",
    "    path_tmp = \"/\".join(path_db.split(\"/\")[0:-1]) + f\"/tmp_cluster\"\n",
    "    path_cluster = \"/\".join(path_db.split(\"/\")[0:-1]) + f\"/{ipr_name}_cluster\"\n",
    "    command = f\"mmseqs cluster {path_db} {path_cluster} {path_tmp} --cov-mode 1 --seq-id-mode 1 --min-seq-id 0.50 --force-reuse false --sort-results 1 -c 0.5\"\n",
    "    cluster = subprocess.Popen(command, shell =True, stdout=subprocess.PIPE, stderr=subprocess.STDOUT)\n",
    "    scan_out, scan_err = cluster.communicate()\n",
    "    return scan_out, scan_err\n",
    "\n",
    "if __name__ == '__main__':\n",
    "    with ThreadPool(20) as pool:\n",
    "        pool.map(cluster_db, path_db)\n",
    "        \n",
    "# ********************************************************************************************************************************************************************        \n",
    "#!/bin/bash\n",
    "#BATCH --job-name=prepare_cluster\n",
    "#SBATCH --qos=short\n",
    "#SBATCH --ntasks=1 \n",
    "#SBATCH --cpus-per-task=20 \n",
    "#SBATCH --mem=100gb \n",
    "#SBATCH --time=1-00:00:00 \n",
    "#SBATCH --output=prepare_cluster%j.log \n",
    "\n",
    "source /storage/apps/ANACONDA/anaconda3/etc/profile.d/conda.sh\n",
    "conda activate clustering\n",
    "\n",
    "python /home/conchae/databases/depolymerase_building/script_files/try_3/cluster.py"
   ]
  },
  {
   "cell_type": "markdown",
   "id": "bd960022-3fa7-4e57-814c-b873b28eefea",
   "metadata": {},
   "source": [
    "> Generate seq db"
   ]
  },
  {
   "cell_type": "code",
   "execution_count": null,
   "id": "bf86f204-f70c-4eea-b356-cf10b8cc5819",
   "metadata": {},
   "outputs": [],
   "source": [
    "import os \n",
    "from multiprocessing.pool import ThreadPool\n",
    "import subprocess\n",
    "\n",
    "path_try = \"/home/conchae/databases/depolymerase_building/db_try3\"\n",
    "work_ipr = ['IPR029070', 'IPR037019', 'IPR016286', 'IPR036026', 'IPR001661', 'IPR005193', 'IPR012970', 'IPR033654', 'IPR023296', 'IPR039473', 'IPR044112', 'IPR025706', 'IPR014635', 'IPR001860', 'IPR016455', 'IPR008929', 'IPR005604', 'IPR006046', 'IPR039514', 'IPR000757', 'IPR006421', 'IPR002152', 'IPR012480', 'IPR024746', 'IPR023346', 'IPR023720', 'IPR011395', 'IPR001000', 'IPR009470', 'IPR013189', 'IPR034641', 'IPR011050', 'IPR040527', 'IPR003476', 'IPR039513', 'IPR013830', 'IPR046372', 'IPR015179', 'IPR017736', 'IPR011100', 'IPR026283', 'IPR019282', 'IPR045032', 'IPR032091', 'IPR024732', 'IPR040784', 'IPR001547', 'IPR027291', 'IPR016283', 'IPR015178', 'IPR007724', 'IPR006710', 'IPR009939', 'IPR039448', 'IPR015883', 'IPR000726', 'IPR005323', 'IPR002037', 'IPR001439', 'IPR043534', 'IPR029456', 'IPR005197', 'IPR015289', 'IPR008979', 'IPR013776', 'IPR000490', 'IPR012334', 'IPR001137', 'IPR012939', 'IPR016288', 'IPR032312', 'IPR001362', 'IPR006626', 'IPR005200', 'IPR016590', 'IPR002022', 'IPR008585', 'IPR037398', 'IPR011496', 'IPR005201', 'IPR000933', 'IPR002594', 'IPR036278', 'IPR036434', 'IPR023309', 'IPR004197', 'IPR005192', 'IPR021865', 'IPR032979', 'IPR039743', 'IPR004888', 'IPR016840', 'IPR006101', 'IPR014895', 'IPR011613', 'IPR041624', 'IPR015177', 'IPR000677', 'IPR024561', 'IPR013785', 'IPR011040', 'IPR016007', 'IPR008397', 'IPR000556', 'IPR026856', 'IPR037110', 'IPR013148', 'IPR002241', 'IPR001371', 'IPR019563', 'IPR005199', 'IPR006048', 'IPR002252', 'IPR001286', 'IPR011583', 'IPR003469', 'IPR014551', 'IPR035396', 'IPR032792', 'IPR011840', 'IPR033452', 'IPR006584', 'IPR001722', 'IPR003159', 'IPR013319', 'IPR045857', 'IPR044846', 'IPR006775', 'IPR001139', 'IPR011683', 'IPR041542', 'IPR039174', 'IPR000322', 'IPR024535', 'IPR015331', 'IPR024745', 'IPR031335', 'IPR010702', 'IPR036881', 'IPR004898', 'IPR026071', 'IPR023933', 'IPR002925', 'IPR012878', 'IPR035669', 'IPR025975', 'IPR017069', 'IPR000400', 'IPR044914', 'IPR010713', 'IPR008902', 'IPR006047', 'IPR010720', 'IPR035394', 'IPR036962', 'IPR016285', 'IPR000334', 'IPR006103', 'IPR011837', 'IPR016287', 'IPR013777', 'IPR039279', 'IPR029411', 'IPR013775', 'IPR018155', 'IPR044505', 'IPR016282', 'IPR011330', 'IPR000852', 'IPR001382', 'IPR015220', 'IPR014718', 'IPR041111', 'IPR001088', 'IPR000805', 'IPR011838', 'IPR032790', 'IPR006425', 'IPR006215', 'IPR018082', 'IPR027946', 'IPR005198', 'IPR006633', 'IPR001223', 'IPR000974', 'IPR003790', 'IPR000514', 'IPR031330', 'IPR000743', 'IPR038970', 'IPR025092', 'IPR016714', 'IPR022844', 'IPR022859', 'IPR008291', 'IPR004185', 'IPR024733', 'IPR038901', 'IPR000922', 'IPR007781', 'IPR024200', 'IPR036439', 'IPR000165', 'IPR016828', 'IPR010905', 'IPR011839', 'IPR038964', 'IPR041351', 'IPR001554', 'IPR008811']\n",
    "path_db = [f\"{path_try}/{ipr}/{ipr}_db\" for ipr in work_ipr]\n",
    "\n",
    "def create_files(path_db) :\n",
    "    ipr_name = path_db.split(\"/\")[-2]\n",
    "    path_tmp = \"/\".join(path_db.split(\"/\")[0:-1]) + f\"/tmp_cluster\"\n",
    "    path_cluster = \"/\".join(path_db.split(\"/\")[0:-1]) + f\"/{ipr_name}_cluster\"\n",
    "    path_cluster_seq = \"/\".join(path_db.split(\"/\")[0:-1]) + f\"/{ipr_name}_cluster_seq\"\n",
    "    command = f\"mmseqs createseqfiledb {path_db} {path_cluster} {path_cluster_seq}\"\n",
    "    command_2 = f\"mmseqs result2flat {path_db} {path_db}_ {path_cluster_seq} {path_cluster_seq}.fasta\"\n",
    "    command_3 = f\"mmseqs createtsv {path_db} {path_db} {path_cluster} {path_db}.tsv\"\n",
    "    create_db = subprocess.Popen(command, shell =True, stdout=subprocess.PIPE, stderr=subprocess.STDOUT)\n",
    "    second_f = subprocess.Popen(command_2, shell =True, stdout=subprocess.PIPE, stderr=subprocess.STDOUT)\n",
    "    create_tsv = subprocess.Popen(command_3, shell =True, stdout=subprocess.PIPE, stderr=subprocess.STDOUT)\n",
    "    scan_out, scan_err = create_db.communicate()\n",
    "    scan_out2, scan_err2 = second_f.communicate()\n",
    "    scan_out3, scan_err3 = create_tsv.communicate()\n",
    "    return scan_out, scan_err, scan_out2, scan_err2, scan_out3, scan_err3\n",
    "\n",
    "\n",
    "if __name__ == '__main__':\n",
    "    with ThreadPool(20) as pool:\n",
    "        pool.map(create_files, path_db)\n",
    "        \n",
    "# ********************************************************************************************************************************************************************        \n",
    "#!/bin/bash\n",
    "#BATCH --job-name=cluster_file_\n",
    "#SBATCH --qos=short\n",
    "#SBATCH --ntasks=1 \n",
    "#SBATCH --cpus-per-task=20 \n",
    "#SBATCH --mem=100gb \n",
    "#SBATCH --time=1-00:00:00 \n",
    "#SBATCH --output=cluster_file_%j.log \n",
    "\n",
    "source /storage/apps/ANACONDA/anaconda3/etc/profile.d/conda.sh\n",
    "conda activate clustering\n",
    "\n",
    "python /home/conchae/databases/depolymerase_building/script_files/try_3/cluster_files.py        "
   ]
  },
  {
   "cell_type": "code",
   "execution_count": null,
   "id": "cdd6c3ea-9629-4969-a686-87a4977641c1",
   "metadata": {},
   "outputs": [],
   "source": [
    "import os \n",
    "from multiprocessing.pool import ThreadPool\n",
    "import subprocess\n",
    "\n",
    "path_try = \"/home/conchae/databases/depolymerase_building/db_try3\"\n",
    "work_ipr = ['IPR029070', 'IPR037019', 'IPR016286', 'IPR036026', 'IPR001661', 'IPR005193', 'IPR012970', 'IPR033654', 'IPR023296', 'IPR039473', 'IPR044112', 'IPR025706', 'IPR014635', 'IPR001860', 'IPR016455', 'IPR008929', 'IPR005604', 'IPR006046', 'IPR039514', 'IPR000757', 'IPR006421', 'IPR002152', 'IPR012480', 'IPR024746', 'IPR023346', 'IPR023720', 'IPR011395', 'IPR001000', 'IPR009470', 'IPR013189', 'IPR034641', 'IPR011050', 'IPR040527', 'IPR003476', 'IPR039513', 'IPR013830', 'IPR046372', 'IPR015179', 'IPR017736', 'IPR011100', 'IPR026283', 'IPR019282', 'IPR045032', 'IPR032091', 'IPR024732', 'IPR040784', 'IPR001547', 'IPR027291', 'IPR016283', 'IPR015178', 'IPR007724', 'IPR006710', 'IPR009939', 'IPR039448', 'IPR015883', 'IPR000726', 'IPR005323', 'IPR002037', 'IPR001439', 'IPR043534', 'IPR029456', 'IPR005197', 'IPR015289', 'IPR008979', 'IPR013776', 'IPR000490', 'IPR012334', 'IPR001137', 'IPR012939', 'IPR016288', 'IPR032312', 'IPR001362', 'IPR006626', 'IPR005200', 'IPR016590', 'IPR002022', 'IPR008585', 'IPR037398', 'IPR011496', 'IPR005201', 'IPR000933', 'IPR002594', 'IPR036278', 'IPR036434', 'IPR023309', 'IPR004197', 'IPR005192', 'IPR021865', 'IPR032979', 'IPR039743', 'IPR004888', 'IPR016840', 'IPR006101', 'IPR014895', 'IPR011613', 'IPR041624', 'IPR015177', 'IPR000677', 'IPR024561', 'IPR013785', 'IPR011040', 'IPR016007', 'IPR008397', 'IPR000556', 'IPR026856', 'IPR037110', 'IPR013148', 'IPR002241', 'IPR001371', 'IPR019563', 'IPR005199', 'IPR006048', 'IPR002252', 'IPR001286', 'IPR011583', 'IPR003469', 'IPR014551', 'IPR035396', 'IPR032792', 'IPR011840', 'IPR033452', 'IPR006584', 'IPR001722', 'IPR003159', 'IPR013319', 'IPR045857', 'IPR044846', 'IPR006775', 'IPR001139', 'IPR011683', 'IPR041542', 'IPR039174', 'IPR000322', 'IPR024535', 'IPR015331', 'IPR024745', 'IPR031335', 'IPR010702', 'IPR036881', 'IPR004898', 'IPR026071', 'IPR023933', 'IPR002925', 'IPR012878', 'IPR035669', 'IPR025975', 'IPR017069', 'IPR000400', 'IPR044914', 'IPR010713', 'IPR008902', 'IPR006047', 'IPR010720', 'IPR035394', 'IPR036962', 'IPR016285', 'IPR000334', 'IPR006103', 'IPR011837', 'IPR016287', 'IPR013777', 'IPR039279', 'IPR029411', 'IPR013775', 'IPR018155', 'IPR044505', 'IPR016282', 'IPR011330', 'IPR000852', 'IPR001382', 'IPR015220', 'IPR014718', 'IPR041111', 'IPR001088', 'IPR000805', 'IPR011838', 'IPR032790', 'IPR006425', 'IPR006215', 'IPR018082', 'IPR027946', 'IPR005198', 'IPR006633', 'IPR001223', 'IPR000974', 'IPR003790', 'IPR000514', 'IPR031330', 'IPR000743', 'IPR038970', 'IPR025092', 'IPR016714', 'IPR022844', 'IPR022859', 'IPR008291', 'IPR004185', 'IPR024733', 'IPR038901', 'IPR000922', 'IPR007781', 'IPR024200', 'IPR036439', 'IPR000165', 'IPR016828', 'IPR010905', 'IPR011839', 'IPR038964', 'IPR041351', 'IPR001554', 'IPR008811']\n",
    "\n",
    "for ipr in work_ipr :\n",
    "    for file in os.listdir(f\"{path_try}/{ipr}\") :\n",
    "        if file.count(f\"{ipr}_cluster_seq\") > 0 :\n",
    "            cluster_fasta = open(f\"{path_try}/{ipr}/{file}\").read().split(\">\")[1:]\n",
    "            L = len(cluster_fasta)\n",
    "            if L > 1 :\n",
    "                print(file, L)\n",
    "    print(\"\\n\")"
   ]
  },
  {
   "cell_type": "markdown",
   "id": "1e638ddb-59c6-4fc9-9c15-789a786b06d1",
   "metadata": {},
   "source": [
    "***"
   ]
  },
  {
   "cell_type": "markdown",
   "id": "dd2e303e-46a8-412d-b655-b6fd24cced5f",
   "metadata": {},
   "source": [
    "### Functions"
   ]
  },
  {
   "cell_type": "code",
   "execution_count": null,
   "id": "d4cefe6a-dd4e-4b68-bc33-e794ad455df7",
   "metadata": {},
   "outputs": [],
   "source": [
    "def prepare_clustering(path_fasta) :\n",
    "    import subprocess\n",
    "    path_tmp = \"/\".join(path_fasta.split(\"/\")[0:-1]) + \"/tmp\"\n",
    "    command = f\"mmseqs createdb {path_fasta} {path_fasta}/ {path_tmp}\"\n",
    "    prepare_clust = subprocess.Popen(command, shell =True, stdout=subprocess.PIPE, stderr=subprocess.STDOUT)\n",
    "    scan_out, scan_err = prepare_clust.communicate()\n",
    "    \n",
    "def cluster_db(path_db) :\n",
    "    ipr_name = path_db.split(\"/\")[-2]\n",
    "    path_tmp = \"/\".join(path_db.split(\"/\")[0:-1]) + f\"/tmp_cluster\"\n",
    "    path_cluster = \"/\".join(path_db.split(\"/\")[0:-1]) + f\"/{ipr_name}_cluster\"\n",
    "    command = f\"mmseqs cluster {path_db} {path_cluster} {path_tmp}\"\n",
    "    cluster = subprocess.Popen(command, shell =True, stdout=subprocess.PIPE, stderr=subprocess.STDOUT)\n",
    "    scan_out, scan_err = cluster.communicate()\n",
    "    return scan_out, scan_err\n",
    "\n",
    "def create_files(path_db) :\n",
    "    ipr_name = path_db.split(\"/\")[-2]\n",
    "    path_tmp = \"/\".join(path_db.split(\"/\")[0:-1]) + f\"/tmp_cluster\"\n",
    "    path_cluster = \"/\".join(path_db.split(\"/\")[0:-1]) + f\"/{ipr_name}_cluster\"\n",
    "    path_cluster_seq = \"/\".join(path_db.split(\"/\")[0:-1]) + f\"/{ipr_name}_cluster_seq\"\n",
    "    command = f\"mmseqs createseqfiledb {path_db} {path_cluster} {path_cluster_seq}\"\n",
    "    create_db = subprocess.Popen(command, shell =True, stdout=subprocess.PIPE, stderr=subprocess.STDOUT)\n",
    "    scan_out, scan_err = create_db.communicate()\n",
    "    return scan_out, scan_err\n"
   ]
  }
 ],
 "metadata": {
  "kernelspec": {
   "display_name": "Python 3 (ipykernel)",
   "language": "python",
   "name": "python3"
  },
  "language_info": {
   "codemirror_mode": {
    "name": "ipython",
    "version": 3
   },
   "file_extension": ".py",
   "mimetype": "text/x-python",
   "name": "python",
   "nbconvert_exporter": "python",
   "pygments_lexer": "ipython3",
   "version": "3.9.13"
  }
 },
 "nbformat": 4,
 "nbformat_minor": 5
}
