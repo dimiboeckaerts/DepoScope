{
 "cells": [
  {
   "cell_type": "markdown",
   "id": "ff1c9bed",
   "metadata": {},
   "source": [
    "# Benchmarking against PhageDPO and DePP\n",
    "\n",
    "1. First download PhageDPO from the [Galaxy framework](https://toolshed.g2.bx.psu.edu/repository?repository_id=77543962c4205a70) and get all the necessary files. This notebook can be put right in the same folder.\n",
    "2. Download [the CLI code](https://github.com/DamianJM/Depolymerase-Predictor/tree/main/DePP_CLI) for DePP."
   ]
  },
  {
   "cell_type": "markdown",
   "id": "1c0defbd",
   "metadata": {},
   "source": [
    "### Libraries"
   ]
  },
  {
   "cell_type": "code",
   "execution_count": 6,
   "id": "6c1de41c",
   "metadata": {},
   "outputs": [],
   "source": [
    "import os\n",
    "import sys\n",
    "import pickle\n",
    "import subprocess\n",
    "from Bio.Seq import Seq\n",
    "from Bio import SeqIO\n",
    "import pandas as pd\n",
    "import numpy as np\n",
    "from tqdm.notebook import tqdm\n",
    "from Bio.SeqUtils.ProtParam import ProteinAnalysis\n",
    "import warnings\n",
    "warnings.filterwarnings(\"ignore\")\n",
    "# PhageDPO\n",
    "from local_ctd import CalculateCTD\n",
    "from local_AAComposition import CalculateDipeptideComposition\n",
    "# DePP\n",
    "from DePP_processing import read_fasta, calculate_protein_parameters, generate_dataframe, save_dataframe\n",
    "from DePP_prediction import train_model, predict_depolymerases"
   ]
  },
  {
   "cell_type": "markdown",
   "id": "ce14b819",
   "metadata": {},
   "source": [
    "## PhageDPO in a notebook"
   ]
  },
  {
   "cell_type": "code",
   "execution_count": 20,
   "id": "2b8e185d",
   "metadata": {},
   "outputs": [],
   "source": [
    "class PDPOPrediction:\n",
    "\n",
    "    def __init__(self, folder='location', mdl='', seq_file='fasta_file.fasta', ttable=11):\n",
    "        \"\"\"\n",
    "        Initialize PhageDPO prediction.\n",
    "        :param folder: data path\n",
    "        :param mdl: ml model, in this case ANN or SVM\n",
    "        :param seq_file: fasta file\n",
    "        :param ttable: Translational table. By default, The Bacterial, Archaeal and Plant Plastid Code Table 11\n",
    "        \"\"\"\n",
    "        self.records = []\n",
    "        self.data = {}\n",
    "        self.df_output = None\n",
    "        self.seqfile = seq_file\n",
    "        self.__location__ = os.path.realpath(os.path.join(os.getcwd(), folder))\n",
    "\n",
    "        with open(os.path.join(self.__location__, mdl), 'rb') as m:\n",
    "            self.model0 = pickle.load(m)\n",
    "            self.model = self.model0.named_steps['clf']\n",
    "            self.scaler = self.model0.named_steps['scl']\n",
    "            self.selectk = self.model0.named_steps['selector']\n",
    "            self.name = 'model'\n",
    "\n",
    "        for seq in SeqIO.parse(os.path.join(self.__location__, self.seqfile), 'fasta'):\n",
    "            record = []\n",
    "            DNA_seq = seq.seq\n",
    "            AA_seq = DNA_seq.translate(table=ttable)\n",
    "            descr_seq = seq.description.replace(' ', '')\n",
    "            self.data[descr_seq] = [DNA_seq._data, AA_seq._data]\n",
    "            record.append(seq.description)\n",
    "            record.append(str(DNA_seq))\n",
    "            record.append(str(AA_seq))\n",
    "            self.records.append(record)\n",
    "\n",
    "        columns = ['ID', 'DNAseq', 'AAseq']\n",
    "        self.df = pd.DataFrame(self.records, columns=columns)\n",
    "        #self.df = self.df.set_index('ID')\n",
    "        self.df.update(self.df.DNAseq[self.df.DNAseq.apply(type) == list].str[0])\n",
    "        self.df.update(self.df.AAseq[self.df.AAseq.apply(type) == list].str[0])\n",
    "\n",
    "    def Datastructure(self):\n",
    "        \"\"\"\n",
    "        Create dataset with all features\n",
    "        \"\"\"\n",
    "        def count_orf(orf_seq):\n",
    "            \"\"\"\n",
    "            Function to count open reading frames\n",
    "            :param orf_seq: sequence to analyze\n",
    "            :return: dictionary with open reading frames\n",
    "            \"\"\"\n",
    "            dic = {'DNA-A': 0, 'DNA-C': 0, 'DNA-T': 0, 'DNA-G': 0, 'DNA-GC': 0}\n",
    "            for letter in range(len(orf_seq)):\n",
    "                for k in range(0, 4):\n",
    "                    if str(orf_seq[letter]) in list(dic.keys())[k][-1]:\n",
    "                        dic[list(dic.keys())[k]] += 1\n",
    "            dic['DNA-GC'] = ((dic['DNA-C'] + dic['DNA-G']) / (\n",
    "                    dic['DNA-A'] + dic['DNA-C'] + dic['DNA-T'] + dic['DNA-G'])) * 100\n",
    "            return dic\n",
    "\n",
    "        def count_aa(aa_seq):\n",
    "            \"\"\"\n",
    "            Function to count amino acids\n",
    "            :param aa_seq: sequence to analyze\n",
    "            :return: dictionary with amino acid composition\n",
    "            \"\"\"\n",
    "            dic = {'G': 0, 'A': 0, 'L': 0, 'V': 0, 'I': 0, 'P': 0, 'F': 0, 'S': 0, 'T': 0, 'C': 0,\n",
    "                   'Y': 0, 'N': 0, 'Q': 0, 'D': 0, 'E': 0, 'R': 0, 'K': 0, 'H': 0, 'W': 0, 'M': 0}\n",
    "            for letter in range(len(aa_seq)):\n",
    "                if aa_seq[letter] in dic.keys():\n",
    "                    dic[aa_seq[letter]] += 1\n",
    "            return dic\n",
    "\n",
    "        def sec_st_fr(aa_seq):\n",
    "            \"\"\"\n",
    "            Function to analyze secondary structure. Helix, Turn and Sheet\n",
    "            :param aa_seq: sequence to analyze\n",
    "            :return: dictionary with composition of each secondary structure\n",
    "            \"\"\"\n",
    "            st_dic = {'Helix': 0, 'Turn': 0, 'Sheet': 0}\n",
    "            stu = ProteinAnalysis(aa_seq).secondary_structure_fraction()\n",
    "            st_dic['Helix'] = stu[0]\n",
    "            st_dic['Turn'] = stu[1]\n",
    "            st_dic['Sheet'] = stu[2]\n",
    "            return st_dic\n",
    "\n",
    "\n",
    "        self.df_output = self.df.copy()\n",
    "        self.df_output.drop(['DNAseq', 'AAseq'], axis=1, inplace=True)\n",
    "        dna_feat = {}\n",
    "        aa_len = {}\n",
    "        aroma_dic = {}\n",
    "        iso_dic = {}\n",
    "        aa_content = {}\n",
    "        st_dic_master = {}\n",
    "        CTD_dic = {}\n",
    "        dp = {}\n",
    "        self.df1 = self.df[['ID']].copy()\n",
    "        self.df.drop(['ID'], axis=1, inplace=True)\n",
    "        for i in range(len(self.df)):\n",
    "            i_name = self.df.index[i]\n",
    "            dna_feat[i] = count_orf(self.df.iloc[i]['DNAseq'])\n",
    "            aa_len[i] = len(self.df.iloc[i]['AAseq'])\n",
    "            aroma_dic[i] = ProteinAnalysis(self.df.iloc[i]['AAseq']).aromaticity()\n",
    "            iso_dic[i] = ProteinAnalysis(self.df.iloc[i]['AAseq']).isoelectric_point()\n",
    "            aa_content[i] = count_aa(self.df.iloc[i]['AAseq'])\n",
    "            st_dic_master[i] = sec_st_fr(self.df.iloc[i]['AAseq'])\n",
    "            CTD_dic[i] = CalculateCTD(self.df.iloc[i]['AAseq'])\n",
    "            dp[i] = CalculateDipeptideComposition(self.df.iloc[i]['AAseq'])\n",
    "        for j in self.df.index:\n",
    "            self.df.loc[j, dna_feat[j].keys()] = dna_feat[j].values() #dic with multiple values\n",
    "            self.df.loc[j, 'AA_Len'] = int(aa_len[j]) #dic with one value\n",
    "            self.df.loc[j, 'Aromaticity'] = aroma_dic[j]\n",
    "            self.df.loc[j, 'IsoelectricPoint'] = iso_dic[j]\n",
    "            self.df.loc[j, aa_content[j].keys()] = aa_content[j].values()\n",
    "            self.df.loc[j, st_dic_master[j].keys()] = st_dic_master[j].values()\n",
    "            self.df.loc[j, CTD_dic[j].keys()] = CTD_dic[j].values()\n",
    "            self.df.loc[j, dp[j].keys()] = dp[j].values()\n",
    "        self.df.drop(['DNAseq', 'AAseq'], axis=1, inplace=True)\n",
    "\n",
    "    def Prediction(self, outname):\n",
    "        \"\"\"\n",
    "        Predicts the percentage of each CDS being depolymerase.\n",
    "        :return: model prediction\n",
    "        \"\"\"\n",
    "        scores = self.model0.predict_proba(self.df.iloc[:, :])\n",
    "        pos_scores = np.empty((self.df.shape[0], 0), float)\n",
    "        for x in scores:\n",
    "            pos_scores = np.append(pos_scores, round(x[1]*100))\n",
    "        self.df_output.reset_index(inplace=True)\n",
    "        self.df_output.rename(columns={'index': 'CDS'}, inplace=True)\n",
    "        self.df_output['CDS'] += 1\n",
    "        self.df_output['PhageDPO_score'] = pos_scores\n",
    "        #self.df_output = self.df_output[self.df_output['PhageDPO_score'] > 50] \n",
    "        #self.df_output.to_csv(outname+'.csv', index=False)"
   ]
  },
  {
   "cell_type": "markdown",
   "id": "7d9d7921",
   "metadata": {},
   "source": [
    "#### Steps\n",
    "1. set the path to the project\n",
    "2. set the path to the fasta file you want to run\n",
    "3. run the two code cells below"
   ]
  },
  {
   "cell_type": "code",
   "execution_count": 46,
   "id": "6eb27e22",
   "metadata": {},
   "outputs": [],
   "source": [
    "# set paths and model\n",
    "data_path = '/Users/dimi/Desktop/phagedpo'\n",
    "fasta_path = '/Users/dimi/Desktop/pires_dna_sequences/CDS_NC_019917.1.fasta'\n",
    "model = 'svm1495'"
   ]
  },
  {
   "cell_type": "code",
   "execution_count": 52,
   "id": "0c9a8715",
   "metadata": {
    "scrolled": true
   },
   "outputs": [],
   "source": [
    "# run phageDPO\n",
    "PDPO = PDPOPrediction(data_path, model, fasta_path)\n",
    "PDPO.Datastructure()\n",
    "PDPO.Prediction(outname='thisfastaout')"
   ]
  },
  {
   "cell_type": "markdown",
   "id": "5b0489c4",
   "metadata": {},
   "source": [
    "#### Do multiple fastas in one go"
   ]
  },
  {
   "cell_type": "code",
   "execution_count": 35,
   "id": "10a462e9",
   "metadata": {},
   "outputs": [],
   "source": [
    "# set paths and model\n",
    "code_path = '/Users/dimi/Documents/GitHub/funstuff/phagedpo_tweak'\n",
    "benchmarkdf = pd.read_csv('/Users/dimi/Documents/GitHub/PhageDEPOdetection/data/Benchmarking/benchmark_dataframe.csv')\n",
    "model = 'svm1495'"
   ]
  },
  {
   "cell_type": "code",
   "execution_count": 29,
   "id": "f530ff55",
   "metadata": {
    "scrolled": true
   },
   "outputs": [
    {
     "data": {
      "application/vnd.jupyter.widget-view+json": {
       "model_id": "df3c4e5dd7564a999e51a9d3bacb068e",
       "version_major": 2,
       "version_minor": 0
      },
      "text/plain": [
       "  0%|          | 0/17851 [00:00<?, ?it/s]"
      ]
     },
     "metadata": {},
     "output_type": "display_data"
    },
    {
     "data": {
      "text/plain": [
       "<bound method tqdm_notebook.close of <tqdm.notebook.tqdm_notebook object at 0x164b5d100>>"
      ]
     },
     "execution_count": 29,
     "metadata": {},
     "output_type": "execute_result"
    }
   ],
   "source": [
    "bar = tqdm(total=benchmarkdf.shape[0])\n",
    "scores_phageDPO = []\n",
    "for i, protein_id in enumerate(benchmarkdf['protein_id']):\n",
    "    # get dna seq and make fasta\n",
    "    dna_sequence = benchmarkdf['dna_seq'][i]\n",
    "    f = open(code_path+'/temp_fasta.fasta', 'w')\n",
    "    f.write('>'+protein_id+'\\n'+dna_sequence+'\\n')\n",
    "    f.close()\n",
    "    # make phageDPO prediction\n",
    "    PDPO = PDPOPrediction(code_path, model, code_path+'/temp_fasta.fasta')\n",
    "    PDPO.Datastructure()\n",
    "    PDPO.Prediction(outname=protein_id)\n",
    "    if len(PDPO.df_output['PhageDPO_score']) > 1:\n",
    "        print('oops, somethings wrong')\n",
    "    score = PDPO.df_output['PhageDPO_score'][0]\n",
    "    scores_phageDPO.append(score)\n",
    "    # remove fasta\n",
    "    os.remove(code_path+'/temp_fasta.fasta')\n",
    "    # update progress\n",
    "    bar.update()\n",
    "bar.close"
   ]
  },
  {
   "cell_type": "code",
   "execution_count": 38,
   "id": "4f92a321",
   "metadata": {},
   "outputs": [],
   "source": [
    "benchmarkdf = pd.concat([benchmarkdf, pd.DataFrame({'scores_phageDPO': scores_phageDPO})], axis=1)\n",
    "benchmarkdf.to_csv('/Users/dimi/Documents/GitHub/PhageDEPOdetection/data/Benchmarking/benchmark_dataframe.csv', index=False)"
   ]
  },
  {
   "cell_type": "markdown",
   "id": "937d33ff",
   "metadata": {},
   "source": [
    "## DePP in a notebook"
   ]
  },
  {
   "cell_type": "code",
   "execution_count": 40,
   "id": "791d31fc",
   "metadata": {},
   "outputs": [],
   "source": [
    "# train DePP model with original training data\n",
    "training_set_path = code_path + '/DePP_TrainingSet.csv'\n",
    "model = train_model(training_set_path)"
   ]
  },
  {
   "cell_type": "code",
   "execution_count": 64,
   "id": "c6aa8d80",
   "metadata": {},
   "outputs": [
    {
     "data": {
      "application/vnd.jupyter.widget-view+json": {
       "model_id": "63649fa968de412b823fd56dd10a41ff",
       "version_major": 2,
       "version_minor": 0
      },
      "text/plain": [
       "  0%|          | 0/17851 [00:00<?, ?it/s]"
      ]
     },
     "metadata": {},
     "output_type": "display_data"
    },
    {
     "data": {
      "text/plain": [
       "<bound method tqdm_notebook.close of <tqdm.notebook.tqdm_notebook object at 0x165c00850>>"
      ]
     },
     "execution_count": 64,
     "metadata": {},
     "output_type": "execute_result"
    }
   ],
   "source": [
    "# do the predictions for the benchmark data\n",
    "benchmarkdf = pd.read_csv('/Users/dimi/Documents/GitHub/PhageDEPOdetection/data/Benchmarking/benchmark_dataframe.csv')\n",
    "bar = tqdm(total=benchmarkdf.shape[0])\n",
    "scores_DePP = []\n",
    "for i, protein_id in enumerate(benchmarkdf['protein_id']):\n",
    "    # get protein seq and make fasta\n",
    "    protein_sequence = benchmarkdf['protein_seq'][i]\n",
    "    if protein_sequence.count('X') > 0:\n",
    "        scores_DePP.append(0) # -> can't predict with their method, so we take it as 0\n",
    "    else:\n",
    "        f = open(code_path+'/temp_fasta.fasta', 'w')\n",
    "        f.write('>'+protein_id+'\\n'+protein_sequence+'\\n')\n",
    "        f.close()\n",
    "        # make DePP prediction\n",
    "        protein_records = read_fasta(code_path+'/temp_fasta.fasta')\n",
    "        protein_parameters = [calculate_protein_parameters(protein_record) for protein_record in protein_records]\n",
    "        protein_df = generate_dataframe(protein_parameters)\n",
    "        predictions = predict_depolymerases(protein_df, model)\n",
    "        if len(predictions['Probability_DePol']) > 1:\n",
    "            print('oops, somethings wrong')\n",
    "        score = predictions['Probability_DePol'][0]\n",
    "        scores_DePP.append(score)\n",
    "        # remove fasta\n",
    "        os.remove(code_path+'/temp_fasta.fasta')\n",
    "    # update progress\n",
    "    bar.update()\n",
    "bar.close"
   ]
  },
  {
   "cell_type": "code",
   "execution_count": 65,
   "id": "1f2ec5f7",
   "metadata": {},
   "outputs": [],
   "source": [
    "benchmarkdf = pd.concat([benchmarkdf, pd.DataFrame({'scores_DePP': scores_DePP})], axis=1)\n",
    "benchmarkdf.to_csv('/Users/dimi/Documents/GitHub/PhageDEPOdetection/data/Benchmarking/benchmark_dataframe.csv', index=False)"
   ]
  },
  {
   "cell_type": "markdown",
   "id": "d0b61b3f",
   "metadata": {},
   "source": [
    "## Compute metrics"
   ]
  },
  {
   "cell_type": "code",
   "execution_count": 79,
   "id": "67e444bd",
   "metadata": {},
   "outputs": [
    {
     "name": "stdout",
     "output_type": "stream",
     "text": [
      "PhageDPO metrics\n",
      "F1:  0.202\n",
      "R:  0.858\n",
      "P:  0.114\n",
      "Se:  0.858\n",
      "Sp:  0.942\n",
      "MCC:  0.301\n",
      "\n",
      "DePP metrics\n",
      "F1:  0.122\n",
      "R:  0.948\n",
      "P:  0.065\n",
      "Se:  0.948\n",
      "Sp:  0.881\n",
      "MCC:  0.232\n"
     ]
    }
   ],
   "source": [
    "from sklearn.metrics import f1_score, confusion_matrix, recall_score, precision_score, matthews_corrcoef\n",
    "# phageDPO\n",
    "preds_phageDPO = benchmarkdf['scores_phageDPO'] > 50\n",
    "preds_phageDPO = preds_phageDPO.astype(int)\n",
    "tn, fp, fn, tp = confusion_matrix(benchmarkdf['label'], preds_phageDPO).ravel()\n",
    "sensitivity = tp / (tp+fn)\n",
    "specificity = tn / (tn+fp)\n",
    "print('PhageDPO metrics')\n",
    "print('F1: ', round(f1_score(benchmarkdf['label'], preds_phageDPO), 3))\n",
    "print('R: ', round(recall_score(benchmarkdf['label'], preds_phageDPO), 3))\n",
    "print('P: ', round(precision_score(benchmarkdf['label'], preds_phageDPO), 3))\n",
    "print('Se: ', round(sensitivity, 3))\n",
    "print('Sp: ', round(specificity, 3))\n",
    "print('MCC: ', round(matthews_corrcoef(benchmarkdf['label'], preds_phageDPO), 3))\n",
    "print()\n",
    "\n",
    "# DePP\n",
    "preds_depp = benchmarkdf['scores_DePP'] > 0.5\n",
    "preds_depp = preds_depp.astype(int)\n",
    "tn, fp, fn, tp = confusion_matrix(benchmarkdf['label'], preds_depp).ravel()\n",
    "sensitivity = tp / (tp+fn)\n",
    "specificity = tn / (tn+fp)\n",
    "print('DePP metrics')\n",
    "print('F1: ', round(f1_score(benchmarkdf['label'], preds_depp), 3))\n",
    "print('R: ', round(recall_score(benchmarkdf['label'], preds_depp), 3))\n",
    "print('P: ', round(precision_score(benchmarkdf['label'], preds_depp), 3))\n",
    "print('Se: ', round(sensitivity, 3))\n",
    "print('Sp: ', round(specificity, 3))\n",
    "print('MCC: ', round(matthews_corrcoef(benchmarkdf['label'], preds_depp), 3))"
   ]
  },
  {
   "cell_type": "markdown",
   "id": "1b97ae15",
   "metadata": {},
   "source": [
    "For PhageDPO, the precision is very low (which means lots of False Positives if we take Pires as ground truth), and as a result the F1 score is also very low. For DePP, recall/sensitivity better but rest of metrics even worse than PhageDPO!"
   ]
  },
  {
   "cell_type": "code",
   "execution_count": null,
   "id": "a5b76f4e",
   "metadata": {},
   "outputs": [],
   "source": []
  }
 ],
 "metadata": {
  "kernelspec": {
   "display_name": "Python 3 (ipykernel)",
   "language": "python",
   "name": "python3"
  },
  "language_info": {
   "codemirror_mode": {
    "name": "ipython",
    "version": 3
   },
   "file_extension": ".py",
   "mimetype": "text/x-python",
   "name": "python",
   "nbconvert_exporter": "python",
   "pygments_lexer": "ipython3",
   "version": "3.9.7"
  }
 },
 "nbformat": 4,
 "nbformat_minor": 5
}
