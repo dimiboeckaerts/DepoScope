{
 "cells": [
  {
   "cell_type": "markdown",
   "metadata": {},
   "source": [
    "# Goal : Scan the 3D predcitions of the FP with the Dpo fold database. \n",
    "\n",
    "### A. Run Foldseek\n",
    "### B. Get the hits with good proba\n",
    "### C. Report the folds\n",
    "***"
   ]
  },
  {
   "cell_type": "markdown",
   "metadata": {},
   "source": [
    "# A"
   ]
  },
  {
   "cell_type": "code",
   "execution_count": 1,
   "metadata": {
    "scrolled": true,
    "tags": []
   },
   "outputs": [
    {
     "name": "stdout",
     "output_type": "stream",
     "text": [
      "b'/bin/sh: 1: foldseek: not found\\n' None\n",
      "b'/bin/sh: 1: foldseek: not found\\n' None\n",
      "b'/bin/sh: 1: foldseek: not found\\n' None\n",
      "b'/bin/sh: 1: foldseek: not found\\n' None\n",
      "b'/bin/sh: 1: foldseek: not found\\n' None\n",
      "b'/bin/sh: 1: foldseek: not found\\n' None\n",
      "b'/bin/sh: 1: foldseek: not found\\n' None\n",
      "b'/bin/sh: 1: foldseek: not found\\n' None\n",
      "b'/bin/sh: 1: foldseek: not found\\n' None\n",
      "b'/bin/sh: 1: foldseek: not found\\n' None\n",
      "b'/bin/sh: 1: foldseek: not found\\n' None\n",
      "b'/bin/sh: 1: foldseek: not found\\n' None\n",
      "b'/bin/sh: 1: foldseek: not found\\n' None\n",
      "b'/bin/sh: 1: foldseek: not found\\n' None\n",
      "b'/bin/sh: 1: foldseek: not found\\n' None\n",
      "b'/bin/sh: 1: foldseek: not found\\n' None\n",
      "b'/bin/sh: 1: foldseek: not found\\n' None\n",
      "b'/bin/sh: 1: foldseek: not found\\n' None\n",
      "b'/bin/sh: 1: foldseek: not found\\n' None\n",
      "b'/bin/sh: 1: foldseek: not found\\n' None\n",
      "b'/bin/sh: 1: foldseek: not found\\n' None\n",
      "b'/bin/sh: 1: foldseek: not found\\n' None\n",
      "b'/bin/sh: 1: foldseek: not found\\n' None\n",
      "b'/bin/sh: 1: foldseek: not found\\n' None\n",
      "b'/bin/sh: 1: foldseek: not found\\n' None\n",
      "b'/bin/sh: 1: foldseek: not found\\n' None\n",
      "b'/bin/sh: 1: foldseek: not found\\n' None\n",
      "b'/bin/sh: 1: foldseek: not found\\n' None\n",
      "b'/bin/sh: 1: foldseek: not found\\n' None\n",
      "b'/bin/sh: 1: foldseek: not found\\n' None\n",
      "b'/bin/sh: 1: foldseek: not found\\n' None\n",
      "b'/bin/sh: 1: foldseek: not found\\n' None\n",
      "b'/bin/sh: 1: foldseek: not found\\n' None\n",
      "b'/bin/sh: 1: foldseek: not found\\n' None\n",
      "b'/bin/sh: 1: foldseek: not found\\n' None\n",
      "b'/bin/sh: 1: foldseek: not found\\n' None\n",
      "b'/bin/sh: 1: foldseek: not found\\n' None\n",
      "b'/bin/sh: 1: foldseek: not found\\n' None\n",
      "b'/bin/sh: 1: foldseek: not found\\n' None\n",
      "b'/bin/sh: 1: foldseek: not found\\n' None\n",
      "b'/bin/sh: 1: foldseek: not found\\n' None\n",
      "b'/bin/sh: 1: foldseek: not found\\n' None\n",
      "b'/bin/sh: 1: foldseek: not found\\n' None\n",
      "b'/bin/sh: 1: foldseek: not found\\n' None\n",
      "b'/bin/sh: 1: foldseek: not found\\n' None\n",
      "b'/bin/sh: 1: foldseek: not found\\n' None\n",
      "b'/bin/sh: 1: foldseek: not found\\n' None\n",
      "b'/bin/sh: 1: foldseek: not found\\n' None\n",
      "b'/bin/sh: 1: foldseek: not found\\n' None\n",
      "b'/bin/sh: 1: foldseek: not found\\n' None\n",
      "b'/bin/sh: 1: foldseek: not found\\n' None\n",
      "b'/bin/sh: 1: foldseek: not found\\n' None\n",
      "b'/bin/sh: 1: foldseek: not found\\n' None\n",
      "b'/bin/sh: 1: foldseek: not found\\n' None\n",
      "b'/bin/sh: 1: foldseek: not found\\n' None\n",
      "b'/bin/sh: 1: foldseek: not found\\n' None\n",
      "b'/bin/sh: 1: foldseek: not found\\n' None\n",
      "b'/bin/sh: 1: foldseek: not found\\n' None\n",
      "b'/bin/sh: 1: foldseek: not found\\n' None\n",
      "b'/bin/sh: 1: foldseek: not found\\n' None\n",
      "b'/bin/sh: 1: foldseek: not found\\n' None\n",
      "b'/bin/sh: 1: foldseek: not found\\n' None\n",
      "b'/bin/sh: 1: foldseek: not found\\n' None\n",
      "b'/bin/sh: 1: foldseek: not found\\n' None\n",
      "b'/bin/sh: 1: foldseek: not found\\n' None\n",
      "b'/bin/sh: 1: foldseek: not found\\n' None\n",
      "b'/bin/sh: 1: foldseek: not found\\n' None\n",
      "b'/bin/sh: 1: foldseek: not found\\n' None\n",
      "b'/bin/sh: 1: foldseek: not found\\n' None\n",
      "b'/bin/sh: 1: foldseek: not found\\n' None\n",
      "b'/bin/sh: 1: foldseek: not found\\n' None\n",
      "b'/bin/sh: 1: foldseek: not found\\n' None\n",
      "b'/bin/sh: 1: foldseek: not found\\n' None\n",
      "b'/bin/sh: 1: foldseek: not found\\n' None\n",
      "b'/bin/sh: 1: foldseek: not found\\n' None\n",
      "b'/bin/sh: 1: foldseek: not found\\n' None\n",
      "b'/bin/sh: 1: foldseek: not found\\n' None\n",
      "b'/bin/sh: 1: foldseek: not found\\n' None\n",
      "b'/bin/sh: 1: foldseek: not found\\n' None\n",
      "b'/bin/sh: 1: foldseek: not found\\n' None\n",
      "b'/bin/sh: 1: foldseek: not found\\n' None\n",
      "b'/bin/sh: 1: foldseek: not found\\n' None\n",
      "b'/bin/sh: 1: foldseek: not found\\n' None\n",
      "b'/bin/sh: 1: foldseek: not found\\n' None\n",
      "b'/bin/sh: 1: foldseek: not found\\n' None\n",
      "b'/bin/sh: 1: foldseek: not found\\n' None\n",
      "b'/bin/sh: 1: foldseek: not found\\n' None\n",
      "b'/bin/sh: 1: foldseek: not found\\n' None\n",
      "b'/bin/sh: 1: foldseek: not found\\n' None\n",
      "b'/bin/sh: 1: foldseek: not found\\n' None\n",
      "b'/bin/sh: 1: foldseek: not found\\n' None\n",
      "b'/bin/sh: 1: foldseek: not found\\n' None\n",
      "b'/bin/sh: 1: foldseek: not found\\n' None\n",
      "b'/bin/sh: 1: foldseek: not found\\n' None\n",
      "b'/bin/sh: 1: foldseek: not found\\n' None\n",
      "b'/bin/sh: 1: foldseek: not found\\n' None\n",
      "b'/bin/sh: 1: foldseek: not found\\n' None\n",
      "b'/bin/sh: 1: foldseek: not found\\n' None\n",
      "b'/bin/sh: 1: foldseek: not found\\n' None\n",
      "b'/bin/sh: 1: foldseek: not found\\n' None\n",
      "b'/bin/sh: 1: foldseek: not found\\n' None\n",
      "b'/bin/sh: 1: foldseek: not found\\n' None\n",
      "b'/bin/sh: 1: foldseek: not found\\n' None\n",
      "b'/bin/sh: 1: foldseek: not found\\n' None\n",
      "b'/bin/sh: 1: foldseek: not found\\n' None\n",
      "b'/bin/sh: 1: foldseek: not found\\n' None\n",
      "b'/bin/sh: 1: foldseek: not found\\n' None\n",
      "b'/bin/sh: 1: foldseek: not found\\n' None\n",
      "b'/bin/sh: 1: foldseek: not found\\n' None\n",
      "b'/bin/sh: 1: foldseek: not found\\n' None\n",
      "b'/bin/sh: 1: foldseek: not found\\n' None\n",
      "b'/bin/sh: 1: foldseek: not found\\n' None\n",
      "b'/bin/sh: 1: foldseek: not found\\n' None\n",
      "b'/bin/sh: 1: foldseek: not found\\n' None\n",
      "b'/bin/sh: 1: foldseek: not found\\n' None\n",
      "b'/bin/sh: 1: foldseek: not found\\n' None\n",
      "b'/bin/sh: 1: foldseek: not found\\n' None\n",
      "b'/bin/sh: 1: foldseek: not found\\n' None\n",
      "b'/bin/sh: 1: foldseek: not found\\n' None\n",
      "b'/bin/sh: 1: foldseek: not found\\n' None\n",
      "b'/bin/sh: 1: foldseek: not found\\n' None\n",
      "b'/bin/sh: 1: foldseek: not found\\n' None\n"
     ]
    }
   ],
   "source": [
    "import subprocess\n",
    "import os\n",
    "\n",
    "path_project = \"/media/concha-eloko/Linux/PhageDEPOdetection\"\n",
    "path_pdb = f\"{path_project}/FP_deposcope_pdb_2303\"\n",
    "path_db = f\"/media/concha-eloko/Linux/depolymerase_building/RefDepo_domains/RefDepo_domains_db\"\n",
    "path_tmp = f\"{path_project}/tmp\"\n",
    "\n",
    "def seek_beta_helix(path_in) :\n",
    "    dir_out = f\"{path_project}/FP_deposcope_pdb_2303_Foldseek\"\n",
    "    protein_id = path_in.split(\"/\")[-1].split(\".pdb\")[0]\n",
    "    path_out = f\"{dir_out}/{protein_id}.out\"\n",
    "    output_frmt = f\"query,target,pident,alnlen,gapopen,qstart,qend,tstart,tend,bits,prob\"\n",
    "    seek = f\"foldseek easy-search {path_in} {path_db} {path_out} {path_tmp} --format-output {output_frmt}\"\n",
    "    #seek = f\"foldseek easy-search {path_in} {path_db} {path_out}.html {path_tmp} --format-mode 3\"\n",
    "    seek_process = subprocess.Popen(seek, shell=True, stdout=subprocess.PIPE, stderr=subprocess.STDOUT)\n",
    "    press_out, press_err = seek_process.communicate()\n",
    "    print (press_out, press_err)\n",
    "\n",
    "paths = [f\"{path_pdb}/{file}\" for file in os.listdir(f\"{path_pdb}\")]\n",
    "\n",
    "for path in paths :\n",
    "    seek_beta_helix(path)\n",
    "\n",
    "\n",
    "\n"
   ]
  },
  {
   "cell_type": "markdown",
   "metadata": {},
   "source": [
    "***\n",
    "## B  "
   ]
  },
  {
   "cell_type": "markdown",
   "metadata": {},
   "source": [
    "> Get a list of the failed Dpos"
   ]
  },
  {
   "cell_type": "code",
   "execution_count": 8,
   "metadata": {},
   "outputs": [],
   "source": [
    "import pandas as pd\n",
    "import os \n",
    "\n",
    "path_project = \"/media/concha-eloko/Linux/PhageDEPOdetection\"\n",
    "dir_out = f\"{path_project}/FP_deposcope_pdb_2303_Foldseek\"\n",
    "\n",
    "path_info = f\"/media/concha-eloko/Linux/depolymerase_building/depolymerase_fold.csv\"\n",
    "info_df = pd.read_csv(path_info , sep = \"\\t\", header = 0)\n",
    "\n",
    "FP_results = {}\n",
    "no_structure = []\n",
    "outputs = [f\"{dir_out}/{file}\" for file in os.listdir(dir_out) if file[-3:]==\"out\"]\n",
    "header_seekfold = [\"query\",\"target\",\"pident\",\"alnlen\",\"gapopen\",\"qstart\",\"qend\",\"tstart\",\"tend\",\"bits\",\"prob\"]\n",
    "\n",
    "for results in outputs :\n",
    "    results_df = pd.read_csv(f\"{results}\", sep = \"\\t\" , names = header_seekfold)\n",
    "    for _,row in results_df.iterrows() :\n",
    "        fold = info_df[info_df[\"ID\"] == row[\"target\"]][\"Folds\"].values[0]\n",
    "        if fold != \"jelly-roll\" :\n",
    "            if row[\"prob\"] >= 0.2 :\n",
    "                FP_results[row[\"query\"]]= (row[\"prob\"],row[\"target\"] , fold)\n",
    "                break\n",
    "    else :\n",
    "        no_structure.append(row[\"query\"])\n",
    "                \n"
   ]
  },
  {
   "cell_type": "code",
   "execution_count": 9,
   "metadata": {
    "scrolled": true
   },
   "outputs": [
    {
     "name": "stdout",
     "output_type": "stream",
     "text": [
      "{'CP000711.1__ABQ88395.pdb': (0.912, 'AF-A0A7C4BP91-F1-model_v4.pdb', '6-bladed beta-propeller'),\n",
      " 'FQ482084.1__CBX44498.pdb': (0.632, 'AF-A0A654UB90-F1-model_v4.pdb', '6-bladed beta-propeller'),\n",
      " 'GQ413937.1__ACY66694.pdb': (0.353, 'AF-A0A654UB90-F1-model_v4.pdb', '6-bladed beta-propeller'),\n",
      " 'GQ413937.1__ACY66700.pdb': (1.0, 'K17alfa62__cds_64_A_3_129_548.pdb', 'right-handed beta-helix'),\n",
      " 'HQ632825.1__AGN12247.pdb': (1.0, 'K39PH122C2__cds_55_A_5_286_658.pdb', 'right-handed beta-helix'),\n",
      " 'HQ632825.1__AGN12298.pdb': (0.382, 'AF-A0A0R3Q9P4-F1-model_v4.pdb', 'right-handed beta-helix'),\n",
      " 'HQ632825.1__AGN12307.pdb': (0.949, 'AF-A0A562WF65-F1-model_v4.pdb', 'right-handed beta-helix'),\n",
      " 'KC821608.1__AGO47494.pdb': (1.0, 'K17alfa62__cds_64_A_3_129_548.pdb', 'right-handed beta-helix'),\n",
      " 'KC821610.1__AGO47761.pdb': (0.411, 'AF-A0A7C4BP91-F1-model_v4.pdb', '6-bladed beta-propeller'),\n",
      " 'KC821629.1__AGO49269.pdb': (0.411, 'AF-A0A7C4BP91-F1-model_v4.pdb', '6-bladed beta-propeller'),\n",
      " 'KC821630.1__AGO49349.pdb': (0.411, 'AF-A0A7C4BP91-F1-model_v4.pdb', '6-bladed beta-propeller'),\n",
      " 'KC821634.1__AGO49767.pdb': (0.411, 'AF-A0A7C4BP91-F1-model_v4.pdb', '6-bladed beta-propeller'),\n",
      " 'NC_002730.1__NP_112082.pdb': (0.912, 'AF-A0A7C4BP91-F1-model_v4.pdb', '6-bladed beta-propeller'),\n",
      " 'NC_005344.1__NP_958184.pdb': (0.933, 'AF-A0A7G2DEW9-F1-model_v4.pdb', '6-bladed beta-propeller'),\n",
      " 'NC_006883.2__YP_214253.pdb': (0.569, 'K40PH129C1__cds_56_A_4_239_860.pdb', 'right-handed beta-helix'),\n",
      " 'NC_006883.2__YP_214258.pdb': (1.0, 'K39PH122C2__cds_55_A_5_286_658.pdb', 'right-handed beta-helix'),\n",
      " 'NC_006883.2__YP_214524.pdb': (0.912, 'AF-A0A562WF65-F1-model_v4.pdb', 'right-handed beta-helix'),\n",
      " 'NC_006883.2__YP_214532.pdb': (0.382, 'AF-A0A0R3Q9P4-F1-model_v4.pdb', 'right-handed beta-helix'),\n",
      " 'NC_007055.1__YP_240100.pdb': (1.0, 'AF-A0A0R3Q9P4-F1-model_v4.pdb', 'right-handed beta-helix'),\n",
      " 'NC_007636.1__YP_424954.pdb': (0.772, 'AF-A0A654UB90-F1-model_v4.pdb', '6-bladed beta-propeller'),\n",
      " 'NC_007637.1__YP_425011.pdb': (0.632, 'AF-A0A7C4BP91-F1-model_v4.pdb', '6-bladed beta-propeller'),\n",
      " 'NC_008152.1__YP_654134.pdb': (0.442, 'AF-A0A7C4BP91-F1-model_v4.pdb', '6-bladed beta-propeller'),\n",
      " 'NC_009014.1__YP_001039670.pdb': (0.663, 'AF-A0A7G2DEW9-F1-model_v4.pdb', '6-bladed beta-propeller'),\n",
      " 'NC_011421.1__YP_002300371.pdb': (0.214, 'AF-A0A0B5KP61-F1-model_v4.pdb', 'right-handed beta-helix'),\n",
      " 'NC_011421.1__YP_002300372.pdb': (0.999, 'K14PH164C1__cds_24_A_4_221_871.pdb', 'right-handed beta-helix'),\n",
      " 'NC_011976.1__YP_002533467.pdb': (0.961, 'AF-A0A7C4BP91-F1-model_v4.pdb', '6-bladed beta-propeller'),\n",
      " 'NC_015208.1__YP_004286217.pdb': (0.569, 'AF-A0A654UB90-F1-model_v4.pdb', '6-bladed beta-propeller'),\n",
      " 'NC_015296.1__YP_004327541.pdb': (0.999, 'K39PH122C2__cds_55_A_5_286_658.pdb', 'right-handed beta-helix'),\n",
      " 'NC_015296.1__YP_004327543.pdb': (1.0, 'K40PH129C1__cds_56_A_4_239_860.pdb', 'right-handed beta-helix'),\n",
      " 'NC_017971.2__YP_006382515.pdb': (0.872, 'AF-A0A7G2DEW9-F1-model_v4.pdb', '6-bladed beta-propeller'),\n",
      " 'NC_017972.1__YP_006382780.pdb': (0.795, 'AF-A0A496B6X2-F1-model_v4.pdb', '6-bladed beta-propeller'),\n",
      " 'NC_019400.1__YP_006987068.pdb': (0.537, 'AF-A0A7G2DEW9-F1-model_v4.pdb', '6-bladed beta-propeller'),\n",
      " 'NC_019401.1__YP_006987103.pdb': (0.277, 'AF-A0A7C4BP91-F1-model_v4.pdb', '6-bladed beta-propeller'),\n",
      " 'NC_019401.1__YP_006987249.pdb': (0.872, 'AF-A0A7C4BP91-F1-model_v4.pdb', '6-bladed beta-propeller'),\n",
      " 'NC_019401.1__YP_006987250.pdb': (0.9, 'AF-A0A7C4BP91-F1-model_v4.pdb', '6-bladed beta-propeller'),\n",
      " 'NC_019403.1__YP_006987800.pdb': (0.601, 'AF-A0A7C4BP91-F1-model_v4.pdb', '6-bladed beta-propeller'),\n",
      " 'NC_019454.1__YP_007002897.pdb': (0.692, 'AF-A0A654UB90-F1-model_v4.pdb', '6-bladed beta-propeller'),\n",
      " 'NC_019510.1__YP_007005461.pdb': (0.382, 'AF-A0A654UB90-F1-model_v4.pdb', '6-bladed beta-propeller'),\n",
      " 'NC_019526.1__YP_007007680.pdb': (0.993, 'K39PH122C2__cds_55_A_5_286_658.pdb', 'right-handed beta-helix'),\n",
      " 'NC_019526.1__YP_007007682.pdb': (0.995, 'K14PH164C1__cds_24_A_4_221_871.pdb', 'right-handed beta-helix'),\n",
      " 'NC_019526.1__YP_007007683.pdb': (0.978, 'K39PH122C2__cds_55_A_5_286_658.pdb', 'right-handed beta-helix'),\n",
      " 'NC_019526.1__YP_007007684.pdb': (1.0, 'K39PH122C2__cds_55_A_5_286_658.pdb', 'right-handed beta-helix'),\n",
      " 'NC_019526.1__YP_007007686.pdb': (1.0, 'K39PH122C2__cds_55_A_5_286_658.pdb', 'right-handed beta-helix'),\n",
      " 'NC_019526.1__YP_007007687.pdb': (1.0, 'K17alfa62__cds_64_A_3_129_548.pdb', 'right-handed beta-helix'),\n",
      " 'NC_019526.1__YP_007007688.pdb': (1.0, 'K39PH122C2__cds_55_A_5_286_658.pdb', 'right-handed beta-helix'),\n",
      " 'NC_019530.1__YP_007008116.pdb': (0.912, 'K40PH129C1__cds_56_A_4_239_860.pdb', 'right-handed beta-helix'),\n",
      " 'NC_019530.1__YP_007008118.pdb': (1.0, 'AF-A0A0R3Q9P4-F1-model_v4.pdb', 'right-handed beta-helix'),\n",
      " 'NC_019530.1__YP_007008119.pdb': (1.0, 'K17alfa62__cds_64_A_3_129_548.pdb', 'right-handed beta-helix'),\n",
      " 'NC_019923.1__YP_007237187.pdb': (0.72, 'AF-A0A654UB90-F1-model_v4.pdb', '6-bladed beta-propeller'),\n",
      " 'NC_019926.1__YP_007237561.pdb': (0.632, 'AF-A0A654UB90-F1-model_v4.pdb', '6-bladed beta-propeller'),\n",
      " 'NC_020078.1__YP_007348357.pdb': (0.747, 'AF-A0A654UB90-F1-model_v4.pdb', '6-bladed beta-propeller'),\n",
      " 'NC_020079.1__YP_007348548.pdb': (0.214, 'AF-A0A7C4BP91-F1-model_v4.pdb', '6-bladed beta-propeller'),\n",
      " 'NC_020083.1__YP_007349010.pdb': (0.99, 'AF-A0A1E5LEG1-F1-model_v4.pdb', 'right-handed beta-helix'),\n",
      " 'NC_020083.1__YP_007349017.pdb': (1.0, 'K74PH129C2__cds_51_A_3_291_808.pdb', 'right-handed beta-helix'),\n",
      " 'NC_020083.1__YP_007349020.pdb': (1.0, 'AF-A0A1E5LEG1-F1-model_v4.pdb', 'right-handed beta-helix'),\n",
      " 'NC_020860.1__YP_007675705.pdb': (0.411, 'AF-A0A7C4BP91-F1-model_v4.pdb', '6-bladed beta-propeller'),\n",
      " 'NC_020873.1__YP_007677135.pdb': (0.998, 'K17alfa62__cds_64_A_3_129_548.pdb', 'right-handed beta-helix'),\n",
      " 'NC_021792.1__YP_008241126.pdb': (1.0, 'K17alfa62__cds_64_A_3_129_548.pdb', 'right-handed beta-helix'),\n",
      " 'NC_021802.1__YP_008242011.pdb': (1.0, 'AF-A0A0A6QEK9-F1-model_v4.pdb', 'right-handed beta-helix'),\n",
      " 'NC_021856.1__YP_008318293.pdb': (1.0, 'AF-A0A1E5LEG1-F1-model_v4.pdb', 'right-handed beta-helix'),\n",
      " 'NC_022768.1__YP_008770866.pdb': (0.999, 'AF-A0A0R3Q9P4-F1-model_v4.pdb', 'right-handed beta-helix'),\n",
      " 'NC_022768.1__YP_008770867.pdb': (1.0, 'K17alfa62__cds_64_A_3_129_548.pdb', 'right-handed beta-helix'),\n",
      " 'NC_022768.1__YP_008770868.pdb': (0.632, 'K17alfa62__cds_64_A_3_129_548.pdb', 'right-handed beta-helix'),\n",
      " 'NC_022772.1__YP_008771658.pdb': (1.0, 'K39PH122C2__cds_55_A_5_286_658.pdb', 'right-handed beta-helix'),\n",
      " 'NC_022772.1__YP_008771659.pdb': (1.0, 'AF-A0A1E5LEG1-F1-model_v4.pdb', 'right-handed beta-helix'),\n",
      " 'NC_023557.1__YP_009004811.pdb': (0.601, 'AF-A0A7C4BP91-F1-model_v4.pdb', '6-bladed beta-propeller'),\n",
      " 'NC_023610.1__YP_009010244.pdb': (0.912, 'AF-A0A7C4BP91-F1-model_v4.pdb', '6-bladed beta-propeller'),\n",
      " 'NC_023694.1__YP_009012583.pdb': (1.0, 'K14PH164C1__cds_24_A_4_221_871.pdb', 'right-handed beta-helix'),\n",
      " 'NC_024792.1__YP_009056509.pdb': (1.0, 'AF-A0A1E5LEG1-F1-model_v4.pdb', 'right-handed beta-helix'),\n",
      " 'NC_025422.1__YP_009098911.pdb': (0.986, 'AF-A0A831UGW4-F1-model_v4.pdb', 'right-handed beta-helix'),\n",
      " 'NC_025446.1__YP_009101512.pdb': (1.0, 'K17alfa62__cds_64_A_3_129_548.pdb', 'right-handed beta-helix'),\n",
      " 'NC_025446.1__YP_009101514.pdb': (1.0, 'K17alfa62__cds_64_A_3_129_548.pdb', 'right-handed beta-helix'),\n",
      " 'NC_025446.1__YP_009101515.pdb': (1.0, 'AF-A0A496B6X2-F1-model_v4.pdb', '6-bladed beta-propeller'),\n",
      " 'NC_027364.1__YP_009150385.pdb': (0.537, 'AF-A0A7C4BP91-F1-model_v4.pdb', '6-bladed beta-propeller'),\n",
      " 'NC_027364.1__YP_009150387.pdb': (0.991, 'AF-A0A496B6X2-F1-model_v4.pdb', '6-bladed beta-propeller'),\n",
      " 'NC_027364.1__YP_009150601.pdb': (0.505, 'AF-A0A7C4BP91-F1-model_v4.pdb', '6-bladed beta-propeller'),\n",
      " 'NC_027364.1__YP_009150604.pdb': (0.277, 'AF-A0A7G2DEW9-F1-model_v4.pdb', '6-bladed beta-propeller'),\n",
      " 'NC_027364.1__YP_009150605.pdb': (0.214, 'AF-A0A654UB90-F1-model_v4.pdb', '6-bladed beta-propeller')}\n"
     ]
    }
   ],
   "source": [
    "import pprint\n",
    "pp = pprint.PrettyPrinter(width = 150, sort_dicts = True, compact = False)\n",
    "pp.pprint(FP_results)\n",
    "\n",
    "\n"
   ]
  },
  {
   "cell_type": "code",
   "execution_count": 10,
   "metadata": {},
   "outputs": [
    {
     "data": {
      "text/plain": [
       "(44, 78)"
      ]
     },
     "execution_count": 10,
     "metadata": {},
     "output_type": "execute_result"
    }
   ],
   "source": [
    "len(no_structure) , len(FP_results)"
   ]
  },
  {
   "cell_type": "code",
   "execution_count": 17,
   "metadata": {},
   "outputs": [
    {
     "data": {
      "text/plain": [
       "Counter({'right-handed beta-helix': 41, '6-bladed beta-propeller': 37})"
      ]
     },
     "execution_count": 17,
     "metadata": {},
     "output_type": "execute_result"
    }
   ],
   "source": [
    "from collections import Counter\n",
    "\n",
    "folds_FPs = [FP_results[prot][2] for prot in FP_results]\n",
    "Counter(folds_FPs)"
   ]
  },
  {
   "cell_type": "code",
   "execution_count": 1,
   "metadata": {},
   "outputs": [
    {
     "data": {
      "application/vnd.jupyter.widget-view+json": {
       "model_id": "2a3778ef679d4f7f8579ddd34c4a8236",
       "version_major": 2,
       "version_minor": 0
      },
      "text/plain": []
     },
     "metadata": {},
     "output_type": "display_data"
    }
   ],
   "source": [
    "import nglview as nv\n",
    "\n",
    "def view_pdb(file) : \n",
    "    path_project = \"/media/concha-eloko/Linux/PhageDEPOdetection\"\n",
    "    path_pdb = f\"{path_project}/FP_2108\"\n",
    "    view = nv.show_structure_file(f\"{path_pdb}/{file}\")\n",
    "    view\n"
   ]
  },
  {
   "cell_type": "code",
   "execution_count": 2,
   "metadata": {},
   "outputs": [
    {
     "data": {
      "application/vnd.jupyter.widget-view+json": {
       "model_id": "3ed690d2b0384f569d9c29532d192819",
       "version_major": 2,
       "version_minor": 0
      },
      "text/plain": [
       "NGLWidget(background='black')"
      ]
     },
     "metadata": {},
     "output_type": "display_data"
    }
   ],
   "source": [
    "path_project = \"/media/concha-eloko/Linux/PhageDEPOdetection\"\n",
    "path_pdb = f\"{path_project}/FP_pdb\"\n",
    "\n",
    "view = nv.show_file(f\"{path_pdb}/KC821625.1_prot_AGO49026.1_15.pdb\")\n",
    "view.background = 'black'\n",
    "view"
   ]
  },
  {
   "cell_type": "code",
   "execution_count": 28,
   "metadata": {
    "editable": true,
    "scrolled": true,
    "slideshow": {
     "slide_type": ""
    },
    "tags": []
   },
   "outputs": [
    {
     "data": {
      "text/plain": [
       "['NC_017972.1_prot_YP_006382630.1_100.pdb',\n",
       " 'NC_016071.1_prot_YP_004893846.1_39.pdb',\n",
       " 'KC821625.1_prot_AGO49026.1_15.pdb',\n",
       " 'NC_019401.1_prot_YP_006987325.1_223.pdb',\n",
       " 'NC_027364.1_prot_YP_009150318.1_4.pdb',\n",
       " 'NC_019526.1_prot_YP_007007689.1_534.pdb',\n",
       " 'NC_019929.1_prot_YP_007237854.1_204.pdb',\n",
       " 'NC_006883.2_prot_YP_214266.1_30.pdb',\n",
       " 'NC_025422.1_prot_YP_009098968.1_210.pdb',\n",
       " 'NC_027364.1_prot_YP_009150602.1_288.pdb',\n",
       " 'KC821621.1_prot_AGO48656.1_21.pdb',\n",
       " 'HQ632825.1_prot_AGN12459.1_301.pdb',\n",
       " 'NC_027364.1_prot_YP_009150315.1_1.pdb',\n",
       " 'NC_017971.2_prot_YP_006382482.1_22.pdb',\n",
       " 'JX262376.1_prot_AFO10887.1_21.pdb',\n",
       " 'AY349011.3_prot_AAQ55000.1_65.pdb',\n",
       " 'NC_006883.2_prot_YP_214361.1_128.pdb',\n",
       " 'NC_019526.1_prot_YP_007007233.1_78.pdb',\n",
       " 'NC_023557.1_prot_YP_009004812.1_20.pdb',\n",
       " 'NC_003157.5_prot_NP_438158.1_46.pdb',\n",
       " 'NC_019917.1_prot_YP_007236806.1_60.pdb',\n",
       " 'HQ632825.1_prot_AGN12302.1_144.pdb',\n",
       " 'NC_020079.1_prot_YP_007348548.1_180.pdb',\n",
       " 'NC_027364.1_prot_YP_009150606.1_292.pdb',\n",
       " 'NC_015296.1_prot_YP_004327542.1_171.pdb',\n",
       " 'NC_027351.1_prot_YP_009148844.1_48.pdb',\n",
       " 'HQ632825.1_prot_AGN12284.1_126.pdb',\n",
       " 'NC_019400.1_prot_YP_006987067.1_234.pdb',\n",
       " 'NC_025422.1_prot_YP_009098974.1_216.pdb',\n",
       " 'NC_019487.1_prot_YP_007003405.1_148.pdb',\n",
       " 'NC_020842.1_prot_YP_007673467.1_85.pdb',\n",
       " 'NC_019414.1_prot_YP_006990136.1_21.pdb',\n",
       " 'NC_027364.1_prot_YP_009150600.1_286.pdb',\n",
       " 'HQ632825.1_prot_AGN12305.1_147.pdb',\n",
       " 'NC_016071.1_prot_YP_004893847.1_40.pdb',\n",
       " 'NC_041856.1_prot_YP_009592102.1_23.pdb',\n",
       " 'AY349011.3_prot_AAQ54997.1_62.pdb',\n",
       " 'FJ230960.1_prot_ACI90966.1_61.pdb',\n",
       " 'HQ632825.1_prot_AGN12239.1_81.pdb',\n",
       " 'NC_027351.1_prot_YP_009148843.1_47.pdb',\n",
       " 'NC_027364.1_prot_YP_009150848.1_534.pdb',\n",
       " 'NC_019526.1_prot_YP_007007253.1_98.pdb',\n",
       " 'NC_006883.2_prot_YP_214546.1_315.pdb',\n",
       " 'NC_006883.2_prot_YP_214526.1_295.pdb']"
      ]
     },
     "execution_count": 28,
     "metadata": {},
     "output_type": "execute_result"
    }
   ],
   "source": [
    "no_structure"
   ]
  }
 ],
 "metadata": {
  "kernelspec": {
   "display_name": "blast_life",
   "language": "python",
   "name": "blast_life"
  },
  "language_info": {
   "codemirror_mode": {
    "name": "ipython",
    "version": 3
   },
   "file_extension": ".py",
   "mimetype": "text/x-python",
   "name": "python",
   "nbconvert_exporter": "python",
   "pygments_lexer": "ipython3",
   "version": "3.11.4"
  },
  "widgets": {
   "application/vnd.jupyter.widget-state+json": {
    "state": {},
    "version_major": 2,
    "version_minor": 0
   }
  }
 },
 "nbformat": 4,
 "nbformat_minor": 4
}
