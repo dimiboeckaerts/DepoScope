{
 "cells": [
  {
   "cell_type": "code",
   "execution_count": null,
   "id": "7d3ae5be-e932-4cb2-adad-e10cd315b89c",
   "metadata": {},
   "outputs": [],
   "source": [
    "import pandas as pd \n",
    "import os \n",
    "from tqdm import tqdm\n",
    "from Bio import SeqIO\n"
   ]
  },
  {
   "cell_type": "code",
   "execution_count": null,
   "id": "ce741ae2-6fa6-4ba0-82c0-d742481c4bfd",
   "metadata": {},
   "outputs": [],
   "source": []
  },
  {
   "cell_type": "code",
   "execution_count": null,
   "id": "d10c6458-bdb4-47ab-94ef-27513e57218e",
   "metadata": {},
   "outputs": [],
   "source": [
    "seq_to_remove = SeqIO.parse(f\"{path_DePP_results}/remove_benchmark.fasta\", \"fasta\")\n",
    "seq_to_remove_list = [record.seq for record in seq_to_remove]"
   ]
  },
  {
   "cell_type": "code",
   "execution_count": null,
   "id": "98254dde-1014-4ab1-be40-656d892dd755",
   "metadata": {},
   "outputs": [],
   "source": [
    "df_final_results = pd.read_csv(f\"{path_DePP_results}/full_benchmark_dataframe.4L.2008.csv\", header = 0, sep = \",\")\n",
    "df_final_results = df_final_results[df_final_results[\"protein_seq\"].str.len() >= 200]\n",
    "\n",
    "df_final_results_unseen = df_final_results[~df_final_results[\"protein_seq\"].isin(seq_to_remove_list)]"
   ]
  },
  {
   "cell_type": "code",
   "execution_count": null,
   "id": "6f3ac7ea-ca5f-46c3-b180-5652e5166816",
   "metadata": {},
   "outputs": [],
   "source": [
    "data_dict = {\"Deposcope\" : df_final_results_unseen[\"scores_DepolyX\"], \n",
    "             \"PhageDPO\" : (df_final_results_unseen[\"scores_phageDPO\"]/100), \n",
    "             \"DePP\" : df_final_results_unseen[\"scores_DePP\"], \n",
    "             \"Label\" : df_final_results_unseen[\"label\"]}\n",
    "\n",
    "data_color = {\"Deposcope\" : \"#b22234\", \n",
    "             \"PhageDPO\" : \"#3c3b6e\", \n",
    "             \"DePP\" : \"#828282\"}"
   ]
  },
  {
   "cell_type": "code",
   "execution_count": null,
   "id": "0753e513-f9cb-447e-9441-7551661c5d70",
   "metadata": {},
   "outputs": [],
   "source": [
    "import matplotlib.pyplot as plt\n",
    "import seaborn as sns\n",
    "from sklearn.metrics import precision_recall_curve, auc\n",
    "\n",
    "def plot_multiple_precision_recall_curves(data_dict):\n",
    "    plt.figure(figsize=(12, 8))\n",
    "    lw = 2\n",
    "    sns.set(style=\"whitegrid\")\n",
    "    for key, value in data_dict.items():\n",
    "        if key != \"Label\":\n",
    "            precision, recall, _ = precision_recall_curve(data_dict[\"Label\"], value)\n",
    "            pr_auc = auc(recall, precision)\n",
    "            plt.plot(recall, precision, lw=lw, label=f'{key} (AUC = {pr_auc:.2f})')\n",
    "\n",
    "    plt.xlabel('Recall')\n",
    "    plt.ylabel('Precision')\n",
    "    plt.title('Precision-Recall Curve')\n",
    "    plt.legend(loc=\"lower left\")\n",
    "    plt.savefig('/media/concha-eloko/Linux/papers/Deposcope/Precision_Recall_methods.1303.png', dpi=500)\n",
    "    plt.show()\n",
    "\n",
    "plot_multiple_precision_recall_curves(data_dict)"
   ]
  },
  {
   "cell_type": "code",
   "execution_count": null,
   "id": "5d29ddda-8c8e-4f0c-9439-d00b3e6ce556",
   "metadata": {},
   "outputs": [],
   "source": []
  }
 ],
 "metadata": {
  "kernelspec": {
   "display_name": "Python 3 (ipykernel)",
   "language": "python",
   "name": "python3"
  },
  "language_info": {
   "codemirror_mode": {
    "name": "ipython",
    "version": 3
   },
   "file_extension": ".py",
   "mimetype": "text/x-python",
   "name": "python",
   "nbconvert_exporter": "python",
   "pygments_lexer": "ipython3",
   "version": "3.11.4"
  },
  "widgets": {
   "application/vnd.jupyter.widget-state+json": {
    "state": {},
    "version_major": 2,
    "version_minor": 0
   }
  }
 },
 "nbformat": 4,
 "nbformat_minor": 5
}
