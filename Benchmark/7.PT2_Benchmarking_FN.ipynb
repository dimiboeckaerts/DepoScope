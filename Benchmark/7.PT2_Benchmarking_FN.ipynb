{
 "cells": [
  {
   "cell_type": "markdown",
   "metadata": {},
   "source": [
    "# The goal here is to benchmark the DpoDetection tool with other depolymerase detection tools \n",
    "***\n",
    "# I. Load the models :\n",
    "#### 77 phages candidates \n",
    ">Detected Dpos <br>\n",
    ">Missed Dpos <br>\n",
    "***\n",
    "# II. Getting the resulting predictions\n",
    "#### Pires Dpos\n",
    "\n",
    "***\n",
    "# III. Make figures\n",
    "***"
   ]
  },
  {
   "cell_type": "code",
   "execution_count": 1,
   "metadata": {},
   "outputs": [
    {
     "data": {
      "application/vnd.jupyter.widget-view+json": {
       "model_id": "c1668afa386e4dc991d6c6af84549aa6",
       "version_major": 2,
       "version_minor": 0
      },
      "text/plain": []
     },
     "metadata": {},
     "output_type": "display_data"
    }
   ],
   "source": [
    "import nglview as nv\n",
    "import os\n",
    "import numpy as np\n",
    "import tqdm\n",
    "import matplotlib.pyplot as plt\n",
    "import warnings\n",
    "warnings.filterwarnings(\"ignore\", category=RuntimeWarning) \n",
    "\n",
    "path_project = \"/media/concha-eloko/Linux/PhageDEPOdetection\"\n",
    "path_pdb = f\"{path_project}/FN_FP_deposcope_032024/full_missing_dpos_esmfold/FN_pdbs\"\n",
    "\n"
   ]
  },
  {
   "cell_type": "code",
   "execution_count": 27,
   "metadata": {},
   "outputs": [
    {
     "data": {
      "text/plain": [
       "26"
      ]
     },
     "execution_count": 27,
     "metadata": {},
     "output_type": "execute_result"
    }
   ],
   "source": [
    "all_fn = ['NC_021856.1__YP_008318292',\n",
    " 'NC_021856.1__YP_008318429',\n",
    " 'FR671410.1__CBW39181',\n",
    " 'FR671406.1__CBW38974',\n",
    " 'HG799496.1__YP_009042723',\n",
    " 'JX262376.1__AFO10889',\n",
    " 'NC_024792.1__YP_009056510',\n",
    " 'HG799490.1__YP_009043945',\n",
    " 'NC_019487.1__YP_007003328',\n",
    " 'KJ417497.1__AHN84645',\n",
    " 'KC700557.1__YP_008051427',\n",
    " 'NC_018836.1__YP_006906201',\n",
    " 'NC_020081.2__YP_007349243',\n",
    " 'FR671405.1__CBW38917',\n",
    " 'NC_025422.1__AGS80957',\n",
    " 'KC700558.1__YP_008060258',\n",
    " 'HG799497.1__YP_009043178',\n",
    " 'FR671411.1__CBW39235',\n",
    " 'NC_041856.1__AFV51346',\n",
    " 'KC700556.1__YP_008050881',\n",
    " 'NC_020083.1__AFX93507',\n",
    " 'GU323708.1__ADA79896',\n",
    " 'GU323708.1__ADA79897',\n",
    " 'NC_019414.1__YP_006990138',\n",
    " 'FR671407.1__CBW39031',\n",
    " 'NC_017972.1__AFH14728']\n",
    "\n",
    "len(all_fn)"
   ]
  },
  {
   "cell_type": "code",
   "execution_count": 28,
   "metadata": {},
   "outputs": [
    {
     "name": "stdout",
     "output_type": "stream",
     "text": [
      "HG799490.1__YP_009043945\n"
     ]
    }
   ],
   "source": [
    "for prot in all_fn :\n",
    "    if f\"{prot}.pdb\" not in os.listdir(path_pdb) :\n",
    "        print(prot)\n",
    "    #else :\n",
    "    #    print(prot)"
   ]
  },
  {
   "cell_type": "code",
   "execution_count": 11,
   "metadata": {},
   "outputs": [],
   "source": [
    "check_pdb = ['NC_020083.1__AFX93507.pdb',\n",
    " 'NC_017972.1__AFH14728.pdb',\n",
    " 'NC_018836.1__YP_006906201.pdb',\n",
    " 'FR671405.1__CBW38917.pdb',\n",
    " 'KJ417497.1__AHN84645.pdb',\n",
    " 'NC_041856.1__AFV51346.pdb',\n",
    " 'NC_020081.2__YP_007349243.pdb',\n",
    " 'NC_019414.1__YP_006990138.pdb',\n",
    " 'KC700556.1__YP_008050881.pdb',\n",
    " 'KC700558.1__YP_008060258.pdb',\n",
    " 'FR671411.1__CBW39235.pdb',\n",
    " 'KC700557.1__YP_008051427.pdb',\n",
    " 'HG799497.1__YP_009043178.pdb',\n",
    " 'FR671407.1__CBW39031.pdb']"
   ]
  },
  {
   "cell_type": "code",
   "execution_count": 12,
   "metadata": {},
   "outputs": [
    {
     "data": {
      "text/plain": [
       "14"
      ]
     },
     "execution_count": 12,
     "metadata": {},
     "output_type": "execute_result"
    }
   ],
   "source": [
    "len(check_pdb)"
   ]
  },
  {
   "cell_type": "code",
   "execution_count": 5,
   "metadata": {},
   "outputs": [],
   "source": [
    "n = 0"
   ]
  },
  {
   "cell_type": "code",
   "execution_count": 6,
   "metadata": {},
   "outputs": [
    {
     "name": "stdout",
     "output_type": "stream",
     "text": [
      "NC_020083.1__AFX93507.pdb\n"
     ]
    },
    {
     "ename": "ValueError",
     "evalue": "you must provide file extension if using file-like object or text content",
     "output_type": "error",
     "traceback": [
      "\u001b[0;31m---------------------------------------------------------------------------\u001b[0m",
      "\u001b[0;31mValueError\u001b[0m                                Traceback (most recent call last)",
      "Cell \u001b[0;32mIn[6], line 7\u001b[0m\n\u001b[1;32m      5\u001b[0m \u001b[38;5;28mprint\u001b[39m(pdb)\n\u001b[1;32m      6\u001b[0m \u001b[38;5;28;01mif\u001b[39;00m n \u001b[38;5;241m==\u001b[39m \u001b[38;5;241m1\u001b[39m :\n\u001b[0;32m----> 7\u001b[0m     view \u001b[38;5;241m=\u001b[39m \u001b[43mnv\u001b[49m\u001b[38;5;241;43m.\u001b[39;49m\u001b[43mshow_structure_file\u001b[49m\u001b[43m(\u001b[49m\u001b[43mfile_path\u001b[49m\u001b[43m \u001b[49m\u001b[43m,\u001b[49m\u001b[43m \u001b[49m\u001b[43mext\u001b[49m\u001b[38;5;241;43m=\u001b[39;49m\u001b[38;5;124;43m\"\u001b[39;49m\u001b[38;5;124;43mpdb\u001b[39;49m\u001b[38;5;124;43m\"\u001b[39;49m\u001b[43m \u001b[49m\u001b[43m,\u001b[49m\u001b[43m \u001b[49m\u001b[43mgui\u001b[49m\u001b[38;5;241;43m=\u001b[39;49m\u001b[38;5;28;43;01mFalse\u001b[39;49;00m\u001b[43m)\u001b[49m\n\u001b[1;32m      8\u001b[0m \u001b[38;5;28;01melse\u001b[39;00m :\n\u001b[1;32m      9\u001b[0m     view\u001b[38;5;241m.\u001b[39mclose()\n",
      "File \u001b[0;32m~/miniconda3/lib/python3.11/site-packages/nglview/show.py:217\u001b[0m, in \u001b[0;36mshow_structure_file\u001b[0;34m(path, **kwargs)\u001b[0m\n\u001b[1;32m    206\u001b[0m \u001b[38;5;28;01mdef\u001b[39;00m \u001b[38;5;21mshow_structure_file\u001b[39m(path, \u001b[38;5;241m*\u001b[39m\u001b[38;5;241m*\u001b[39mkwargs):\n\u001b[1;32m    207\u001b[0m \u001b[38;5;250m    \u001b[39m\u001b[38;5;124;03m'''Show structure file. Allowed are text-based structure\u001b[39;00m\n\u001b[1;32m    208\u001b[0m \u001b[38;5;124;03m    file formats that are by supported by NGL, including pdb,\u001b[39;00m\n\u001b[1;32m    209\u001b[0m \u001b[38;5;124;03m    gro, mol2, sdf.\u001b[39;00m\n\u001b[0;32m   (...)\u001b[0m\n\u001b[1;32m    215\u001b[0m \u001b[38;5;124;03m    >>> w # doctest: +SKIP\u001b[39;00m\n\u001b[1;32m    216\u001b[0m \u001b[38;5;124;03m    '''\u001b[39;00m\n\u001b[0;32m--> 217\u001b[0m     structure \u001b[38;5;241m=\u001b[39m \u001b[43mFileStructure\u001b[49m\u001b[43m(\u001b[49m\u001b[43mpath\u001b[49m\u001b[43m)\u001b[49m\n\u001b[1;32m    218\u001b[0m     \u001b[38;5;28;01mreturn\u001b[39;00m NGLWidget(structure, \u001b[38;5;241m*\u001b[39m\u001b[38;5;241m*\u001b[39mkwargs)\n",
      "File \u001b[0;32m~/miniconda3/lib/python3.11/site-packages/nglview/adaptor.py:78\u001b[0m, in \u001b[0;36mFileStructure.__init__\u001b[0;34m(self, path)\u001b[0m\n\u001b[1;32m     76\u001b[0m \u001b[38;5;28msuper\u001b[39m()\u001b[38;5;241m.\u001b[39m\u001b[38;5;21m__init__\u001b[39m()\n\u001b[1;32m     77\u001b[0m \u001b[38;5;28mself\u001b[39m\u001b[38;5;241m.\u001b[39mfm \u001b[38;5;241m=\u001b[39m FileManager(path)\n\u001b[0;32m---> 78\u001b[0m \u001b[38;5;28mself\u001b[39m\u001b[38;5;241m.\u001b[39mext \u001b[38;5;241m=\u001b[39m \u001b[38;5;28;43mself\u001b[39;49m\u001b[38;5;241;43m.\u001b[39;49m\u001b[43mfm\u001b[49m\u001b[38;5;241;43m.\u001b[39;49m\u001b[43mext\u001b[49m\n\u001b[1;32m     79\u001b[0m \u001b[38;5;28mself\u001b[39m\u001b[38;5;241m.\u001b[39mparams \u001b[38;5;241m=\u001b[39m {}\n\u001b[1;32m     80\u001b[0m \u001b[38;5;28mself\u001b[39m\u001b[38;5;241m.\u001b[39mpath \u001b[38;5;241m=\u001b[39m path\n",
      "File \u001b[0;32m~/miniconda3/lib/python3.11/site-packages/nglview/utils/py_utils.py:242\u001b[0m, in \u001b[0;36mFileManager.ext\u001b[0;34m(self)\u001b[0m\n\u001b[1;32m    239\u001b[0m \u001b[38;5;28;01melse\u001b[39;00m:\n\u001b[1;32m    240\u001b[0m     \u001b[38;5;28;01mif\u001b[39;00m \u001b[38;5;28mhasattr\u001b[39m(\u001b[38;5;28mself\u001b[39m\u001b[38;5;241m.\u001b[39msrc, \u001b[38;5;124m'\u001b[39m\u001b[38;5;124mread\u001b[39m\u001b[38;5;124m'\u001b[39m) \u001b[38;5;129;01mor\u001b[39;00m (\u001b[38;5;129;01mnot\u001b[39;00m \u001b[38;5;28mself\u001b[39m\u001b[38;5;241m.\u001b[39mis_filename\n\u001b[1;32m    241\u001b[0m                                      \u001b[38;5;129;01mand\u001b[39;00m \u001b[38;5;129;01mnot\u001b[39;00m \u001b[38;5;28mself\u001b[39m\u001b[38;5;241m.\u001b[39mis_url):\n\u001b[0;32m--> 242\u001b[0m         \u001b[38;5;28;01mraise\u001b[39;00m \u001b[38;5;167;01mValueError\u001b[39;00m(\n\u001b[1;32m    243\u001b[0m             \u001b[38;5;124m\"\u001b[39m\u001b[38;5;124myou must provide file extension if using file-like object or text content\u001b[39m\u001b[38;5;124m\"\u001b[39m\n\u001b[1;32m    244\u001b[0m         )\n\u001b[1;32m    245\u001b[0m     \u001b[38;5;28;01mif\u001b[39;00m \u001b[38;5;28mself\u001b[39m\u001b[38;5;241m.\u001b[39mis_compressed:\n\u001b[1;32m    246\u001b[0m         \u001b[38;5;28;01mreturn\u001b[39;00m \u001b[38;5;28mself\u001b[39m\u001b[38;5;241m.\u001b[39msrc\u001b[38;5;241m.\u001b[39msplit(\u001b[38;5;124m'\u001b[39m\u001b[38;5;124m.\u001b[39m\u001b[38;5;124m'\u001b[39m)[\u001b[38;5;241m-\u001b[39m\u001b[38;5;241m2\u001b[39m]\n",
      "\u001b[0;31mValueError\u001b[0m: you must provide file extension if using file-like object or text content"
     ]
    }
   ],
   "source": [
    "for index,pdb in enumerate(check_pdb) :\n",
    "    if index == n :\n",
    "        n += 1 \n",
    "        file_path = f\"{path_pdb}/{pdb}\"\n",
    "        print(pdb)\n",
    "        if n == 1 :\n",
    "            view = nv.show_structure_file(file_path , ext=\"pdb\" , gui=False)\n",
    "        else :\n",
    "            view.close()\n",
    "            view = nv.show_structure_file(file_path , ext=\"pdb\" , gui=False)\n",
    "        break\n",
    "        \n",
    "view    \n",
    "    "
   ]
  },
  {
   "cell_type": "code",
   "execution_count": 29,
   "metadata": {},
   "outputs": [],
   "source": [
    "view.close()"
   ]
  },
  {
   "cell_type": "code",
   "execution_count": 30,
   "metadata": {},
   "outputs": [
    {
     "ename": "ValueError",
     "evalue": "you must provide file extension if using file-like object or text content",
     "output_type": "error",
     "traceback": [
      "\u001b[0;31m---------------------------------------------------------------------------\u001b[0m",
      "\u001b[0;31mValueError\u001b[0m                                Traceback (most recent call last)",
      "Cell \u001b[0;32mIn[30], line 2\u001b[0m\n\u001b[1;32m      1\u001b[0m file_path \u001b[38;5;241m=\u001b[39m \u001b[38;5;124mf\u001b[39m\u001b[38;5;124m\"\u001b[39m\u001b[38;5;132;01m{\u001b[39;00mpath_pdb\u001b[38;5;132;01m}\u001b[39;00m\u001b[38;5;124m/HG799490.1__YP_009043945.pdb\u001b[39m\u001b[38;5;124m\"\u001b[39m\n\u001b[0;32m----> 2\u001b[0m view \u001b[38;5;241m=\u001b[39m \u001b[43mnv\u001b[49m\u001b[38;5;241;43m.\u001b[39;49m\u001b[43mshow_structure_file\u001b[49m\u001b[43m(\u001b[49m\u001b[43mfile_path\u001b[49m\u001b[43m \u001b[49m\u001b[43m,\u001b[49m\u001b[43m \u001b[49m\u001b[43mext\u001b[49m\u001b[38;5;241;43m=\u001b[39;49m\u001b[38;5;124;43m\"\u001b[39;49m\u001b[38;5;124;43mpdb\u001b[39;49m\u001b[38;5;124;43m\"\u001b[39;49m\u001b[43m \u001b[49m\u001b[43m,\u001b[49m\u001b[43m \u001b[49m\u001b[43mgui\u001b[49m\u001b[38;5;241;43m=\u001b[39;49m\u001b[38;5;28;43;01mFalse\u001b[39;49;00m\u001b[43m)\u001b[49m\n\u001b[1;32m      3\u001b[0m view\n",
      "File \u001b[0;32m~/miniconda3/lib/python3.11/site-packages/nglview/show.py:217\u001b[0m, in \u001b[0;36mshow_structure_file\u001b[0;34m(path, **kwargs)\u001b[0m\n\u001b[1;32m    206\u001b[0m \u001b[38;5;28;01mdef\u001b[39;00m \u001b[38;5;21mshow_structure_file\u001b[39m(path, \u001b[38;5;241m*\u001b[39m\u001b[38;5;241m*\u001b[39mkwargs):\n\u001b[1;32m    207\u001b[0m \u001b[38;5;250m    \u001b[39m\u001b[38;5;124;03m'''Show structure file. Allowed are text-based structure\u001b[39;00m\n\u001b[1;32m    208\u001b[0m \u001b[38;5;124;03m    file formats that are by supported by NGL, including pdb,\u001b[39;00m\n\u001b[1;32m    209\u001b[0m \u001b[38;5;124;03m    gro, mol2, sdf.\u001b[39;00m\n\u001b[0;32m   (...)\u001b[0m\n\u001b[1;32m    215\u001b[0m \u001b[38;5;124;03m    >>> w # doctest: +SKIP\u001b[39;00m\n\u001b[1;32m    216\u001b[0m \u001b[38;5;124;03m    '''\u001b[39;00m\n\u001b[0;32m--> 217\u001b[0m     structure \u001b[38;5;241m=\u001b[39m \u001b[43mFileStructure\u001b[49m\u001b[43m(\u001b[49m\u001b[43mpath\u001b[49m\u001b[43m)\u001b[49m\n\u001b[1;32m    218\u001b[0m     \u001b[38;5;28;01mreturn\u001b[39;00m NGLWidget(structure, \u001b[38;5;241m*\u001b[39m\u001b[38;5;241m*\u001b[39mkwargs)\n",
      "File \u001b[0;32m~/miniconda3/lib/python3.11/site-packages/nglview/adaptor.py:78\u001b[0m, in \u001b[0;36mFileStructure.__init__\u001b[0;34m(self, path)\u001b[0m\n\u001b[1;32m     76\u001b[0m \u001b[38;5;28msuper\u001b[39m()\u001b[38;5;241m.\u001b[39m\u001b[38;5;21m__init__\u001b[39m()\n\u001b[1;32m     77\u001b[0m \u001b[38;5;28mself\u001b[39m\u001b[38;5;241m.\u001b[39mfm \u001b[38;5;241m=\u001b[39m FileManager(path)\n\u001b[0;32m---> 78\u001b[0m \u001b[38;5;28mself\u001b[39m\u001b[38;5;241m.\u001b[39mext \u001b[38;5;241m=\u001b[39m \u001b[38;5;28;43mself\u001b[39;49m\u001b[38;5;241;43m.\u001b[39;49m\u001b[43mfm\u001b[49m\u001b[38;5;241;43m.\u001b[39;49m\u001b[43mext\u001b[49m\n\u001b[1;32m     79\u001b[0m \u001b[38;5;28mself\u001b[39m\u001b[38;5;241m.\u001b[39mparams \u001b[38;5;241m=\u001b[39m {}\n\u001b[1;32m     80\u001b[0m \u001b[38;5;28mself\u001b[39m\u001b[38;5;241m.\u001b[39mpath \u001b[38;5;241m=\u001b[39m path\n",
      "File \u001b[0;32m~/miniconda3/lib/python3.11/site-packages/nglview/utils/py_utils.py:242\u001b[0m, in \u001b[0;36mFileManager.ext\u001b[0;34m(self)\u001b[0m\n\u001b[1;32m    239\u001b[0m \u001b[38;5;28;01melse\u001b[39;00m:\n\u001b[1;32m    240\u001b[0m     \u001b[38;5;28;01mif\u001b[39;00m \u001b[38;5;28mhasattr\u001b[39m(\u001b[38;5;28mself\u001b[39m\u001b[38;5;241m.\u001b[39msrc, \u001b[38;5;124m'\u001b[39m\u001b[38;5;124mread\u001b[39m\u001b[38;5;124m'\u001b[39m) \u001b[38;5;129;01mor\u001b[39;00m (\u001b[38;5;129;01mnot\u001b[39;00m \u001b[38;5;28mself\u001b[39m\u001b[38;5;241m.\u001b[39mis_filename\n\u001b[1;32m    241\u001b[0m                                      \u001b[38;5;129;01mand\u001b[39;00m \u001b[38;5;129;01mnot\u001b[39;00m \u001b[38;5;28mself\u001b[39m\u001b[38;5;241m.\u001b[39mis_url):\n\u001b[0;32m--> 242\u001b[0m         \u001b[38;5;28;01mraise\u001b[39;00m \u001b[38;5;167;01mValueError\u001b[39;00m(\n\u001b[1;32m    243\u001b[0m             \u001b[38;5;124m\"\u001b[39m\u001b[38;5;124myou must provide file extension if using file-like object or text content\u001b[39m\u001b[38;5;124m\"\u001b[39m\n\u001b[1;32m    244\u001b[0m         )\n\u001b[1;32m    245\u001b[0m     \u001b[38;5;28;01mif\u001b[39;00m \u001b[38;5;28mself\u001b[39m\u001b[38;5;241m.\u001b[39mis_compressed:\n\u001b[1;32m    246\u001b[0m         \u001b[38;5;28;01mreturn\u001b[39;00m \u001b[38;5;28mself\u001b[39m\u001b[38;5;241m.\u001b[39msrc\u001b[38;5;241m.\u001b[39msplit(\u001b[38;5;124m'\u001b[39m\u001b[38;5;124m.\u001b[39m\u001b[38;5;124m'\u001b[39m)[\u001b[38;5;241m-\u001b[39m\u001b[38;5;241m2\u001b[39m]\n",
      "\u001b[0;31mValueError\u001b[0m: you must provide file extension if using file-like object or text content"
     ]
    }
   ],
   "source": [
    "file_path = f\"{path_pdb}/HG799490.1__YP_009043945.pdb\"\n",
    "view = nv.show_structure_file(file_path , ext=\"pdb\" , gui=False)\n",
    "view"
   ]
  },
  {
   "cell_type": "code",
   "execution_count": null,
   "metadata": {},
   "outputs": [],
   "source": [
    "NC_021856.1__YP_008318292.pdb\n",
    "FR671410.1__CBW39181.pdb\n",
    "NC_024792.1__YP_009056510.pdb\n",
    "JX262376.1__AFO10889.pdb\n",
    "HG799496.1__YP_009042723.pdb\n",
    "FR671406.1__CBW38974.pdb"
   ]
  },
  {
   "cell_type": "markdown",
   "metadata": {},
   "source": [
    "***\n",
    "### Get the annotation of the real FPs : "
   ]
  },
  {
   "cell_type": "code",
   "execution_count": 104,
   "metadata": {},
   "outputs": [
    {
     "name": "stderr",
     "output_type": "stream",
     "text": [
      "100%|█████████████████████████████████████████████████████████████████████████████████████████████████████████████| 143/143 [00:00<00:00, 1167.71it/s]\n"
     ]
    }
   ],
   "source": [
    "path_out = \"/media/concha-eloko/Linux/PhageDEPOdetection/Benchmarking\"\n",
    "from Bio import SeqIO\n",
    "from tqdm import tqdm \n",
    "\n",
    "dico_annotation = {}\n",
    "for fasta_file in tqdm(os.listdir(path_out)) :\n",
    "    if fasta_file.count(\"multi.faa\") > 0 : \n",
    "        fastas = SeqIO.parse(f\"{path_out}/{fasta_file}\" , \"fasta\")\n",
    "        tmp_results = []\n",
    "        for record in fastas :\n",
    "            annotation = record.description.split(\"protein=\")[1].split(\"]\")[0]\n",
    "            seq = str(record.seq)\n",
    "            if seq not in dico_annotation : \n",
    "                dico_annotation[seq] = [record.description]\n",
    "            elif annotation in dico_annotation[seq] : \n",
    "                pass\n",
    "            else :\n",
    "                dico_annotation[seq].append(annotation)"
   ]
  },
  {
   "cell_type": "code",
   "execution_count": 109,
   "metadata": {},
   "outputs": [],
   "source": [
    "import pandas as pd \n",
    "import os\n",
    "from collections import Counter\n",
    "\n",
    "fp_data = pd.read_csv(f\"{path_project}/FP_manually_checked.tsv\", sep = \"\\t\", header = 0)"
   ]
  },
  {
   "cell_type": "code",
   "execution_count": 112,
   "metadata": {
    "scrolled": true
   },
   "outputs": [
    {
     "data": {
      "text/html": [
       "<div>\n",
       "<style scoped>\n",
       "    .dataframe tbody tr th:only-of-type {\n",
       "        vertical-align: middle;\n",
       "    }\n",
       "\n",
       "    .dataframe tbody tr th {\n",
       "        vertical-align: top;\n",
       "    }\n",
       "\n",
       "    .dataframe thead th {\n",
       "        text-align: right;\n",
       "    }\n",
       "</style>\n",
       "<table border=\"1\" class=\"dataframe\">\n",
       "  <thead>\n",
       "    <tr style=\"text-align: right;\">\n",
       "      <th></th>\n",
       "      <th>FP name</th>\n",
       "      <th>PD domain</th>\n",
       "      <th>Fold</th>\n",
       "    </tr>\n",
       "  </thead>\n",
       "  <tbody>\n",
       "    <tr>\n",
       "      <th>0</th>\n",
       "      <td>NC_023610.1__YP_009010126.pdb</td>\n",
       "      <td>no</td>\n",
       "      <td>-</td>\n",
       "    </tr>\n",
       "    <tr>\n",
       "      <th>1</th>\n",
       "      <td>NC_023610.1__YP_009010284.pdb</td>\n",
       "      <td>no</td>\n",
       "      <td>-</td>\n",
       "    </tr>\n",
       "    <tr>\n",
       "      <th>2</th>\n",
       "      <td>NC_015295.1__YP_004327330.pdb</td>\n",
       "      <td>no</td>\n",
       "      <td>-</td>\n",
       "    </tr>\n",
       "    <tr>\n",
       "      <th>3</th>\n",
       "      <td>KF669657.1__AGY48027.pdb</td>\n",
       "      <td>no</td>\n",
       "      <td>-</td>\n",
       "    </tr>\n",
       "    <tr>\n",
       "      <th>4</th>\n",
       "      <td>NC_017972.1__YP_006382773.pdb</td>\n",
       "      <td>no</td>\n",
       "      <td>-</td>\n",
       "    </tr>\n",
       "    <tr>\n",
       "      <th>5</th>\n",
       "      <td>NC_025422.1__YP_009098968.pdb</td>\n",
       "      <td>no</td>\n",
       "      <td>-</td>\n",
       "    </tr>\n",
       "    <tr>\n",
       "      <th>6</th>\n",
       "      <td>HQ632825.1__AGN12239.pdb</td>\n",
       "      <td>yes</td>\n",
       "      <td>triple helix</td>\n",
       "    </tr>\n",
       "    <tr>\n",
       "      <th>7</th>\n",
       "      <td>NC_022764.1__YP_008770517.pdb</td>\n",
       "      <td>no</td>\n",
       "      <td>-</td>\n",
       "    </tr>\n",
       "    <tr>\n",
       "      <th>8</th>\n",
       "      <td>NC_027364.1__YP_009150603.pdb</td>\n",
       "      <td>yes</td>\n",
       "      <td>n-bladed β-propeller</td>\n",
       "    </tr>\n",
       "    <tr>\n",
       "      <th>9</th>\n",
       "      <td>AY349011.3__AAQ54998.pdb</td>\n",
       "      <td>no</td>\n",
       "      <td>-</td>\n",
       "    </tr>\n",
       "    <tr>\n",
       "      <th>10</th>\n",
       "      <td>NC_017981.1__YP_006383635.pdb</td>\n",
       "      <td>no</td>\n",
       "      <td>-</td>\n",
       "    </tr>\n",
       "    <tr>\n",
       "      <th>11</th>\n",
       "      <td>NC_019414.1__YP_006990136.pdb</td>\n",
       "      <td>yes</td>\n",
       "      <td>triple helix</td>\n",
       "    </tr>\n",
       "    <tr>\n",
       "      <th>12</th>\n",
       "      <td>KC821621.1__AGO48656.pdb</td>\n",
       "      <td>yes</td>\n",
       "      <td>triple helix</td>\n",
       "    </tr>\n",
       "    <tr>\n",
       "      <th>13</th>\n",
       "      <td>NC_006883.2__YP_214266.pdb</td>\n",
       "      <td>yes</td>\n",
       "      <td>triple helix</td>\n",
       "    </tr>\n",
       "    <tr>\n",
       "      <th>14</th>\n",
       "      <td>NC_027364.1__YP_009150608.pdb</td>\n",
       "      <td>yes</td>\n",
       "      <td>n-bladed β-propeller</td>\n",
       "    </tr>\n",
       "    <tr>\n",
       "      <th>15</th>\n",
       "      <td>KC700556.1__AGM12045.pdb</td>\n",
       "      <td>yes</td>\n",
       "      <td>triple helix</td>\n",
       "    </tr>\n",
       "    <tr>\n",
       "      <th>16</th>\n",
       "      <td>JX262376.1__AFO10887.pdb</td>\n",
       "      <td>yes</td>\n",
       "      <td>triple helix</td>\n",
       "    </tr>\n",
       "    <tr>\n",
       "      <th>17</th>\n",
       "      <td>NC_016071.1__YP_004893846.pdb</td>\n",
       "      <td>yes</td>\n",
       "      <td>n-bladed β-propeller</td>\n",
       "    </tr>\n",
       "    <tr>\n",
       "      <th>18</th>\n",
       "      <td>NC_027364.1__YP_009150318.pdb</td>\n",
       "      <td>yes</td>\n",
       "      <td>triple helix</td>\n",
       "    </tr>\n",
       "    <tr>\n",
       "      <th>19</th>\n",
       "      <td>HQ632825.1__AGN12302.pdb</td>\n",
       "      <td>yes</td>\n",
       "      <td>right-handed β-helix</td>\n",
       "    </tr>\n",
       "    <tr>\n",
       "      <th>20</th>\n",
       "      <td>NC_019526.1__YP_007007253.pdb</td>\n",
       "      <td>yes</td>\n",
       "      <td>triple helix</td>\n",
       "    </tr>\n",
       "    <tr>\n",
       "      <th>21</th>\n",
       "      <td>NC_022763.1__YP_008770318.pdb</td>\n",
       "      <td>yes</td>\n",
       "      <td>triple helix</td>\n",
       "    </tr>\n",
       "    <tr>\n",
       "      <th>22</th>\n",
       "      <td>HQ632825.1__AGN12240.pdb</td>\n",
       "      <td>yes</td>\n",
       "      <td>triple helix</td>\n",
       "    </tr>\n",
       "    <tr>\n",
       "      <th>23</th>\n",
       "      <td>NC_019401.1__YP_006987359.pdb</td>\n",
       "      <td>yes</td>\n",
       "      <td>triple helix</td>\n",
       "    </tr>\n",
       "    <tr>\n",
       "      <th>24</th>\n",
       "      <td>NC_027364.1__YP_009150610.pdb</td>\n",
       "      <td>yes</td>\n",
       "      <td>n-bladed β-propeller</td>\n",
       "    </tr>\n",
       "    <tr>\n",
       "      <th>25</th>\n",
       "      <td>NC_011421.1__YP_002300337.pdb</td>\n",
       "      <td>yes</td>\n",
       "      <td>right-handed β-helix</td>\n",
       "    </tr>\n",
       "    <tr>\n",
       "      <th>26</th>\n",
       "      <td>NC_027364.1__YP_009150600.pdb</td>\n",
       "      <td>yes</td>\n",
       "      <td>n-bladed β-propeller</td>\n",
       "    </tr>\n",
       "    <tr>\n",
       "      <th>27</th>\n",
       "      <td>NC_027364.1__YP_009150829.pdb</td>\n",
       "      <td>yes</td>\n",
       "      <td>triple helix</td>\n",
       "    </tr>\n",
       "    <tr>\n",
       "      <th>28</th>\n",
       "      <td>NC_019929.1__YP_007237740.pdb</td>\n",
       "      <td>no</td>\n",
       "      <td>-</td>\n",
       "    </tr>\n",
       "    <tr>\n",
       "      <th>29</th>\n",
       "      <td>KC821625.1__AGO49026.pdb</td>\n",
       "      <td>yes</td>\n",
       "      <td>triple helix</td>\n",
       "    </tr>\n",
       "    <tr>\n",
       "      <th>30</th>\n",
       "      <td>NC_006883.2__YP_214265.pdb</td>\n",
       "      <td>yes</td>\n",
       "      <td>triple helix</td>\n",
       "    </tr>\n",
       "    <tr>\n",
       "      <th>31</th>\n",
       "      <td>NC_021856.1__YP_008318350.pdb</td>\n",
       "      <td>yes</td>\n",
       "      <td>triple helix</td>\n",
       "    </tr>\n",
       "    <tr>\n",
       "      <th>32</th>\n",
       "      <td>NC_017972.1__YP_006382777.pdb</td>\n",
       "      <td>no</td>\n",
       "      <td>-</td>\n",
       "    </tr>\n",
       "    <tr>\n",
       "      <th>33</th>\n",
       "      <td>NC_022771.1__YP_008771452.pdb</td>\n",
       "      <td>yes</td>\n",
       "      <td>triple helix</td>\n",
       "    </tr>\n",
       "    <tr>\n",
       "      <th>34</th>\n",
       "      <td>NC_020083.1__YP_007349031.pdb</td>\n",
       "      <td>no</td>\n",
       "      <td>-</td>\n",
       "    </tr>\n",
       "    <tr>\n",
       "      <th>35</th>\n",
       "      <td>NC_020842.1__YP_007673467.pdb</td>\n",
       "      <td>yes</td>\n",
       "      <td>triple helix</td>\n",
       "    </tr>\n",
       "    <tr>\n",
       "      <th>36</th>\n",
       "      <td>NC_022770.1__YP_008771328.pdb</td>\n",
       "      <td>no</td>\n",
       "      <td>-</td>\n",
       "    </tr>\n",
       "    <tr>\n",
       "      <th>37</th>\n",
       "      <td>NC_027351.1__YP_009148844.pdb</td>\n",
       "      <td>yes</td>\n",
       "      <td>n-bladed β-propeller</td>\n",
       "    </tr>\n",
       "    <tr>\n",
       "      <th>38</th>\n",
       "      <td>NC_020873.1__YP_007677111.pdb</td>\n",
       "      <td>yes</td>\n",
       "      <td>triple helix</td>\n",
       "    </tr>\n",
       "    <tr>\n",
       "      <th>39</th>\n",
       "      <td>KC700557.1__AGM12121.pdb</td>\n",
       "      <td>yes</td>\n",
       "      <td>triple helix</td>\n",
       "    </tr>\n",
       "    <tr>\n",
       "      <th>40</th>\n",
       "      <td>NC_027364.1__YP_009150602.pdb</td>\n",
       "      <td>yes</td>\n",
       "      <td>n-bladed β-propeller</td>\n",
       "    </tr>\n",
       "    <tr>\n",
       "      <th>41</th>\n",
       "      <td>NC_019526.1__YP_007007689.pdb</td>\n",
       "      <td>yes</td>\n",
       "      <td>triple helix</td>\n",
       "    </tr>\n",
       "    <tr>\n",
       "      <th>42</th>\n",
       "      <td>NC_041856.1__YP_009592102.pdb</td>\n",
       "      <td>yes</td>\n",
       "      <td>triple helix</td>\n",
       "    </tr>\n",
       "    <tr>\n",
       "      <th>43</th>\n",
       "      <td>KC700558.1__AGM12198.pdb</td>\n",
       "      <td>yes</td>\n",
       "      <td>triple helix</td>\n",
       "    </tr>\n",
       "  </tbody>\n",
       "</table>\n",
       "</div>"
      ],
      "text/plain": [
       "                          FP name PD domain                  Fold\n",
       "0   NC_023610.1__YP_009010126.pdb        no                     -\n",
       "1   NC_023610.1__YP_009010284.pdb        no                     -\n",
       "2   NC_015295.1__YP_004327330.pdb        no                     -\n",
       "3        KF669657.1__AGY48027.pdb        no                     -\n",
       "4   NC_017972.1__YP_006382773.pdb        no                     -\n",
       "5   NC_025422.1__YP_009098968.pdb        no                     -\n",
       "6        HQ632825.1__AGN12239.pdb       yes          triple helix\n",
       "7   NC_022764.1__YP_008770517.pdb        no                     -\n",
       "8   NC_027364.1__YP_009150603.pdb       yes  n-bladed β-propeller\n",
       "9        AY349011.3__AAQ54998.pdb        no                     -\n",
       "10  NC_017981.1__YP_006383635.pdb        no                     -\n",
       "11  NC_019414.1__YP_006990136.pdb       yes          triple helix\n",
       "12       KC821621.1__AGO48656.pdb       yes          triple helix\n",
       "13     NC_006883.2__YP_214266.pdb       yes          triple helix\n",
       "14  NC_027364.1__YP_009150608.pdb       yes  n-bladed β-propeller\n",
       "15       KC700556.1__AGM12045.pdb       yes          triple helix\n",
       "16       JX262376.1__AFO10887.pdb       yes          triple helix\n",
       "17  NC_016071.1__YP_004893846.pdb       yes  n-bladed β-propeller\n",
       "18  NC_027364.1__YP_009150318.pdb       yes          triple helix\n",
       "19       HQ632825.1__AGN12302.pdb       yes  right-handed β-helix\n",
       "20  NC_019526.1__YP_007007253.pdb       yes          triple helix\n",
       "21  NC_022763.1__YP_008770318.pdb       yes          triple helix\n",
       "22       HQ632825.1__AGN12240.pdb       yes          triple helix\n",
       "23  NC_019401.1__YP_006987359.pdb       yes          triple helix\n",
       "24  NC_027364.1__YP_009150610.pdb       yes  n-bladed β-propeller\n",
       "25  NC_011421.1__YP_002300337.pdb       yes  right-handed β-helix\n",
       "26  NC_027364.1__YP_009150600.pdb       yes  n-bladed β-propeller\n",
       "27  NC_027364.1__YP_009150829.pdb       yes          triple helix\n",
       "28  NC_019929.1__YP_007237740.pdb        no                     -\n",
       "29       KC821625.1__AGO49026.pdb       yes          triple helix\n",
       "30     NC_006883.2__YP_214265.pdb       yes          triple helix\n",
       "31  NC_021856.1__YP_008318350.pdb       yes          triple helix\n",
       "32  NC_017972.1__YP_006382777.pdb        no                     -\n",
       "33  NC_022771.1__YP_008771452.pdb       yes          triple helix\n",
       "34  NC_020083.1__YP_007349031.pdb        no                     -\n",
       "35  NC_020842.1__YP_007673467.pdb       yes          triple helix\n",
       "36  NC_022770.1__YP_008771328.pdb        no                     -\n",
       "37  NC_027351.1__YP_009148844.pdb       yes  n-bladed β-propeller\n",
       "38  NC_020873.1__YP_007677111.pdb       yes          triple helix\n",
       "39       KC700557.1__AGM12121.pdb       yes          triple helix\n",
       "40  NC_027364.1__YP_009150602.pdb       yes  n-bladed β-propeller\n",
       "41  NC_019526.1__YP_007007689.pdb       yes          triple helix\n",
       "42  NC_041856.1__YP_009592102.pdb       yes          triple helix\n",
       "43       KC700558.1__AGM12198.pdb       yes          triple helix"
      ]
     },
     "execution_count": 112,
     "metadata": {},
     "output_type": "execute_result"
    }
   ],
   "source": [
    "fp_data"
   ]
  },
  {
   "cell_type": "code",
   "execution_count": 111,
   "metadata": {},
   "outputs": [],
   "source": [
    "import Bio.PDB\n",
    "\n",
    "# define a dictionary to map three-letter amino acid codes to one-letter codes\n",
    "aa_codes = {\n",
    "    'ALA': 'A', 'ARG': 'R', 'ASN': 'N', 'ASP': 'D', 'CYS': 'C',\n",
    "    'GLU': 'E', 'GLN': 'Q', 'GLY': 'G', 'HIS': 'H', 'ILE': 'I',\n",
    "    'LEU': 'L', 'LYS': 'K', 'MET': 'M', 'PHE': 'F', 'PRO': 'P',\n",
    "    'SER': 'S', 'THR': 'T', 'TRP': 'W', 'TYR': 'Y', 'VAL': 'V',\n",
    "    'UNK': 'X'\n",
    "}\n",
    "\n",
    "\n",
    "def get_pdb_sequence(pdb_path):\n",
    "    \"\"\"\n",
    "    Get the amino acid sequence from a PDB file.\n",
    "    Parameters:\n",
    "    pdb_path (str): The path to the PDB file.\n",
    "    Returns:\n",
    "    str: The amino acid sequence.\n",
    "    \"\"\"\n",
    "    # parse the PDB file\n",
    "    parser = Bio.PDB.PDBParser()\n",
    "    structure = parser.get_structure('PDB', pdb_path)\n",
    "    # extract the amino acid sequence\n",
    "    sequence = ''\n",
    "    for model in structure:\n",
    "        for chain in model:\n",
    "            for residue in chain:\n",
    "                if residue.get_resname() in aa_codes:\n",
    "                    sequence += aa_codes[residue.get_resname()]\n",
    "                elif residue.get_resname() == 'UNK':\n",
    "                    sequence += 'X'\n",
    "    return sequence"
   ]
  },
  {
   "cell_type": "code",
   "execution_count": 114,
   "metadata": {},
   "outputs": [
    {
     "name": "stderr",
     "output_type": "stream",
     "text": [
      "/home/concha-eloko/miniconda3/lib/python3.11/site-packages/Bio/PDB/PDBParser.py:395: PDBConstructionWarning: Ignoring unrecognized record 'END' at line 6844\n",
      "  warnings.warn(\n",
      "/home/concha-eloko/miniconda3/lib/python3.11/site-packages/Bio/PDB/PDBParser.py:395: PDBConstructionWarning: Ignoring unrecognized record 'END' at line 7755\n",
      "  warnings.warn(\n",
      "/home/concha-eloko/miniconda3/lib/python3.11/site-packages/Bio/PDB/PDBParser.py:395: PDBConstructionWarning: Ignoring unrecognized record 'END' at line 1577\n",
      "  warnings.warn(\n",
      "/home/concha-eloko/miniconda3/lib/python3.11/site-packages/Bio/PDB/PDBParser.py:395: PDBConstructionWarning: Ignoring unrecognized record 'END' at line 5699\n",
      "  warnings.warn(\n",
      "/home/concha-eloko/miniconda3/lib/python3.11/site-packages/Bio/PDB/PDBParser.py:395: PDBConstructionWarning: Ignoring unrecognized record 'END' at line 4914\n",
      "  warnings.warn(\n",
      "/home/concha-eloko/miniconda3/lib/python3.11/site-packages/Bio/PDB/PDBParser.py:395: PDBConstructionWarning: Ignoring unrecognized record 'END' at line 5839\n",
      "  warnings.warn(\n",
      "/home/concha-eloko/miniconda3/lib/python3.11/site-packages/Bio/PDB/PDBParser.py:395: PDBConstructionWarning: Ignoring unrecognized record 'END' at line 5699\n",
      "  warnings.warn(\n",
      "/home/concha-eloko/miniconda3/lib/python3.11/site-packages/Bio/PDB/PDBParser.py:395: PDBConstructionWarning: Ignoring unrecognized record 'END' at line 2082\n",
      "  warnings.warn(\n",
      "/home/concha-eloko/miniconda3/lib/python3.11/site-packages/Bio/PDB/PDBParser.py:395: PDBConstructionWarning: Ignoring unrecognized record 'END' at line 2044\n",
      "  warnings.warn(\n",
      "/home/concha-eloko/miniconda3/lib/python3.11/site-packages/Bio/PDB/PDBParser.py:395: PDBConstructionWarning: Ignoring unrecognized record 'END' at line 12934\n",
      "  warnings.warn(\n",
      "/home/concha-eloko/miniconda3/lib/python3.11/site-packages/Bio/PDB/PDBParser.py:395: PDBConstructionWarning: Ignoring unrecognized record 'END' at line 2733\n",
      "  warnings.warn(\n",
      "/home/concha-eloko/miniconda3/lib/python3.11/site-packages/Bio/PDB/PDBParser.py:395: PDBConstructionWarning: Ignoring unrecognized record 'END' at line 4859\n",
      "  warnings.warn(\n",
      "/home/concha-eloko/miniconda3/lib/python3.11/site-packages/Bio/PDB/PDBParser.py:395: PDBConstructionWarning: Ignoring unrecognized record 'END' at line 5817\n",
      "  warnings.warn(\n"
     ]
    }
   ],
   "source": [
    "fps_annotation = []\n",
    "\n",
    "for _, row  in fp_data.iterrows() : \n",
    "    if row[\"Fold\"] == \"-\" :\n",
    "        file_path = f\"{path_pdb}/{row['FP name']}\"\n",
    "        seq = get_pdb_sequence(file_path)\n",
    "        annotation = dico_annotation[seq]\n",
    "        fps_annotation.append(annotation)\n",
    "    "
   ]
  },
  {
   "cell_type": "code",
   "execution_count": 121,
   "metadata": {},
   "outputs": [
    {
     "data": {
      "text/plain": [
       "['putative virion structural protein',\n",
       " 'virion structural protein',\n",
       " 'tail protein',\n",
       " 'hypothetical protein',\n",
       " 'tail fiber protein',\n",
       " 'baseplate wedge subunit',\n",
       " 'hypothetical protein',\n",
       " 'phage tail fiber protein',\n",
       " 'tail protein',\n",
       " 'hypothetical protein',\n",
       " 'tail sheath',\n",
       " 'tail sheath protein',\n",
       " 'tail protein']"
      ]
     },
     "execution_count": 121,
     "metadata": {},
     "output_type": "execute_result"
    }
   ],
   "source": [
    "fps_annotation_clean = [''.join(annot).split(\"protein=\")[1].split(\"]\")[0] for annot in fps_annotation]\n",
    "fps_annotation_clean"
   ]
  },
  {
   "cell_type": "code",
   "execution_count": 118,
   "metadata": {},
   "outputs": [
    {
     "data": {
      "text/plain": [
       "[['lcl|NC_023610.1_prot_YP_009010126.1_73 [locus_tag=CF95_gp073] [db_xref=GeneID:18500972] [protein=putative virion structural protein] [protein_id=YP_009010126.1] [location=complement(57681..60236)] [gbkey=CDS]'],\n",
       " ['lcl|NC_023610.1_prot_YP_009010284.1_231 [locus_tag=CF95_gp231] [db_xref=GeneID:18501120] [protein=virion structural protein] [protein_id=YP_009010284.1] [location=204719..207664] [gbkey=CDS]'],\n",
       " ['lcl|NC_015295.1_prot_YP_004327330.1_27 [gene=83] [locus_tag=ErPhphiEt88_gp27] [db_xref=GeneID:10351408] [protein=tail protein] [protein_id=YP_004327330.1] [location=19632..20276] [gbkey=CDS]'],\n",
       " ['lcl|KF669657.1_prot_AGY48027.1_10 [locus_tag=Plant_10] [protein=hypothetical protein] [protein_id=AGY48027.1] [location=7780..9972] [gbkey=CDS]',\n",
       "  'tail protein'],\n",
       " ['lcl|NC_017972.1_prot_YP_006382773.1_243 [locus_tag=LU11_gp243] [db_xref=GeneID:12979429] [protein=tail fiber protein] [protein_id=YP_006382773.1] [location=193703..195730] [gbkey=CDS]'],\n",
       " ['lcl|NC_025422.1_prot_YP_009098968.1_210 [locus_tag=OZ74_gp248] [db_xref=GeneID:22276867] [protein=baseplate wedge subunit] [protein_id=YP_009098968.1] [location=complement(114231..116534)] [gbkey=CDS]'],\n",
       " ['lcl|KF669657.1_prot_AGY48027.1_10 [locus_tag=Plant_10] [protein=hypothetical protein] [protein_id=AGY48027.1] [location=7780..9972] [gbkey=CDS]',\n",
       "  'tail protein'],\n",
       " ['lcl|AY349011.3_prot_AAQ54998.2_63 [locus_tag=Bcep22_gp65] [protein=phage tail fiber protein] [protein_id=AAQ54998.2] [location=40112..40990] [gbkey=CDS]'],\n",
       " ['lcl|NC_017981.1_prot_YP_006383635.1_28 [locus_tag=DIBBI_gp28] [db_xref=GeneID:12980177] [protein=tail protein] [protein_id=YP_006383635.1] [location=22073..22915] [gbkey=CDS]'],\n",
       " ['lcl|NC_019929.1_prot_YP_007237740.1_90 [locus_tag=G173_gp090] [db_xref=GeneID:14297251] [protein=hypothetical protein] [protein_id=YP_007237740.1] [location=complement(68062..73092)] [gbkey=CDS]'],\n",
       " ['lcl|NC_017972.1_prot_YP_006382777.1_247 [locus_tag=LU11_gp247] [db_xref=GeneID:12979433] [protein=tail sheath] [protein_id=YP_006382777.1] [location=201772..202848] [gbkey=CDS]'],\n",
       " ['lcl|NC_020083.1_prot_YP_007349031.1_52 [locus_tag=G646_gp052] [db_xref=GeneID:14444700] [protein=tail sheath protein] [protein_id=YP_007349031.1] [location=52539..54449] [gbkey=CDS]'],\n",
       " ['lcl|NC_022770.1_prot_YP_008771328.1_10 [locus_tag=Pony_10] [db_xref=GeneID:17959885] [protein=tail protein] [protein_id=YP_008771328.1] [location=7789..10026] [gbkey=CDS]']]"
      ]
     },
     "execution_count": 118,
     "metadata": {},
     "output_type": "execute_result"
    }
   ],
   "source": [
    "fps_annotation"
   ]
  },
  {
   "cell_type": "code",
   "execution_count": null,
   "metadata": {},
   "outputs": [],
   "source": []
  },
  {
   "cell_type": "code",
   "execution_count": null,
   "metadata": {},
   "outputs": [],
   "source": []
  }
 ],
 "metadata": {
  "kernelspec": {
   "display_name": "Python 3 (ipykernel)",
   "language": "python",
   "name": "python3"
  },
  "language_info": {
   "codemirror_mode": {
    "name": "ipython",
    "version": 3
   },
   "file_extension": ".py",
   "mimetype": "text/x-python",
   "name": "python",
   "nbconvert_exporter": "python",
   "pygments_lexer": "ipython3",
   "version": "3.11.4"
  },
  "widgets": {
   "application/vnd.jupyter.widget-state+json": {
    "state": {
     "021db077ed8a4d8e9cf7747a25bded8f": {
      "model_module": "@jupyter-widgets/base",
      "model_module_version": "2.0.0",
      "model_name": "LayoutModel",
      "state": {}
     },
     "02e4116befc64e20a2b244238edc326b": {
      "model_module": "@jupyter-widgets/controls",
      "model_module_version": "2.0.0",
      "model_name": "LinkModel",
      "state": {
       "source": [
        "IPY_MODEL_acc3adb9510a4efa916f83efd2e4d6a3",
        "max"
       ],
       "target": [
        "IPY_MODEL_27de6537dfda447b8bc2440acdc9c6fd",
        "max_frame"
       ]
      }
     },
     "0351bcf261604376965b008b4f47cc50": {
      "model_module": "@jupyter-widgets/controls",
      "model_module_version": "2.0.0",
      "model_name": "IntSliderModel",
      "state": {
       "behavior": "drag-tap",
       "layout": "IPY_MODEL_70189d930d6b427ea7591892bfae1f84",
       "max": 0,
       "style": "IPY_MODEL_393c4d1e81b548969b77c08c731c776a"
      }
     },
     "081ad4e4923b4dadbd66e78821837303": {
      "model_module": "@jupyter-widgets/controls",
      "model_module_version": "2.0.0",
      "model_name": "ImageModel",
      "state": {
       "layout": "IPY_MODEL_eefefee801b346c8986fdda9b792638d",
       "width": "900.0"
      }
     },
     "0a5e34602c79444e9b298fb6290dc2f1": {
      "model_module": "@jupyter-widgets/controls",
      "model_module_version": "2.0.0",
      "model_name": "ImageModel",
      "state": {
       "layout": "IPY_MODEL_4ec672cbb5a44d3094737aefbee92e7e",
       "width": "900.0"
      }
     },
     "0c384d53a12e487eb3ab165b875c050a": {
      "model_module": "@jupyter-widgets/controls",
      "model_module_version": "2.0.0",
      "model_name": "LinkModel",
      "state": {
       "source": [
        "IPY_MODEL_82c7351dfdc64a55b1d75f673d8393ab",
        "max"
       ],
       "target": [
        "IPY_MODEL_df0616bf85b14134a78b4784020209e8",
        "max_frame"
       ]
      }
     },
     "0d66ede3920e4c05ad87b6cf8fb62152": {
      "model_module": "@jupyter-widgets/controls",
      "model_module_version": "2.0.0",
      "model_name": "ImageModel",
      "state": {
       "layout": "IPY_MODEL_af261f97985d4bfaad7936dcd078749f",
       "width": "900.0"
      }
     },
     "13a411931b55495bbdb71696f18f57a0": {
      "model_module": "@jupyter-widgets/controls",
      "model_module_version": "2.0.0",
      "model_name": "LinkModel",
      "state": {
       "source": [
        "IPY_MODEL_4a4f13b149c3464e8f1a9e8380705f80",
        "max"
       ],
       "target": [
        "IPY_MODEL_df0616bf85b14134a78b4784020209e8",
        "max_frame"
       ]
      }
     },
     "1615d2219bab4b61b0ba69c976cb4ae1": {
      "model_module": "@jupyter-widgets/controls",
      "model_module_version": "2.0.0",
      "model_name": "HBoxModel",
      "state": {
       "children": [
        "IPY_MODEL_c5df7c043e4b4400b9836c66087919df",
        "IPY_MODEL_54b06a81bef047328ed88538dabbe3c0"
       ],
       "layout": "IPY_MODEL_f52c72834ca944298f27351a6b14ae98"
      }
     },
     "16e8cd336950417aa064de611c7bee8a": {
      "model_module": "@jupyter-widgets/base",
      "model_module_version": "2.0.0",
      "model_name": "LayoutModel",
      "state": {}
     },
     "17bd934ce84a4b5ab00dbcc58fa9455a": {
      "model_module": "@jupyter-widgets/controls",
      "model_module_version": "2.0.0",
      "model_name": "SliderStyleModel",
      "state": {
       "description_width": ""
      }
     },
     "180c833d93184f739ff626d5cbe49cfd": {
      "model_module": "@jupyter-widgets/controls",
      "model_module_version": "2.0.0",
      "model_name": "PlayModel",
      "state": {
       "layout": "IPY_MODEL_9428280fe09640ee8212bb9100b5f747",
       "max": 0,
       "style": "IPY_MODEL_3f328a43ae9440bfa15cae3e0cff2fe5"
      }
     },
     "186212ff69d14317a2ce0e12e2ca6295": {
      "model_module": "@jupyter-widgets/base",
      "model_module_version": "2.0.0",
      "model_name": "LayoutModel",
      "state": {}
     },
     "1e49009328db42619b4c67fbc2dffe72": {
      "model_module": "@jupyter-widgets/controls",
      "model_module_version": "2.0.0",
      "model_name": "ButtonModel",
      "state": {
       "icon": "compress",
       "layout": "IPY_MODEL_dc876ba3854942899eb5372c06f505ca",
       "style": "IPY_MODEL_b06c51f844104cdb9b951979f4faa8b4",
       "tooltip": null
      }
     },
     "2013f72ce5c344da955f7ee53c59746d": {
      "model_module": "@jupyter-widgets/controls",
      "model_module_version": "2.0.0",
      "model_name": "LinkModel",
      "state": {
       "source": [
        "IPY_MODEL_e77d2377c4ca468d8b2adeb545a28c7d",
        "max"
       ],
       "target": [
        "IPY_MODEL_ec02b3c50e874fbc866bdd7e3f1dd8bf",
        "max_frame"
       ]
      }
     },
     "202856847b8a4eff84dfc223a37ca837": {
      "model_module": "@jupyter-widgets/controls",
      "model_module_version": "2.0.0",
      "model_name": "DescriptionStyleModel",
      "state": {
       "description_width": ""
      }
     },
     "266b158912054c1c99ff10a5ef7b1567": {
      "model_module": "@jupyter-widgets/controls",
      "model_module_version": "2.0.0",
      "model_name": "LinkModel",
      "state": {
       "source": [
        "IPY_MODEL_c5df7c043e4b4400b9836c66087919df",
        "value"
       ],
       "target": [
        "IPY_MODEL_54b06a81bef047328ed88538dabbe3c0",
        "value"
       ]
      }
     },
     "27fd49f939d44d61a203e542097b8b37": {
      "model_module": "@jupyter-widgets/controls",
      "model_module_version": "2.0.0",
      "model_name": "ButtonStyleModel",
      "state": {
       "font_family": null,
       "font_size": null,
       "font_style": null,
       "font_variant": null,
       "font_weight": null,
       "text_color": null,
       "text_decoration": null
      }
     },
     "2b603bf7fd15461da65034225535e825": {
      "model_module": "@jupyter-widgets/controls",
      "model_module_version": "2.0.0",
      "model_name": "ButtonStyleModel",
      "state": {
       "font_family": null,
       "font_size": null,
       "font_style": null,
       "font_variant": null,
       "font_weight": null,
       "text_color": null,
       "text_decoration": null
      }
     },
     "2cd43eda91394ae29cf1761af5aced79": {
      "model_module": "@jupyter-widgets/base",
      "model_module_version": "2.0.0",
      "model_name": "LayoutModel",
      "state": {}
     },
     "2dfa7bfa6ebf4aafa63e1d53220e4a96": {
      "model_module": "@jupyter-widgets/base",
      "model_module_version": "2.0.0",
      "model_name": "LayoutModel",
      "state": {}
     },
     "3058efe4956749efb081e569523c6b99": {
      "model_module": "@jupyter-widgets/controls",
      "model_module_version": "2.0.0",
      "model_name": "IntSliderModel",
      "state": {
       "behavior": "drag-tap",
       "layout": "IPY_MODEL_726658c0b9b24bbab33588fcfaf16732",
       "max": 0,
       "style": "IPY_MODEL_92005f9bece74dddabefa3f24a5bf903"
      }
     },
     "31358246ac0744bf9af200ce8362a01f": {
      "model_module": "@jupyter-widgets/base",
      "model_module_version": "2.0.0",
      "model_name": "LayoutModel",
      "state": {}
     },
     "32b1689472ee4c858254c13e0c5f117d": {
      "model_module": "@jupyter-widgets/controls",
      "model_module_version": "2.0.0",
      "model_name": "ButtonModel",
      "state": {
       "icon": "compress",
       "layout": "IPY_MODEL_330ace253ff5489a82f14b628f957fb3",
       "style": "IPY_MODEL_27fd49f939d44d61a203e542097b8b37",
       "tooltip": null
      }
     },
     "330ace253ff5489a82f14b628f957fb3": {
      "model_module": "@jupyter-widgets/base",
      "model_module_version": "2.0.0",
      "model_name": "LayoutModel",
      "state": {
       "width": "34px"
      }
     },
     "35002b9ed7794771b0fd1f68a6439b8e": {
      "model_module": "@jupyter-widgets/controls",
      "model_module_version": "2.0.0",
      "model_name": "LinkModel",
      "state": {
       "source": [
        "IPY_MODEL_96180dc20f794c24a33541f2c322f423",
        "value"
       ],
       "target": [
        "IPY_MODEL_40675d06ac42432d8fd3299738479156",
        "value"
       ]
      }
     },
     "3674f14bd2df40bfb310f9330be0fc7d": {
      "model_module": "@jupyter-widgets/base",
      "model_module_version": "2.0.0",
      "model_name": "LayoutModel",
      "state": {
       "width": "34px"
      }
     },
     "3676c5a46e3c490b96cf05da92931254": {
      "model_module": "@jupyter-widgets/controls",
      "model_module_version": "2.0.0",
      "model_name": "ButtonModel",
      "state": {
       "icon": "compress",
       "layout": "IPY_MODEL_724d66be80d140869e3d958e22a6a85d",
       "style": "IPY_MODEL_2b603bf7fd15461da65034225535e825",
       "tooltip": null
      }
     },
     "38569fb61b9e44eb818cf6dc788f34a6": {
      "model_module": "@jupyter-widgets/controls",
      "model_module_version": "2.0.0",
      "model_name": "DescriptionStyleModel",
      "state": {
       "description_width": ""
      }
     },
     "393c4d1e81b548969b77c08c731c776a": {
      "model_module": "@jupyter-widgets/controls",
      "model_module_version": "2.0.0",
      "model_name": "SliderStyleModel",
      "state": {
       "description_width": ""
      }
     },
     "3976dedaf5c540ab983de3d323435242": {
      "model_module": "@jupyter-widgets/controls",
      "model_module_version": "2.0.0",
      "model_name": "LinkModel",
      "state": {
       "source": [
        "IPY_MODEL_40675d06ac42432d8fd3299738479156",
        "max"
       ],
       "target": [
        "IPY_MODEL_339c138c786f482888d29962707ea4f7",
        "max_frame"
       ]
      }
     },
     "3f328a43ae9440bfa15cae3e0cff2fe5": {
      "model_module": "@jupyter-widgets/controls",
      "model_module_version": "2.0.0",
      "model_name": "DescriptionStyleModel",
      "state": {
       "description_width": ""
      }
     },
     "3f78f723110c4eb3a19519b03856a0da": {
      "model_module": "@jupyter-widgets/controls",
      "model_module_version": "2.0.0",
      "model_name": "HBoxModel",
      "state": {
       "children": [
        "IPY_MODEL_180c833d93184f739ff626d5cbe49cfd",
        "IPY_MODEL_0351bcf261604376965b008b4f47cc50"
       ],
       "layout": "IPY_MODEL_c8bd60979bd349689f123bed67e6e23e"
      }
     },
     "40675d06ac42432d8fd3299738479156": {
      "model_module": "@jupyter-widgets/controls",
      "model_module_version": "2.0.0",
      "model_name": "IntSliderModel",
      "state": {
       "behavior": "drag-tap",
       "layout": "IPY_MODEL_f3e70913dce548089dad9b8e97d5c778",
       "max": 0,
       "style": "IPY_MODEL_6bc996360c0e4677bbc2981575cd8986"
      }
     },
     "4622038e38004e78a7237f39d5581fbf": {
      "model_module": "@jupyter-widgets/controls",
      "model_module_version": "2.0.0",
      "model_name": "LinkModel",
      "state": {
       "source": [
        "IPY_MODEL_acc3adb9510a4efa916f83efd2e4d6a3",
        "value"
       ],
       "target": [
        "IPY_MODEL_27de6537dfda447b8bc2440acdc9c6fd",
        "frame"
       ]
      }
     },
     "4a4f13b149c3464e8f1a9e8380705f80": {
      "model_module": "@jupyter-widgets/controls",
      "model_module_version": "2.0.0",
      "model_name": "IntSliderModel",
      "state": {
       "behavior": "drag-tap",
       "layout": "IPY_MODEL_186212ff69d14317a2ce0e12e2ca6295",
       "max": 0,
       "style": "IPY_MODEL_a9b2e2ef9da54226ba5e5c0b02c535ca"
      }
     },
     "4ec672cbb5a44d3094737aefbee92e7e": {
      "model_module": "@jupyter-widgets/base",
      "model_module_version": "2.0.0",
      "model_name": "LayoutModel",
      "state": {}
     },
     "4f8e944582a74beab5de8251f75c8c17": {
      "model_module": "@jupyter-widgets/controls",
      "model_module_version": "2.0.0",
      "model_name": "LinkModel",
      "state": {
       "source": [
        "IPY_MODEL_180c833d93184f739ff626d5cbe49cfd",
        "max"
       ],
       "target": [
        "IPY_MODEL_ac2104d8a0f440e2828dcec4ad83cb74",
        "max_frame"
       ]
      }
     },
     "54b06a81bef047328ed88538dabbe3c0": {
      "model_module": "@jupyter-widgets/controls",
      "model_module_version": "2.0.0",
      "model_name": "IntSliderModel",
      "state": {
       "behavior": "drag-tap",
       "layout": "IPY_MODEL_7e8bb67ba4414fb48435b311a4f74dab",
       "max": 0,
       "style": "IPY_MODEL_f824104ed7bd4517a1a8a4d356da0712"
      }
     },
     "5829c02f12264142b1f573a80d896641": {
      "model_module": "@jupyter-widgets/base",
      "model_module_version": "2.0.0",
      "model_name": "LayoutModel",
      "state": {}
     },
     "58cefca1ccdf4ea59a7fb9327eb1f91d": {
      "model_module": "@jupyter-widgets/controls",
      "model_module_version": "2.0.0",
      "model_name": "ButtonStyleModel",
      "state": {
       "font_family": null,
       "font_size": null,
       "font_style": null,
       "font_variant": null,
       "font_weight": null,
       "text_color": null,
       "text_decoration": null
      }
     },
     "5954665cee3b4361a1e70070393fbaf5": {
      "model_module": "@jupyter-widgets/controls",
      "model_module_version": "2.0.0",
      "model_name": "ButtonModel",
      "state": {
       "icon": "compress",
       "layout": "IPY_MODEL_d90287cee83f4d5bbdcbd97617a7312a",
       "style": "IPY_MODEL_58cefca1ccdf4ea59a7fb9327eb1f91d",
       "tooltip": null
      }
     },
     "5a8cd6f3178d4903b16a3c14a2b5e76b": {
      "model_module": "@jupyter-widgets/controls",
      "model_module_version": "2.0.0",
      "model_name": "LinkModel",
      "state": {
       "source": [
        "IPY_MODEL_c323e5157b3f4be29407005f10e38658",
        "value"
       ],
       "target": [
        "IPY_MODEL_3058efe4956749efb081e569523c6b99",
        "value"
       ]
      }
     },
     "60672df1330948fa9d7276c06cdc2068": {
      "model_module": "@jupyter-widgets/controls",
      "model_module_version": "2.0.0",
      "model_name": "LinkModel",
      "state": {
       "source": [
        "IPY_MODEL_896660f6379945d0ba05c2a03bd1e63f",
        "value"
       ],
       "target": [
        "IPY_MODEL_e77d2377c4ca468d8b2adeb545a28c7d",
        "value"
       ]
      }
     },
     "61cb9c0841fb4e4caf648b5fec805909": {
      "model_module": "@jupyter-widgets/controls",
      "model_module_version": "2.0.0",
      "model_name": "DescriptionStyleModel",
      "state": {
       "description_width": ""
      }
     },
     "65756d5187834968a902bf182895d198": {
      "model_module": "@jupyter-widgets/base",
      "model_module_version": "2.0.0",
      "model_name": "LayoutModel",
      "state": {}
     },
     "67bdbcbb5b034d9e8a3662c765a0fd78": {
      "model_module": "@jupyter-widgets/controls",
      "model_module_version": "2.0.0",
      "model_name": "HBoxModel",
      "state": {
       "children": [
        "IPY_MODEL_896660f6379945d0ba05c2a03bd1e63f",
        "IPY_MODEL_e77d2377c4ca468d8b2adeb545a28c7d"
       ],
       "layout": "IPY_MODEL_a3e1160e6dfa44dd82839529ca142c63"
      }
     },
     "6ae68ba495b044d6bd9618602040d2c9": {
      "model_module": "@jupyter-widgets/controls",
      "model_module_version": "2.0.0",
      "model_name": "LinkModel",
      "state": {
       "source": [
        "IPY_MODEL_acc3adb9510a4efa916f83efd2e4d6a3",
        "value"
       ],
       "target": [
        "IPY_MODEL_836dee79ef624b8ba963abaeb9ad63a8",
        "value"
       ]
      }
     },
     "6bc996360c0e4677bbc2981575cd8986": {
      "model_module": "@jupyter-widgets/controls",
      "model_module_version": "2.0.0",
      "model_name": "SliderStyleModel",
      "state": {
       "description_width": ""
      }
     },
     "6c437886e07749508369d4596895c0af": {
      "model_module": "@jupyter-widgets/controls",
      "model_module_version": "2.0.0",
      "model_name": "HBoxModel",
      "state": {
       "children": [
        "IPY_MODEL_96180dc20f794c24a33541f2c322f423",
        "IPY_MODEL_40675d06ac42432d8fd3299738479156"
       ],
       "layout": "IPY_MODEL_8f235520fae04cb483afa1e6d83eb11b"
      }
     },
     "6cd88f52c7a7418298144eb204a1f0fb": {
      "model_module": "@jupyter-widgets/base",
      "model_module_version": "2.0.0",
      "model_name": "LayoutModel",
      "state": {}
     },
     "6e996330864644b1a493047b943c9bd3": {
      "model_module": "@jupyter-widgets/base",
      "model_module_version": "2.0.0",
      "model_name": "LayoutModel",
      "state": {}
     },
     "700c1029dd6046c2814995e4db29e38d": {
      "model_module": "@jupyter-widgets/controls",
      "model_module_version": "2.0.0",
      "model_name": "LinkModel",
      "state": {
       "source": [
        "IPY_MODEL_836dee79ef624b8ba963abaeb9ad63a8",
        "max"
       ],
       "target": [
        "IPY_MODEL_27de6537dfda447b8bc2440acdc9c6fd",
        "max_frame"
       ]
      }
     },
     "70189d930d6b427ea7591892bfae1f84": {
      "model_module": "@jupyter-widgets/base",
      "model_module_version": "2.0.0",
      "model_name": "LayoutModel",
      "state": {}
     },
     "724d66be80d140869e3d958e22a6a85d": {
      "model_module": "@jupyter-widgets/base",
      "model_module_version": "2.0.0",
      "model_name": "LayoutModel",
      "state": {
       "width": "34px"
      }
     },
     "726658c0b9b24bbab33588fcfaf16732": {
      "model_module": "@jupyter-widgets/base",
      "model_module_version": "2.0.0",
      "model_name": "LayoutModel",
      "state": {}
     },
     "7280c02fe5ad4dedb2b6ae598cede575": {
      "model_module": "@jupyter-widgets/controls",
      "model_module_version": "2.0.0",
      "model_name": "ButtonStyleModel",
      "state": {
       "font_family": null,
       "font_size": null,
       "font_style": null,
       "font_variant": null,
       "font_weight": null,
       "text_color": null,
       "text_decoration": null
      }
     },
     "742a1982e8f745a7a493aa61a97b2db6": {
      "model_module": "@jupyter-widgets/controls",
      "model_module_version": "2.0.0",
      "model_name": "LinkModel",
      "state": {
       "source": [
        "IPY_MODEL_c5df7c043e4b4400b9836c66087919df",
        "value"
       ],
       "target": [
        "IPY_MODEL_d5fa65e7da4248f7a959a0ca194daa11",
        "frame"
       ]
      }
     },
     "74805b78d2f449dab568ab414ce7fe40": {
      "model_module": "@jupyter-widgets/controls",
      "model_module_version": "2.0.0",
      "model_name": "LinkModel",
      "state": {
       "source": [
        "IPY_MODEL_96180dc20f794c24a33541f2c322f423",
        "value"
       ],
       "target": [
        "IPY_MODEL_339c138c786f482888d29962707ea4f7",
        "frame"
       ]
      }
     },
     "769fb8b082ec4b9e995a7d21f1e7fbee": {
      "model_module": "@jupyter-widgets/controls",
      "model_module_version": "2.0.0",
      "model_name": "ImageModel",
      "state": {
       "layout": "IPY_MODEL_021db077ed8a4d8e9cf7747a25bded8f",
       "width": "900.0"
      }
     },
     "7d7e3e70e4c5439c987a604a248aa9b5": {
      "model_module": "@jupyter-widgets/base",
      "model_module_version": "2.0.0",
      "model_name": "LayoutModel",
      "state": {}
     },
     "7e8bb67ba4414fb48435b311a4f74dab": {
      "model_module": "@jupyter-widgets/base",
      "model_module_version": "2.0.0",
      "model_name": "LayoutModel",
      "state": {}
     },
     "81fc1b45c58649aa8a653761dc2e9ab5": {
      "model_module": "@jupyter-widgets/controls",
      "model_module_version": "2.0.0",
      "model_name": "ButtonStyleModel",
      "state": {
       "font_family": null,
       "font_size": null,
       "font_style": null,
       "font_variant": null,
       "font_weight": null,
       "text_color": null,
       "text_decoration": null
      }
     },
     "82c7351dfdc64a55b1d75f673d8393ab": {
      "model_module": "@jupyter-widgets/controls",
      "model_module_version": "2.0.0",
      "model_name": "PlayModel",
      "state": {
       "layout": "IPY_MODEL_a62f4c34c8574de780cc5c0e8a79bb54",
       "max": 0,
       "style": "IPY_MODEL_61cb9c0841fb4e4caf648b5fec805909"
      }
     },
     "836dee79ef624b8ba963abaeb9ad63a8": {
      "model_module": "@jupyter-widgets/controls",
      "model_module_version": "2.0.0",
      "model_name": "IntSliderModel",
      "state": {
       "behavior": "drag-tap",
       "layout": "IPY_MODEL_e81f43c59205482ea4fa1a1a71ca1547",
       "max": 0,
       "style": "IPY_MODEL_b1d5fac903f14647bbdabe13c4e1bc22"
      }
     },
     "87eabaea76c74dd29cb38d41bd53d0e7": {
      "model_module": "@jupyter-widgets/base",
      "model_module_version": "2.0.0",
      "model_name": "LayoutModel",
      "state": {}
     },
     "888fc15a113445328c31682e547e7732": {
      "model_module": "@jupyter-widgets/base",
      "model_module_version": "2.0.0",
      "model_name": "LayoutModel",
      "state": {}
     },
     "895054e1c2ad4ab195b64092944b003f": {
      "model_module": "@jupyter-widgets/controls",
      "model_module_version": "2.0.0",
      "model_name": "ImageModel",
      "state": {
       "layout": "IPY_MODEL_dc1690479ec5479eaef27e2cd78c27ba",
       "width": "900.0"
      }
     },
     "896660f6379945d0ba05c2a03bd1e63f": {
      "model_module": "@jupyter-widgets/controls",
      "model_module_version": "2.0.0",
      "model_name": "PlayModel",
      "state": {
       "layout": "IPY_MODEL_5829c02f12264142b1f573a80d896641",
       "max": 0,
       "style": "IPY_MODEL_9bb0808aaa5e4c25a6ae3a8c03bb7608"
      }
     },
     "8dd8f9b93859462fb976f47c6020b74a": {
      "model_module": "@jupyter-widgets/controls",
      "model_module_version": "2.0.0",
      "model_name": "ButtonStyleModel",
      "state": {
       "font_family": null,
       "font_size": null,
       "font_style": null,
       "font_variant": null,
       "font_weight": null,
       "text_color": null,
       "text_decoration": null
      }
     },
     "8f235520fae04cb483afa1e6d83eb11b": {
      "model_module": "@jupyter-widgets/base",
      "model_module_version": "2.0.0",
      "model_name": "LayoutModel",
      "state": {}
     },
     "902fbca5e26248faabc240b24f2213e0": {
      "model_module": "@jupyter-widgets/base",
      "model_module_version": "2.0.0",
      "model_name": "LayoutModel",
      "state": {}
     },
     "908f8e42eb984a2c82431720ce84c360": {
      "model_module": "@jupyter-widgets/base",
      "model_module_version": "2.0.0",
      "model_name": "LayoutModel",
      "state": {}
     },
     "92005f9bece74dddabefa3f24a5bf903": {
      "model_module": "@jupyter-widgets/controls",
      "model_module_version": "2.0.0",
      "model_name": "SliderStyleModel",
      "state": {
       "description_width": ""
      }
     },
     "9428280fe09640ee8212bb9100b5f747": {
      "model_module": "@jupyter-widgets/base",
      "model_module_version": "2.0.0",
      "model_name": "LayoutModel",
      "state": {}
     },
     "96180dc20f794c24a33541f2c322f423": {
      "model_module": "@jupyter-widgets/controls",
      "model_module_version": "2.0.0",
      "model_name": "PlayModel",
      "state": {
       "layout": "IPY_MODEL_bfd8c2e8f83d4776a0df80644b5d344c",
       "max": 0,
       "style": "IPY_MODEL_38569fb61b9e44eb818cf6dc788f34a6"
      }
     },
     "9bb0808aaa5e4c25a6ae3a8c03bb7608": {
      "model_module": "@jupyter-widgets/controls",
      "model_module_version": "2.0.0",
      "model_name": "DescriptionStyleModel",
      "state": {
       "description_width": ""
      }
     },
     "9ee2dae4ac1b4b2e9bf384a359f5968b": {
      "model_module": "@jupyter-widgets/base",
      "model_module_version": "2.0.0",
      "model_name": "LayoutModel",
      "state": {}
     },
     "9f1917f80bb24a089974d554a3a0a330": {
      "model_module": "@jupyter-widgets/controls",
      "model_module_version": "2.0.0",
      "model_name": "LinkModel",
      "state": {
       "source": [
        "IPY_MODEL_896660f6379945d0ba05c2a03bd1e63f",
        "value"
       ],
       "target": [
        "IPY_MODEL_ec02b3c50e874fbc866bdd7e3f1dd8bf",
        "frame"
       ]
      }
     },
     "9fe49a3745334da48b166c0bbef1ca3b": {
      "model_module": "@jupyter-widgets/base",
      "model_module_version": "2.0.0",
      "model_name": "LayoutModel",
      "state": {}
     },
     "a1a8db6452f04fa4a8e8fd7c3c310d2b": {
      "model_module": "@jupyter-widgets/controls",
      "model_module_version": "2.0.0",
      "model_name": "DescriptionStyleModel",
      "state": {
       "description_width": ""
      }
     },
     "a2380e9f0d4d4747ac5554cb60e16483": {
      "model_module": "@jupyter-widgets/controls",
      "model_module_version": "2.0.0",
      "model_name": "LinkModel",
      "state": {
       "source": [
        "IPY_MODEL_180c833d93184f739ff626d5cbe49cfd",
        "value"
       ],
       "target": [
        "IPY_MODEL_0351bcf261604376965b008b4f47cc50",
        "value"
       ]
      }
     },
     "a3953e796cc840c38ac311b97d75b32c": {
      "model_module": "@jupyter-widgets/controls",
      "model_module_version": "2.0.0",
      "model_name": "DescriptionStyleModel",
      "state": {
       "description_width": ""
      }
     },
     "a3e1160e6dfa44dd82839529ca142c63": {
      "model_module": "@jupyter-widgets/base",
      "model_module_version": "2.0.0",
      "model_name": "LayoutModel",
      "state": {}
     },
     "a62f4c34c8574de780cc5c0e8a79bb54": {
      "model_module": "@jupyter-widgets/base",
      "model_module_version": "2.0.0",
      "model_name": "LayoutModel",
      "state": {}
     },
     "a9a19860de9440fdae7704cac99bed40": {
      "model_module": "@jupyter-widgets/controls",
      "model_module_version": "2.0.0",
      "model_name": "LinkModel",
      "state": {
       "source": [
        "IPY_MODEL_896660f6379945d0ba05c2a03bd1e63f",
        "max"
       ],
       "target": [
        "IPY_MODEL_ec02b3c50e874fbc866bdd7e3f1dd8bf",
        "max_frame"
       ]
      }
     },
     "a9b2e2ef9da54226ba5e5c0b02c535ca": {
      "model_module": "@jupyter-widgets/controls",
      "model_module_version": "2.0.0",
      "model_name": "SliderStyleModel",
      "state": {
       "description_width": ""
      }
     },
     "aaa5f24921224703b3afab881eb13b6e": {
      "model_module": "@jupyter-widgets/controls",
      "model_module_version": "2.0.0",
      "model_name": "LinkModel",
      "state": {
       "source": [
        "IPY_MODEL_54b06a81bef047328ed88538dabbe3c0",
        "max"
       ],
       "target": [
        "IPY_MODEL_d5fa65e7da4248f7a959a0ca194daa11",
        "max_frame"
       ]
      }
     },
     "acc3adb9510a4efa916f83efd2e4d6a3": {
      "model_module": "@jupyter-widgets/controls",
      "model_module_version": "2.0.0",
      "model_name": "PlayModel",
      "state": {
       "layout": "IPY_MODEL_87eabaea76c74dd29cb38d41bd53d0e7",
       "max": 0,
       "style": "IPY_MODEL_a3953e796cc840c38ac311b97d75b32c"
      }
     },
     "af261f97985d4bfaad7936dcd078749f": {
      "model_module": "@jupyter-widgets/base",
      "model_module_version": "2.0.0",
      "model_name": "LayoutModel",
      "state": {}
     },
     "af4d5ae9fa5d42a0b582f03f30c9be9b": {
      "model_module": "@jupyter-widgets/controls",
      "model_module_version": "2.0.0",
      "model_name": "LinkModel",
      "state": {
       "source": [
        "IPY_MODEL_3058efe4956749efb081e569523c6b99",
        "max"
       ],
       "target": [
        "IPY_MODEL_a5031fe52b514438ac9cd387a6fb9360",
        "max_frame"
       ]
      }
     },
     "b06c51f844104cdb9b951979f4faa8b4": {
      "model_module": "@jupyter-widgets/controls",
      "model_module_version": "2.0.0",
      "model_name": "ButtonStyleModel",
      "state": {
       "font_family": null,
       "font_size": null,
       "font_style": null,
       "font_variant": null,
       "font_weight": null,
       "text_color": null,
       "text_decoration": null
      }
     },
     "b1d5fac903f14647bbdabe13c4e1bc22": {
      "model_module": "@jupyter-widgets/controls",
      "model_module_version": "2.0.0",
      "model_name": "SliderStyleModel",
      "state": {
       "description_width": ""
      }
     },
     "bfd8c2e8f83d4776a0df80644b5d344c": {
      "model_module": "@jupyter-widgets/base",
      "model_module_version": "2.0.0",
      "model_name": "LayoutModel",
      "state": {}
     },
     "c1668afa386e4dc991d6c6af84549aa6": {
      "model_module": "nglview-js-widgets",
      "model_module_version": "3.0.6",
      "model_name": "ColormakerRegistryModel",
      "state": {
       "_msg_ar": [],
       "_msg_q": [],
       "_ready": true,
       "layout": "IPY_MODEL_eb587622a2104d38b2e565bb18d0c167"
      }
     },
     "c323e5157b3f4be29407005f10e38658": {
      "model_module": "@jupyter-widgets/controls",
      "model_module_version": "2.0.0",
      "model_name": "PlayModel",
      "state": {
       "layout": "IPY_MODEL_902fbca5e26248faabc240b24f2213e0",
       "max": 0,
       "style": "IPY_MODEL_202856847b8a4eff84dfc223a37ca837"
      }
     },
     "c5df7c043e4b4400b9836c66087919df": {
      "model_module": "@jupyter-widgets/controls",
      "model_module_version": "2.0.0",
      "model_name": "PlayModel",
      "state": {
       "layout": "IPY_MODEL_888fc15a113445328c31682e547e7732",
       "max": 0,
       "style": "IPY_MODEL_a1a8db6452f04fa4a8e8fd7c3c310d2b"
      }
     },
     "c8257ad3be12400bb9bfdd16c5182a51": {
      "model_module": "@jupyter-widgets/controls",
      "model_module_version": "2.0.0",
      "model_name": "ButtonModel",
      "state": {
       "icon": "compress",
       "layout": "IPY_MODEL_3674f14bd2df40bfb310f9330be0fc7d",
       "style": "IPY_MODEL_8dd8f9b93859462fb976f47c6020b74a",
       "tooltip": null
      }
     },
     "c8bd60979bd349689f123bed67e6e23e": {
      "model_module": "@jupyter-widgets/base",
      "model_module_version": "2.0.0",
      "model_name": "LayoutModel",
      "state": {}
     },
     "c972aee2c28843b98402f540edf1d514": {
      "model_module": "@jupyter-widgets/controls",
      "model_module_version": "2.0.0",
      "model_name": "ButtonModel",
      "state": {
       "icon": "compress",
       "layout": "IPY_MODEL_e4df0adc7b0c457ba5a8037521709dcb",
       "style": "IPY_MODEL_7280c02fe5ad4dedb2b6ae598cede575",
       "tooltip": null
      }
     },
     "cfd48b23be824499a73e6c3a66c4ec1d": {
      "model_module": "@jupyter-widgets/controls",
      "model_module_version": "2.0.0",
      "model_name": "HBoxModel",
      "state": {
       "children": [
        "IPY_MODEL_acc3adb9510a4efa916f83efd2e4d6a3",
        "IPY_MODEL_836dee79ef624b8ba963abaeb9ad63a8"
       ],
       "layout": "IPY_MODEL_6e996330864644b1a493047b943c9bd3"
      }
     },
     "d4501b20037c441887b992a0efd1d461": {
      "model_module": "@jupyter-widgets/controls",
      "model_module_version": "2.0.0",
      "model_name": "LinkModel",
      "state": {
       "source": [
        "IPY_MODEL_c323e5157b3f4be29407005f10e38658",
        "max"
       ],
       "target": [
        "IPY_MODEL_a5031fe52b514438ac9cd387a6fb9360",
        "max_frame"
       ]
      }
     },
     "d7c29fda54bb4803b173598c07fc7911": {
      "model_module": "@jupyter-widgets/controls",
      "model_module_version": "2.0.0",
      "model_name": "HBoxModel",
      "state": {
       "children": [
        "IPY_MODEL_c323e5157b3f4be29407005f10e38658",
        "IPY_MODEL_3058efe4956749efb081e569523c6b99"
       ],
       "layout": "IPY_MODEL_31358246ac0744bf9af200ce8362a01f"
      }
     },
     "d90287cee83f4d5bbdcbd97617a7312a": {
      "model_module": "@jupyter-widgets/base",
      "model_module_version": "2.0.0",
      "model_name": "LayoutModel",
      "state": {
       "width": "34px"
      }
     },
     "dbb648f7364f48a792d320ccd83cd0e3": {
      "model_module": "@jupyter-widgets/controls",
      "model_module_version": "2.0.0",
      "model_name": "LinkModel",
      "state": {
       "source": [
        "IPY_MODEL_82c7351dfdc64a55b1d75f673d8393ab",
        "value"
       ],
       "target": [
        "IPY_MODEL_df0616bf85b14134a78b4784020209e8",
        "frame"
       ]
      }
     },
     "dc1690479ec5479eaef27e2cd78c27ba": {
      "model_module": "@jupyter-widgets/base",
      "model_module_version": "2.0.0",
      "model_name": "LayoutModel",
      "state": {}
     },
     "dc876ba3854942899eb5372c06f505ca": {
      "model_module": "@jupyter-widgets/base",
      "model_module_version": "2.0.0",
      "model_name": "LayoutModel",
      "state": {
       "width": "34px"
      }
     },
     "ddb8cca9554d4422b1eded9d979f800f": {
      "model_module": "@jupyter-widgets/base",
      "model_module_version": "2.0.0",
      "model_name": "LayoutModel",
      "state": {}
     },
     "de6e5961fb094ce89b8df2f672e9573d": {
      "model_module": "@jupyter-widgets/controls",
      "model_module_version": "2.0.0",
      "model_name": "LinkModel",
      "state": {
       "source": [
        "IPY_MODEL_0351bcf261604376965b008b4f47cc50",
        "max"
       ],
       "target": [
        "IPY_MODEL_ac2104d8a0f440e2828dcec4ad83cb74",
        "max_frame"
       ]
      }
     },
     "dfa09f1dc2fb4c3e866f13a19e2699b1": {
      "model_module": "@jupyter-widgets/base",
      "model_module_version": "2.0.0",
      "model_name": "LayoutModel",
      "state": {}
     },
     "e3b213cea8404192b8cc5a11d7e9c3b4": {
      "model_module": "@jupyter-widgets/controls",
      "model_module_version": "2.0.0",
      "model_name": "LinkModel",
      "state": {
       "source": [
        "IPY_MODEL_82c7351dfdc64a55b1d75f673d8393ab",
        "value"
       ],
       "target": [
        "IPY_MODEL_4a4f13b149c3464e8f1a9e8380705f80",
        "value"
       ]
      }
     },
     "e4df0adc7b0c457ba5a8037521709dcb": {
      "model_module": "@jupyter-widgets/base",
      "model_module_version": "2.0.0",
      "model_name": "LayoutModel",
      "state": {
       "width": "34px"
      }
     },
     "e77d2377c4ca468d8b2adeb545a28c7d": {
      "model_module": "@jupyter-widgets/controls",
      "model_module_version": "2.0.0",
      "model_name": "IntSliderModel",
      "state": {
       "behavior": "drag-tap",
       "layout": "IPY_MODEL_65756d5187834968a902bf182895d198",
       "max": 0,
       "style": "IPY_MODEL_17bd934ce84a4b5ab00dbcc58fa9455a"
      }
     },
     "e81f43c59205482ea4fa1a1a71ca1547": {
      "model_module": "@jupyter-widgets/base",
      "model_module_version": "2.0.0",
      "model_name": "LayoutModel",
      "state": {}
     },
     "eb587622a2104d38b2e565bb18d0c167": {
      "model_module": "@jupyter-widgets/base",
      "model_module_version": "2.0.0",
      "model_name": "LayoutModel",
      "state": {}
     },
     "eb9f6cb1dd9e4b11a60070e358373427": {
      "model_module": "@jupyter-widgets/controls",
      "model_module_version": "2.0.0",
      "model_name": "ButtonModel",
      "state": {
       "icon": "compress",
       "layout": "IPY_MODEL_f020e8bf76dd487bb67d48165b846e0b",
       "style": "IPY_MODEL_81fc1b45c58649aa8a653761dc2e9ab5",
       "tooltip": null
      }
     },
     "ec12d6e664ab4b518efd2198d1e64d36": {
      "model_module": "@jupyter-widgets/controls",
      "model_module_version": "2.0.0",
      "model_name": "LinkModel",
      "state": {
       "source": [
        "IPY_MODEL_96180dc20f794c24a33541f2c322f423",
        "max"
       ],
       "target": [
        "IPY_MODEL_339c138c786f482888d29962707ea4f7",
        "max_frame"
       ]
      }
     },
     "eefefee801b346c8986fdda9b792638d": {
      "model_module": "@jupyter-widgets/base",
      "model_module_version": "2.0.0",
      "model_name": "LayoutModel",
      "state": {}
     },
     "f020e8bf76dd487bb67d48165b846e0b": {
      "model_module": "@jupyter-widgets/base",
      "model_module_version": "2.0.0",
      "model_name": "LayoutModel",
      "state": {
       "width": "34px"
      }
     },
     "f15a217ab2a04d92b2e641e632d84553": {
      "model_module": "@jupyter-widgets/controls",
      "model_module_version": "2.0.0",
      "model_name": "ImageModel",
      "state": {
       "layout": "IPY_MODEL_9ee2dae4ac1b4b2e9bf384a359f5968b",
       "width": "900.0"
      }
     },
     "f3c2869295544e2fb555d3bdc1aa517c": {
      "model_module": "@jupyter-widgets/controls",
      "model_module_version": "2.0.0",
      "model_name": "LinkModel",
      "state": {
       "source": [
        "IPY_MODEL_c5df7c043e4b4400b9836c66087919df",
        "max"
       ],
       "target": [
        "IPY_MODEL_d5fa65e7da4248f7a959a0ca194daa11",
        "max_frame"
       ]
      }
     },
     "f3e70913dce548089dad9b8e97d5c778": {
      "model_module": "@jupyter-widgets/base",
      "model_module_version": "2.0.0",
      "model_name": "LayoutModel",
      "state": {}
     },
     "f520a1245eeb4990b25d5474f7ad086a": {
      "model_module": "@jupyter-widgets/controls",
      "model_module_version": "2.0.0",
      "model_name": "LinkModel",
      "state": {
       "source": [
        "IPY_MODEL_c323e5157b3f4be29407005f10e38658",
        "value"
       ],
       "target": [
        "IPY_MODEL_a5031fe52b514438ac9cd387a6fb9360",
        "frame"
       ]
      }
     },
     "f52c72834ca944298f27351a6b14ae98": {
      "model_module": "@jupyter-widgets/base",
      "model_module_version": "2.0.0",
      "model_name": "LayoutModel",
      "state": {}
     },
     "f6ccf4e923e54f2aa50e1e05ea327bff": {
      "model_module": "@jupyter-widgets/controls",
      "model_module_version": "2.0.0",
      "model_name": "ImageModel",
      "state": {
       "layout": "IPY_MODEL_9fe49a3745334da48b166c0bbef1ca3b",
       "width": "900.0"
      }
     },
     "f824104ed7bd4517a1a8a4d356da0712": {
      "model_module": "@jupyter-widgets/controls",
      "model_module_version": "2.0.0",
      "model_name": "SliderStyleModel",
      "state": {
       "description_width": ""
      }
     },
     "fdcf0ec591104a3794733fd472a2274d": {
      "model_module": "@jupyter-widgets/controls",
      "model_module_version": "2.0.0",
      "model_name": "LinkModel",
      "state": {
       "source": [
        "IPY_MODEL_180c833d93184f739ff626d5cbe49cfd",
        "value"
       ],
       "target": [
        "IPY_MODEL_ac2104d8a0f440e2828dcec4ad83cb74",
        "frame"
       ]
      }
     },
     "fe81c4c0475a4f8c87e62125573eda45": {
      "model_module": "@jupyter-widgets/controls",
      "model_module_version": "2.0.0",
      "model_name": "HBoxModel",
      "state": {
       "children": [
        "IPY_MODEL_82c7351dfdc64a55b1d75f673d8393ab",
        "IPY_MODEL_4a4f13b149c3464e8f1a9e8380705f80"
       ],
       "layout": "IPY_MODEL_2cd43eda91394ae29cf1761af5aced79"
      }
     }
    },
    "version_major": 2,
    "version_minor": 0
   }
  }
 },
 "nbformat": 4,
 "nbformat_minor": 4
}
