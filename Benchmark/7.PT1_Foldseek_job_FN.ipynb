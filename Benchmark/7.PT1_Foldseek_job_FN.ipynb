{
 "cells": [
  {
   "cell_type": "markdown",
   "metadata": {},
   "source": [
    "# Goal : Scan the 3D predcitions of the FP with the Dpo fold database. \n",
    "\n",
    "### A. Run Foldseek\n",
    "### B. Get the hits with good proba\n",
    "### C. Report the folds\n",
    "***"
   ]
  },
  {
   "cell_type": "markdown",
   "metadata": {},
   "source": [
    "# A"
   ]
  },
  {
   "cell_type": "code",
   "execution_count": 1,
   "metadata": {
    "collapsed": true,
    "jupyter": {
     "outputs_hidden": true
    },
    "scrolled": true,
    "tags": []
   },
   "outputs": [
    {
     "name": "stdout",
     "output_type": "stream",
     "text": [
      "b'/bin/sh: 1: foldseek: not found\\n' None\n",
      "b'/bin/sh: 1: foldseek: not found\\n' None\n",
      "b'/bin/sh: 1: foldseek: not found\\n' None\n",
      "b'/bin/sh: 1: foldseek: not found\\n' None\n",
      "b'/bin/sh: 1: foldseek: not found\\n' None\n",
      "b'/bin/sh: 1: foldseek: not found\\n' None\n",
      "b'/bin/sh: 1: foldseek: not found\\n' None\n",
      "b'/bin/sh: 1: foldseek: not found\\n' None\n",
      "b'/bin/sh: 1: foldseek: not found\\n' None\n",
      "b'/bin/sh: 1: foldseek: not found\\n' None\n",
      "b'/bin/sh: 1: foldseek: not found\\n' None\n",
      "b'/bin/sh: 1: foldseek: not found\\n' None\n",
      "b'/bin/sh: 1: foldseek: not found\\n' None\n",
      "b'/bin/sh: 1: foldseek: not found\\n' None\n",
      "b'/bin/sh: 1: foldseek: not found\\n' None\n",
      "b'/bin/sh: 1: foldseek: not found\\n' None\n",
      "b'/bin/sh: 1: foldseek: not found\\n' None\n",
      "b'/bin/sh: 1: foldseek: not found\\n' None\n",
      "b'/bin/sh: 1: foldseek: not found\\n' None\n",
      "b'/bin/sh: 1: foldseek: not found\\n' None\n",
      "b'/bin/sh: 1: foldseek: not found\\n' None\n",
      "b'/bin/sh: 1: foldseek: not found\\n' None\n",
      "b'/bin/sh: 1: foldseek: not found\\n' None\n",
      "b'/bin/sh: 1: foldseek: not found\\n' None\n",
      "b'/bin/sh: 1: foldseek: not found\\n' None\n",
      "b'/bin/sh: 1: foldseek: not found\\n' None\n",
      "b'/bin/sh: 1: foldseek: not found\\n' None\n",
      "b'/bin/sh: 1: foldseek: not found\\n' None\n",
      "b'/bin/sh: 1: foldseek: not found\\n' None\n",
      "b'/bin/sh: 1: foldseek: not found\\n' None\n",
      "b'/bin/sh: 1: foldseek: not found\\n' None\n",
      "b'/bin/sh: 1: foldseek: not found\\n' None\n",
      "b'/bin/sh: 1: foldseek: not found\\n' None\n",
      "b'/bin/sh: 1: foldseek: not found\\n' None\n",
      "b'/bin/sh: 1: foldseek: not found\\n' None\n",
      "b'/bin/sh: 1: foldseek: not found\\n' None\n",
      "b'/bin/sh: 1: foldseek: not found\\n' None\n",
      "b'/bin/sh: 1: foldseek: not found\\n' None\n",
      "b'/bin/sh: 1: foldseek: not found\\n' None\n",
      "b'/bin/sh: 1: foldseek: not found\\n' None\n",
      "b'/bin/sh: 1: foldseek: not found\\n' None\n",
      "b'/bin/sh: 1: foldseek: not found\\n' None\n",
      "b'/bin/sh: 1: foldseek: not found\\n' None\n",
      "b'/bin/sh: 1: foldseek: not found\\n' None\n",
      "b'/bin/sh: 1: foldseek: not found\\n' None\n",
      "b'/bin/sh: 1: foldseek: not found\\n' None\n",
      "b'/bin/sh: 1: foldseek: not found\\n' None\n",
      "b'/bin/sh: 1: foldseek: not found\\n' None\n",
      "b'/bin/sh: 1: foldseek: not found\\n' None\n",
      "b'/bin/sh: 1: foldseek: not found\\n' None\n",
      "b'/bin/sh: 1: foldseek: not found\\n' None\n",
      "b'/bin/sh: 1: foldseek: not found\\n' None\n",
      "b'/bin/sh: 1: foldseek: not found\\n' None\n",
      "b'/bin/sh: 1: foldseek: not found\\n' None\n",
      "b'/bin/sh: 1: foldseek: not found\\n' None\n",
      "b'/bin/sh: 1: foldseek: not found\\n' None\n",
      "b'/bin/sh: 1: foldseek: not found\\n' None\n",
      "b'/bin/sh: 1: foldseek: not found\\n' None\n",
      "b'/bin/sh: 1: foldseek: not found\\n' None\n",
      "b'/bin/sh: 1: foldseek: not found\\n' None\n",
      "b'/bin/sh: 1: foldseek: not found\\n' None\n",
      "b'/bin/sh: 1: foldseek: not found\\n' None\n",
      "b'/bin/sh: 1: foldseek: not found\\n' None\n",
      "b'/bin/sh: 1: foldseek: not found\\n' None\n",
      "b'/bin/sh: 1: foldseek: not found\\n' None\n",
      "b'/bin/sh: 1: foldseek: not found\\n' None\n",
      "b'/bin/sh: 1: foldseek: not found\\n' None\n",
      "b'/bin/sh: 1: foldseek: not found\\n' None\n",
      "b'/bin/sh: 1: foldseek: not found\\n' None\n",
      "b'/bin/sh: 1: foldseek: not found\\n' None\n",
      "b'/bin/sh: 1: foldseek: not found\\n' None\n",
      "b'/bin/sh: 1: foldseek: not found\\n' None\n",
      "b'/bin/sh: 1: foldseek: not found\\n' None\n",
      "b'/bin/sh: 1: foldseek: not found\\n' None\n",
      "b'/bin/sh: 1: foldseek: not found\\n' None\n",
      "b'/bin/sh: 1: foldseek: not found\\n' None\n",
      "b'/bin/sh: 1: foldseek: not found\\n' None\n",
      "b'/bin/sh: 1: foldseek: not found\\n' None\n",
      "b'/bin/sh: 1: foldseek: not found\\n' None\n",
      "b'/bin/sh: 1: foldseek: not found\\n' None\n",
      "b'/bin/sh: 1: foldseek: not found\\n' None\n",
      "b'/bin/sh: 1: foldseek: not found\\n' None\n",
      "b'/bin/sh: 1: foldseek: not found\\n' None\n",
      "b'/bin/sh: 1: foldseek: not found\\n' None\n",
      "b'/bin/sh: 1: foldseek: not found\\n' None\n",
      "b'/bin/sh: 1: foldseek: not found\\n' None\n",
      "b'/bin/sh: 1: foldseek: not found\\n' None\n",
      "b'/bin/sh: 1: foldseek: not found\\n' None\n",
      "b'/bin/sh: 1: foldseek: not found\\n' None\n",
      "b'/bin/sh: 1: foldseek: not found\\n' None\n",
      "b'/bin/sh: 1: foldseek: not found\\n' None\n",
      "b'/bin/sh: 1: foldseek: not found\\n' None\n",
      "b'/bin/sh: 1: foldseek: not found\\n' None\n",
      "b'/bin/sh: 1: foldseek: not found\\n' None\n",
      "b'/bin/sh: 1: foldseek: not found\\n' None\n",
      "b'/bin/sh: 1: foldseek: not found\\n' None\n",
      "b'/bin/sh: 1: foldseek: not found\\n' None\n",
      "b'/bin/sh: 1: foldseek: not found\\n' None\n",
      "b'/bin/sh: 1: foldseek: not found\\n' None\n",
      "b'/bin/sh: 1: foldseek: not found\\n' None\n",
      "b'/bin/sh: 1: foldseek: not found\\n' None\n",
      "b'/bin/sh: 1: foldseek: not found\\n' None\n",
      "b'/bin/sh: 1: foldseek: not found\\n' None\n",
      "b'/bin/sh: 1: foldseek: not found\\n' None\n",
      "b'/bin/sh: 1: foldseek: not found\\n' None\n",
      "b'/bin/sh: 1: foldseek: not found\\n' None\n",
      "b'/bin/sh: 1: foldseek: not found\\n' None\n",
      "b'/bin/sh: 1: foldseek: not found\\n' None\n",
      "b'/bin/sh: 1: foldseek: not found\\n' None\n",
      "b'/bin/sh: 1: foldseek: not found\\n' None\n",
      "b'/bin/sh: 1: foldseek: not found\\n' None\n",
      "b'/bin/sh: 1: foldseek: not found\\n' None\n",
      "b'/bin/sh: 1: foldseek: not found\\n' None\n",
      "b'/bin/sh: 1: foldseek: not found\\n' None\n",
      "b'/bin/sh: 1: foldseek: not found\\n' None\n",
      "b'/bin/sh: 1: foldseek: not found\\n' None\n",
      "b'/bin/sh: 1: foldseek: not found\\n' None\n",
      "b'/bin/sh: 1: foldseek: not found\\n' None\n",
      "b'/bin/sh: 1: foldseek: not found\\n' None\n",
      "b'/bin/sh: 1: foldseek: not found\\n' None\n",
      "b'/bin/sh: 1: foldseek: not found\\n' None\n",
      "b'/bin/sh: 1: foldseek: not found\\n' None\n"
     ]
    }
   ],
   "source": [
    "import subprocess\n",
    "import os\n",
    "\n",
    "path_project = \"/media/concha-eloko/Linux/PhageDEPOdetection\"\n",
    "path_pdb = f\"{path_project}/FN_FP_deposcope_032024/full_missing_dpos_esmfold/FN_pdbs\"\n",
    "path_db = f\"/media/concha-eloko/Linux/depolymerase_building/RefDepo_domains/RefDepo_domains_db\"\n",
    "path_tmp = f\"{path_project}/tmp\"\n",
    "\n",
    "paths = [f\"{path_pdb}/{file}\" for file in os.listdir(f\"{path_pdb}\")]\n",
    "\n",
    "\n",
    "def seek_beta_helix(path_in) :\n",
    "    dir_out = f\"{path_project}/FN_deposcope_pdb_2303_Foldseek\"\n",
    "    protein_id = path_in.split(\"/\")[-1].split(\".pdb\")[0]\n",
    "    path_out = f\"{dir_out}/{protein_id}.out\"\n",
    "    if os.path.isfile(path_out) == False :\n",
    "        print(protein_id)\n",
    "        output_frmt = f\"query,target,pident,alnlen,gapopen,qstart,qend,tstart,tend,bits,prob\"\n",
    "        seek = f\"foldseek easy-search {path_in} {path_db} {path_out} {path_tmp} --format-output {output_frmt}\"\n",
    "        #seek = f\"foldseek easy-search {path_in} {path_db} {path_out}.html {path_tmp} --format-mode 3\"\n",
    "        seek_process = subprocess.Popen(seek, shell=True, stdout=subprocess.PIPE, stderr=subprocess.STDOUT)\n",
    "        press_out, press_err = seek_process.communicate()\n",
    "        print (press_out, press_err)\n",
    "\n",
    "\n",
    "for path in paths :\n",
    "    seek_beta_helix(path)\n",
    "\n",
    "\n",
    "\n"
   ]
  },
  {
   "cell_type": "markdown",
   "metadata": {},
   "source": [
    "***\n",
    "## B  "
   ]
  },
  {
   "cell_type": "markdown",
   "metadata": {},
   "source": [
    "> Get a list of the failed Dpos"
   ]
  },
  {
   "cell_type": "code",
   "execution_count": 1,
   "metadata": {},
   "outputs": [],
   "source": [
    "import pandas as pd\n",
    "import os \n",
    "\n",
    "path_project = \"/media/concha-eloko/Linux/PhageDEPOdetection\"\n",
    "dir_out = f\"{path_project}/FN_deposcope_pdb_2303_Foldseek\"\n",
    "\n",
    "path_info = f\"/media/concha-eloko/Linux/depolymerase_building/depolymerase_fold.csv\"\n",
    "info_df = pd.read_csv(path_info , sep = \"\\t\", header = 0)\n",
    "\n",
    "FN_results = {}\n",
    "no_structure = []\n",
    "outputs = [f\"{dir_out}/{file}\" for file in os.listdir(dir_out) if file[-3:]==\"out\"]\n",
    "header_seekfold = [\"query\",\"target\",\"pident\",\"alnlen\",\"gapopen\",\"qstart\",\"qend\",\"tstart\",\"tend\",\"bits\",\"prob\"]\n",
    "\n",
    "for results in outputs :\n",
    "    results_df = pd.read_csv(f\"{results}\", sep = \"\\t\" , names = header_seekfold)\n",
    "    for _,row in results_df.iterrows() :\n",
    "        fold = info_df[info_df[\"ID\"] == row[\"target\"]][\"Folds\"].values[0]\n",
    "        if fold != \"jelly-roll\" :\n",
    "            if row[\"prob\"] >= 0.2 :\n",
    "                FN_results[row[\"query\"]]= (row[\"prob\"],row[\"target\"] , fold)\n",
    "                break\n",
    "    else :\n",
    "        no_structure.append(row[\"query\"])\n",
    "                \n"
   ]
  },
  {
   "cell_type": "code",
   "execution_count": 2,
   "metadata": {
    "scrolled": true
   },
   "outputs": [
    {
     "name": "stdout",
     "output_type": "stream",
     "text": [
      "{'GU323708.1__ADA79896.pdb': (0.994, 'AF-A0A202B6A7-F1-model_v4.pdb', 'TIM beta/alpha-barrel'),\n",
      " 'GU323708.1__ADA79897.pdb': (0.214, 'AF-A0A4R4ZFU1-F1-model_v4.pdb', 'alpha/alpha toroid'),\n",
      " 'NC_019487.1__YP_007003328.pdb': (1.0, 'AF-A0A7C4BP91-F1-model_v4.pdb', '6-bladed beta-propeller'),\n",
      " 'NC_021856.1__YP_008318429.pdb': (1.0, 'AF-A0A496B6X2-F1-model_v4.pdb', '6-bladed beta-propeller'),\n",
      " 'NC_025422.1__AGS80957.pdb': (0.981, 'AF-A0A202B6A7-F1-model_v4.pdb', 'TIM beta/alpha-barrel')}\n"
     ]
    }
   ],
   "source": [
    "import pprint\n",
    "pp = pprint.PrettyPrinter(width = 150, sort_dicts = True, compact = False)\n",
    "pp.pprint(FN_results)\n",
    "\n",
    "\n"
   ]
  },
  {
   "cell_type": "code",
   "execution_count": 3,
   "metadata": {},
   "outputs": [
    {
     "data": {
      "text/plain": [
       "(14, 4)"
      ]
     },
     "execution_count": 3,
     "metadata": {},
     "output_type": "execute_result"
    }
   ],
   "source": [
    "len(no_structure) , len(FN_results)"
   ]
  },
  {
   "cell_type": "code",
   "execution_count": 3,
   "metadata": {},
   "outputs": [
    {
     "data": {
      "text/plain": [
       "['NC_020083.1__AFX93507.pdb',\n",
       " 'NC_017972.1__AFH14728.pdb',\n",
       " 'NC_018836.1__YP_006906201.pdb',\n",
       " 'FR671405.1__CBW38917.pdb',\n",
       " 'KJ417497.1__AHN84645.pdb',\n",
       " 'NC_041856.1__AFV51346.pdb',\n",
       " 'NC_020081.2__YP_007349243.pdb',\n",
       " 'NC_019414.1__YP_006990138.pdb',\n",
       " 'KC700556.1__YP_008050881.pdb',\n",
       " 'NC_021856.1__YP_008318292.pdb',\n",
       " 'KC700558.1__YP_008060258.pdb',\n",
       " 'FR671410.1__CBW39181.pdb',\n",
       " 'FR671411.1__CBW39235.pdb',\n",
       " 'NC_024792.1__YP_009056510.pdb',\n",
       " 'JX262376.1__AFO10889.pdb',\n",
       " 'HG799496.1__YP_009042723.pdb',\n",
       " 'KC700557.1__YP_008051427.pdb',\n",
       " 'HG799497.1__YP_009043178.pdb',\n",
       " 'FR671406.1__CBW38974.pdb',\n",
       " 'FR671407.1__CBW39031.pdb']"
      ]
     },
     "execution_count": 3,
     "metadata": {},
     "output_type": "execute_result"
    }
   ],
   "source": [
    "no_structure"
   ]
  },
  {
   "cell_type": "code",
   "execution_count": 5,
   "metadata": {},
   "outputs": [],
   "source": [
    "no_struc_0 = ['NC_020083.1__AFX93507.pdb',\n",
    " 'NC_017972.1__AFH14728.pdb',\n",
    " 'NC_018836.1__YP_006906201.pdb',\n",
    " 'FR671405.1__CBW38917.pdb',\n",
    " 'KJ417497.1__AHN84645.pdb',\n",
    " 'NC_041856.1__AFV51346.pdb',\n",
    " 'NC_020081.2__YP_007349243.pdb',\n",
    " 'NC_019414.1__YP_006990138.pdb',\n",
    " 'KC700556.1__YP_008050881.pdb',\n",
    " 'KC700558.1__YP_008060258.pdb',\n",
    " 'FR671411.1__CBW39235.pdb',\n",
    " 'KC700557.1__YP_008051427.pdb',\n",
    " 'HG799497.1__YP_009043178.pdb',\n",
    " 'FR671407.1__CBW39031.pdb']\n",
    "\n"
   ]
  },
  {
   "cell_type": "code",
   "execution_count": 6,
   "metadata": {},
   "outputs": [
    {
     "name": "stdout",
     "output_type": "stream",
     "text": [
      "NC_021856.1__YP_008318292.pdb\n",
      "FR671410.1__CBW39181.pdb\n",
      "NC_024792.1__YP_009056510.pdb\n",
      "JX262376.1__AFO10889.pdb\n",
      "HG799496.1__YP_009042723.pdb\n",
      "FR671406.1__CBW38974.pdb\n"
     ]
    }
   ],
   "source": [
    "for prt in no_structure : \n",
    "    if prt not in no_struc_0 :\n",
    "        print(prt)"
   ]
  },
  {
   "cell_type": "code",
   "execution_count": null,
   "metadata": {},
   "outputs": [],
   "source": []
  }
 ],
 "metadata": {
  "kernelspec": {
   "display_name": "blast_life",
   "language": "python",
   "name": "blast_life"
  },
  "language_info": {
   "codemirror_mode": {
    "name": "ipython",
    "version": 3
   },
   "file_extension": ".py",
   "mimetype": "text/x-python",
   "name": "python",
   "nbconvert_exporter": "python",
   "pygments_lexer": "ipython3",
   "version": "3.11.4"
  },
  "widgets": {
   "application/vnd.jupyter.widget-state+json": {
    "state": {},
    "version_major": 2,
    "version_minor": 0
   }
  }
 },
 "nbformat": 4,
 "nbformat_minor": 4
}
